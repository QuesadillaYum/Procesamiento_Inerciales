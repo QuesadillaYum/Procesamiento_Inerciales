{
 "cells": [
  {
   "cell_type": "markdown",
   "metadata": {},
   "source": [
    "Librerias"
   ]
  },
  {
   "cell_type": "code",
   "execution_count": 11,
   "metadata": {},
   "outputs": [],
   "source": [
    "import numpy as np\n",
    "import pandas as pd\n",
    "import matplotlib.pyplot as plt\n",
    "import tsfel\n"
   ]
  },
  {
   "cell_type": "markdown",
   "metadata": {},
   "source": [
    "Lectura de archivos"
   ]
  },
  {
   "cell_type": "code",
   "execution_count": 7,
   "metadata": {},
   "outputs": [],
   "source": [
    "data1=pd.read_csv('./Caida corrected/001.csv')\n",
    "data2=pd.read_csv('./Caida corrected/002.csv')\n",
    "data3=pd.read_csv('./Caida corrected/003.csv')\n",
    "data4=pd.read_csv('./Caida corrected/004.csv')\n",
    "data5=pd.read_csv('./Caida corrected/005.csv')\n",
    "data6=pd.read_csv('./Caida corrected/006.csv')\n",
    "data7=pd.read_csv('./Caida corrected/007.csv')\n",
    "data8=pd.read_csv('./Caida corrected/008.csv')"
   ]
  },
  {
   "cell_type": "markdown",
   "metadata": {},
   "source": [
    "# Ejemplo visualizacion data1"
   ]
  },
  {
   "cell_type": "code",
   "execution_count": 13,
   "metadata": {},
   "outputs": [
    {
     "data": {
      "text/html": [
       "<div>\n",
       "<style scoped>\n",
       "    .dataframe tbody tr th:only-of-type {\n",
       "        vertical-align: middle;\n",
       "    }\n",
       "\n",
       "    .dataframe tbody tr th {\n",
       "        vertical-align: top;\n",
       "    }\n",
       "\n",
       "    .dataframe thead th {\n",
       "        text-align: right;\n",
       "    }\n",
       "</style>\n",
       "<table border=\"1\" class=\"dataframe\">\n",
       "  <thead>\n",
       "    <tr style=\"text-align: right;\">\n",
       "      <th></th>\n",
       "      <th>time</th>\n",
       "      <th>ax</th>\n",
       "      <th>ay</th>\n",
       "      <th>az</th>\n",
       "      <th>wx</th>\n",
       "      <th>wy</th>\n",
       "      <th>wz</th>\n",
       "    </tr>\n",
       "  </thead>\n",
       "  <tbody>\n",
       "    <tr>\n",
       "      <th>count</th>\n",
       "      <td>30748.000000</td>\n",
       "      <td>30748.000000</td>\n",
       "      <td>30748.00000</td>\n",
       "      <td>30748.000000</td>\n",
       "      <td>30748.000000</td>\n",
       "      <td>30748.000000</td>\n",
       "      <td>30748.000000</td>\n",
       "    </tr>\n",
       "    <tr>\n",
       "      <th>mean</th>\n",
       "      <td>23.644002</td>\n",
       "      <td>-0.020341</td>\n",
       "      <td>-0.11006</td>\n",
       "      <td>-0.139820</td>\n",
       "      <td>0.039613</td>\n",
       "      <td>0.031180</td>\n",
       "      <td>0.016680</td>\n",
       "    </tr>\n",
       "    <tr>\n",
       "      <th>std</th>\n",
       "      <td>13.655149</td>\n",
       "      <td>2.151696</td>\n",
       "      <td>1.91727</td>\n",
       "      <td>2.949423</td>\n",
       "      <td>0.816811</td>\n",
       "      <td>1.155325</td>\n",
       "      <td>0.600273</td>\n",
       "    </tr>\n",
       "    <tr>\n",
       "      <th>min</th>\n",
       "      <td>0.003000</td>\n",
       "      <td>-46.760000</td>\n",
       "      <td>-43.85000</td>\n",
       "      <td>-65.380000</td>\n",
       "      <td>-12.460000</td>\n",
       "      <td>-6.240000</td>\n",
       "      <td>-6.520000</td>\n",
       "    </tr>\n",
       "    <tr>\n",
       "      <th>25%</th>\n",
       "      <td>11.817250</td>\n",
       "      <td>-0.300000</td>\n",
       "      <td>-0.19000</td>\n",
       "      <td>-0.420000</td>\n",
       "      <td>-0.170000</td>\n",
       "      <td>-0.160000</td>\n",
       "      <td>-0.050000</td>\n",
       "    </tr>\n",
       "    <tr>\n",
       "      <th>50%</th>\n",
       "      <td>23.642000</td>\n",
       "      <td>0.000000</td>\n",
       "      <td>0.01000</td>\n",
       "      <td>-0.010000</td>\n",
       "      <td>0.000000</td>\n",
       "      <td>0.000000</td>\n",
       "      <td>-0.000000</td>\n",
       "    </tr>\n",
       "    <tr>\n",
       "      <th>75%</th>\n",
       "      <td>35.467000</td>\n",
       "      <td>0.230000</td>\n",
       "      <td>0.12000</td>\n",
       "      <td>0.110000</td>\n",
       "      <td>0.130000</td>\n",
       "      <td>0.182500</td>\n",
       "      <td>0.080000</td>\n",
       "    </tr>\n",
       "    <tr>\n",
       "      <th>max</th>\n",
       "      <td>47.295000</td>\n",
       "      <td>36.280000</td>\n",
       "      <td>20.30000</td>\n",
       "      <td>77.110000</td>\n",
       "      <td>4.270000</td>\n",
       "      <td>17.440000</td>\n",
       "      <td>10.060000</td>\n",
       "    </tr>\n",
       "  </tbody>\n",
       "</table>\n",
       "</div>"
      ],
      "text/plain": [
       "               time            ax           ay            az            wx  \\\n",
       "count  30748.000000  30748.000000  30748.00000  30748.000000  30748.000000   \n",
       "mean      23.644002     -0.020341     -0.11006     -0.139820      0.039613   \n",
       "std       13.655149      2.151696      1.91727      2.949423      0.816811   \n",
       "min        0.003000    -46.760000    -43.85000    -65.380000    -12.460000   \n",
       "25%       11.817250     -0.300000     -0.19000     -0.420000     -0.170000   \n",
       "50%       23.642000      0.000000      0.01000     -0.010000      0.000000   \n",
       "75%       35.467000      0.230000      0.12000      0.110000      0.130000   \n",
       "max       47.295000     36.280000     20.30000     77.110000      4.270000   \n",
       "\n",
       "                 wy            wz  \n",
       "count  30748.000000  30748.000000  \n",
       "mean       0.031180      0.016680  \n",
       "std        1.155325      0.600273  \n",
       "min       -6.240000     -6.520000  \n",
       "25%       -0.160000     -0.050000  \n",
       "50%        0.000000     -0.000000  \n",
       "75%        0.182500      0.080000  \n",
       "max       17.440000     10.060000  "
      ]
     },
     "execution_count": 13,
     "metadata": {},
     "output_type": "execute_result"
    }
   ],
   "source": [
    "data1.describe()"
   ]
  },
  {
   "cell_type": "code",
   "execution_count": 42,
   "metadata": {},
   "outputs": [
    {
     "data": {
      "text/plain": [
       "<matplotlib.legend.Legend at 0x1cdf1708a00>"
      ]
     },
     "execution_count": 42,
     "metadata": {},
     "output_type": "execute_result"
    },
    {
     "data": {
      "image/png": "[encoded data removed]",
      "text/plain": [
       "<Figure size 432x288 with 1 Axes>"
      ]
     },
     "metadata": {
      "needs_background": "light"
     },
     "output_type": "display_data"
    }
   ],
   "source": [
    "\n",
    "plt.show()\n",
    "plt.title(\"Data 1\")\n",
    "plt.xlabel(\"Tiempo\")\n",
    "plt.ylabel(\"Acelerometro (m/s^2)\")\n",
    "plt.plot(data1['time'], data1['az'], label='az')\n",
    "plt.plot(data1['time'], data1['ax'], label='ax')\n",
    "plt.plot(data1['time'], data1['ay'], label='ay')\n",
    "plt.legend()\n"
   ]
  },
  {
   "cell_type": "code",
   "execution_count": 46,
   "metadata": {},
   "outputs": [
    {
     "data": {
      "text/plain": [
       "<matplotlib.legend.Legend at 0x1cdf0062a30>"
      ]
     },
     "execution_count": 46,
     "metadata": {},
     "output_type": "execute_result"
    },
    {
     "data": {
      "image/png": "[encoded data removed]",
      "text/plain": [
       "<Figure size 432x288 with 1 Axes>"
      ]
     },
     "metadata": {
      "needs_background": "light"
     },
     "output_type": "display_data"
    }
   ],
   "source": [
    "plt.show()\n",
    "plt.title(\"Data 1\")\n",
    "plt.xlabel(\"Tiempo\")\n",
    "plt.ylabel(\"Giroscopio (grados/s)\")\n",
    "plt.plot(data1['time'], data1['wy'], label='wy')\n",
    "plt.plot(data1['time'], data1['wx'], label='wx')\n",
    "plt.plot(data1['time'], data1['wz'], label='wz')\n",
    "plt.legend()"
   ]
  },
  {
   "cell_type": "markdown",
   "metadata": {},
   "source": [
    "# Extrayendo caracteristicas Caida"
   ]
  },
  {
   "cell_type": "markdown",
   "metadata": {},
   "source": [
    "### data1"
   ]
  },
  {
   "cell_type": "markdown",
   "metadata": {},
   "source": [
    "#### acelerometro"
   ]
  },
  {
   "cell_type": "code",
   "execution_count": 126,
   "metadata": {},
   "outputs": [
    {
     "name": "stdout",
     "output_type": "stream",
     "text": [
      "*** Feature extraction started ***\n",
      "18\n"
     ]
    },
    {
     "name": "stderr",
     "output_type": "stream",
     "text": [
      "<ipython-input-126-df1e27a574c8>:6: UserWarning: Using default sampling frequency set in configuration file.\n",
      "  ax=tsfel.time_series_features_extractor(cfg,data1[\"ax\"])\n"
     ]
    },
    {
     "data": {
      "text/html": [
       "\n",
       "              <p>\n",
       "                  Progress: 100% Complete\n",
       "              <p/>            \n",
       "              <progress\n",
       "                  value='18'\n",
       "                  max='18',\n",
       "                  style='width: 25%',\n",
       "              >\n",
       "                  18\n",
       "              </progress>\n",
       "\n",
       "    "
      ],
      "text/plain": [
       "<IPython.core.display.HTML object>"
      ]
     },
     "metadata": {},
     "output_type": "display_data"
    },
    {
     "name": "stdout",
     "output_type": "stream",
     "text": [
      "*** Feature extraction started ***\n",
      "18\n"
     ]
    },
    {
     "name": "stderr",
     "output_type": "stream",
     "text": [
      "<ipython-input-126-df1e27a574c8>:7: UserWarning: Using default sampling frequency set in configuration file.\n",
      "  ay=tsfel.time_series_features_extractor(cfg,data1[\"ay\"])\n"
     ]
    },
    {
     "data": {
      "text/html": [
       "\n",
       "              <p>\n",
       "                  Progress: 100% Complete\n",
       "              <p/>            \n",
       "              <progress\n",
       "                  value='18'\n",
       "                  max='18',\n",
       "                  style='width: 25%',\n",
       "              >\n",
       "                  18\n",
       "              </progress>\n",
       "\n",
       "    "
      ],
      "text/plain": [
       "<IPython.core.display.HTML object>"
      ]
     },
     "metadata": {},
     "output_type": "display_data"
    },
    {
     "name": "stdout",
     "output_type": "stream",
     "text": [
      "*** Feature extraction started ***\n",
      "18\n"
     ]
    },
    {
     "name": "stderr",
     "output_type": "stream",
     "text": [
      "<ipython-input-126-df1e27a574c8>:8: UserWarning: Using default sampling frequency set in configuration file.\n",
      "  az=tsfel.time_series_features_extractor(cfg,data1[\"az\"])\n"
     ]
    },
    {
     "data": {
      "text/html": [
       "\n",
       "              <p>\n",
       "                  Progress: 100% Complete\n",
       "              <p/>            \n",
       "              <progress\n",
       "                  value='18'\n",
       "                  max='18',\n",
       "                  style='width: 25%',\n",
       "              >\n",
       "                  18\n",
       "              </progress>\n",
       "\n",
       "    "
      ],
      "text/plain": [
       "<IPython.core.display.HTML object>"
      ]
     },
     "metadata": {},
     "output_type": "display_data"
    }
   ],
   "source": [
    "#Acelerometro \n",
    "cfg=tsfel.get_features_by_domain(\"temporal\")\n",
    "\n",
    "#ax=tsfel.time_series_features_extractor(cfg,data1[\"ax\"],window_size=5)\n",
    "#extract features\n",
    "ax=tsfel.time_series_features_extractor(cfg,data1[\"ax\"])\n",
    "ay=tsfel.time_series_features_extractor(cfg,data1[\"ay\"])\n",
    "az=tsfel.time_series_features_extractor(cfg,data1[\"az\"])\n"
   ]
  },
  {
   "cell_type": "markdown",
   "metadata": {},
   "source": [
    "#### Giroscopio"
   ]
  },
  {
   "cell_type": "code",
   "execution_count": 127,
   "metadata": {},
   "outputs": [
    {
     "name": "stdout",
     "output_type": "stream",
     "text": [
      "*** Feature extraction started ***\n",
      "18\n"
     ]
    },
    {
     "name": "stderr",
     "output_type": "stream",
     "text": [
      "<ipython-input-127-39f717bc72b7>:5: UserWarning: Using default sampling frequency set in configuration file.\n",
      "  wz=tsfel.time_series_features_extractor(cfg,data1[\"wz\"])\n"
     ]
    },
    {
     "data": {
      "text/html": [
       "\n",
       "              <p>\n",
       "                  Progress: 100% Complete\n",
       "              <p/>            \n",
       "              <progress\n",
       "                  value='18'\n",
       "                  max='18',\n",
       "                  style='width: 25%',\n",
       "              >\n",
       "                  18\n",
       "              </progress>\n",
       "\n",
       "    "
      ],
      "text/plain": [
       "<IPython.core.display.HTML object>"
      ]
     },
     "metadata": {},
     "output_type": "display_data"
    },
    {
     "name": "stdout",
     "output_type": "stream",
     "text": [
      "*** Feature extraction started ***\n",
      "18\n"
     ]
    },
    {
     "name": "stderr",
     "output_type": "stream",
     "text": [
      "<ipython-input-127-39f717bc72b7>:6: UserWarning: Using default sampling frequency set in configuration file.\n",
      "  wx=tsfel.time_series_features_extractor(cfg,data1[\"wx\"])\n"
     ]
    },
    {
     "data": {
      "text/html": [
       "\n",
       "              <p>\n",
       "                  Progress: 100% Complete\n",
       "              <p/>            \n",
       "              <progress\n",
       "                  value='18'\n",
       "                  max='18',\n",
       "                  style='width: 25%',\n",
       "              >\n",
       "                  18\n",
       "              </progress>\n",
       "\n",
       "    "
      ],
      "text/plain": [
       "<IPython.core.display.HTML object>"
      ]
     },
     "metadata": {},
     "output_type": "display_data"
    },
    {
     "name": "stdout",
     "output_type": "stream",
     "text": [
      "*** Feature extraction started ***\n",
      "18\n"
     ]
    },
    {
     "name": "stderr",
     "output_type": "stream",
     "text": [
      "<ipython-input-127-39f717bc72b7>:7: UserWarning: Using default sampling frequency set in configuration file.\n",
      "  wy=tsfel.time_series_features_extractor(cfg,data1[\"wy\"])\n"
     ]
    },
    {
     "data": {
      "text/html": [
       "\n",
       "              <p>\n",
       "                  Progress: 100% Complete\n",
       "              <p/>            \n",
       "              <progress\n",
       "                  value='18'\n",
       "                  max='18',\n",
       "                  style='width: 25%',\n",
       "              >\n",
       "                  18\n",
       "              </progress>\n",
       "\n",
       "    "
      ],
      "text/plain": [
       "<IPython.core.display.HTML object>"
      ]
     },
     "metadata": {},
     "output_type": "display_data"
    }
   ],
   "source": [
    "#Giroscopio \n",
    "cfg=tsfel.get_features_by_domain(\"temporal\")\n",
    "\n",
    "#extract features\n",
    "wz=tsfel.time_series_features_extractor(cfg,data1[\"wz\"])\n",
    "wx=tsfel.time_series_features_extractor(cfg,data1[\"wx\"])\n",
    "wy=tsfel.time_series_features_extractor(cfg,data1[\"wy\"])"
   ]
  },
  {
   "cell_type": "markdown",
   "metadata": {},
   "source": [
    "Creando nuevo dataframe"
   ]
  },
  {
   "cell_type": "code",
   "execution_count": 128,
   "metadata": {},
   "outputs": [
    {
     "data": {
      "text/html": [
       "<div>\n",
       "<style scoped>\n",
       "    .dataframe tbody tr th:only-of-type {\n",
       "        vertical-align: middle;\n",
       "    }\n",
       "\n",
       "    .dataframe tbody tr th {\n",
       "        vertical-align: top;\n",
       "    }\n",
       "\n",
       "    .dataframe thead th {\n",
       "        text-align: right;\n",
       "    }\n",
       "</style>\n",
       "<table border=\"1\" class=\"dataframe\">\n",
       "  <thead>\n",
       "    <tr style=\"text-align: right;\">\n",
       "      <th></th>\n",
       "      <th>out</th>\n",
       "    </tr>\n",
       "  </thead>\n",
       "  <tbody>\n",
       "    <tr>\n",
       "      <th>0</th>\n",
       "      <td>1</td>\n",
       "    </tr>\n",
       "  </tbody>\n",
       "</table>\n",
       "</div>"
      ],
      "text/plain": [
       "   out\n",
       "0    1"
      ]
     },
     "execution_count": 128,
     "metadata": {},
     "output_type": "execute_result"
    }
   ],
   "source": [
    "y={'out':[1]}\n",
    "y=pd.DataFrame(y)\n",
    "y"
   ]
  },
  {
   "cell_type": "code",
   "execution_count": 129,
   "metadata": {},
   "outputs": [
    {
     "data": {
      "text/html": [
       "<div>\n",
       "<style scoped>\n",
       "    .dataframe tbody tr th:only-of-type {\n",
       "        vertical-align: middle;\n",
       "    }\n",
       "\n",
       "    .dataframe tbody tr th {\n",
       "        vertical-align: top;\n",
       "    }\n",
       "\n",
       "    .dataframe thead th {\n",
       "        text-align: right;\n",
       "    }\n",
       "</style>\n",
       "<table border=\"1\" class=\"dataframe\">\n",
       "  <thead>\n",
       "    <tr style=\"text-align: right;\">\n",
       "      <th></th>\n",
       "      <th>0_Absolute energy</th>\n",
       "      <th>0_Area under the curve</th>\n",
       "      <th>0_Autocorrelation</th>\n",
       "      <th>0_Centroid</th>\n",
       "      <th>0_Entropy</th>\n",
       "      <th>0_Mean absolute diff</th>\n",
       "      <th>0_Mean diff</th>\n",
       "      <th>0_Median absolute diff</th>\n",
       "      <th>0_Median diff</th>\n",
       "      <th>0_Negative turning points</th>\n",
       "      <th>...</th>\n",
       "      <th>0_Negative turning points</th>\n",
       "      <th>0_Neighbourhood peaks</th>\n",
       "      <th>0_Peak to peak distance</th>\n",
       "      <th>0_Positive turning points</th>\n",
       "      <th>0_Signal distance</th>\n",
       "      <th>0_Slope</th>\n",
       "      <th>0_Sum absolute diff</th>\n",
       "      <th>0_Total energy</th>\n",
       "      <th>0_Zero crossing rate</th>\n",
       "      <th>out</th>\n",
       "    </tr>\n",
       "  </thead>\n",
       "  <tbody>\n",
       "    <tr>\n",
       "      <th>0</th>\n",
       "      <td>142365.0174</td>\n",
       "      <td>286.28765</td>\n",
       "      <td>142365.0174</td>\n",
       "      <td>148.380897</td>\n",
       "      <td>0.536766</td>\n",
       "      <td>0.068391</td>\n",
       "      <td>0.000006</td>\n",
       "      <td>0.0</td>\n",
       "      <td>0.0</td>\n",
       "      <td>121.0</td>\n",
       "      <td>...</td>\n",
       "      <td>30.0</td>\n",
       "      <td>12.0</td>\n",
       "      <td>16.58</td>\n",
       "      <td>26.0</td>\n",
       "      <td>30772.740382</td>\n",
       "      <td>0.000002</td>\n",
       "      <td>267.32</td>\n",
       "      <td>36.06053</td>\n",
       "      <td>422.0</td>\n",
       "      <td>1</td>\n",
       "    </tr>\n",
       "  </tbody>\n",
       "</table>\n",
       "<p>1 rows × 109 columns</p>\n",
       "</div>"
      ],
      "text/plain": [
       "   0_Absolute energy  0_Area under the curve  0_Autocorrelation  0_Centroid  \\\n",
       "0        142365.0174               286.28765        142365.0174  148.380897   \n",
       "\n",
       "   0_Entropy  0_Mean absolute diff  0_Mean diff  0_Median absolute diff  \\\n",
       "0   0.536766              0.068391     0.000006                     0.0   \n",
       "\n",
       "   0_Median diff  0_Negative turning points  ...  0_Negative turning points  \\\n",
       "0            0.0                      121.0  ...                       30.0   \n",
       "\n",
       "   0_Neighbourhood peaks  0_Peak to peak distance  0_Positive turning points  \\\n",
       "0                   12.0                    16.58                       26.0   \n",
       "\n",
       "   0_Signal distance   0_Slope  0_Sum absolute diff  0_Total energy  \\\n",
       "0       30772.740382  0.000002               267.32        36.06053   \n",
       "\n",
       "   0_Zero crossing rate  out  \n",
       "0                 422.0    1  \n",
       "\n",
       "[1 rows x 109 columns]"
      ]
     },
     "execution_count": 129,
     "metadata": {},
     "output_type": "execute_result"
    }
   ],
   "source": [
    "#Etiquetado 1=caida, 0=no caida\n",
    "New_df=pd.concat([ax,ay,az,wx,wy,wz,y],axis=1)\n",
    "New_df"
   ]
  },
  {
   "cell_type": "markdown",
   "metadata": {},
   "source": [
    "### Data2"
   ]
  },
  {
   "cell_type": "markdown",
   "metadata": {},
   "source": [
    "#### Giroscopio"
   ]
  },
  {
   "cell_type": "code",
   "execution_count": 137,
   "metadata": {},
   "outputs": [
    {
     "name": "stdout",
     "output_type": "stream",
     "text": [
      "*** Feature extraction started ***\n",
      "18\n"
     ]
    },
    {
     "name": "stderr",
     "output_type": "stream",
     "text": [
      "<ipython-input-137-f65f5fe20b0a>:5: UserWarning: Using default sampling frequency set in configuration file.\n",
      "  wz=tsfel.time_series_features_extractor(cfg,data2[\"wz\"])\n"
     ]
    },
    {
     "data": {
      "text/html": [
       "\n",
       "              <p>\n",
       "                  Progress: 100% Complete\n",
       "              <p/>            \n",
       "              <progress\n",
       "                  value='18'\n",
       "                  max='18',\n",
       "                  style='width: 25%',\n",
       "              >\n",
       "                  18\n",
       "              </progress>\n",
       "\n",
       "    "
      ],
      "text/plain": [
       "<IPython.core.display.HTML object>"
      ]
     },
     "metadata": {},
     "output_type": "display_data"
    },
    {
     "name": "stdout",
     "output_type": "stream",
     "text": [
      "*** Feature extraction started ***\n",
      "18\n"
     ]
    },
    {
     "name": "stderr",
     "output_type": "stream",
     "text": [
      "<ipython-input-137-f65f5fe20b0a>:6: UserWarning: Using default sampling frequency set in configuration file.\n",
      "  wx=tsfel.time_series_features_extractor(cfg,data2[\"wx\"])\n"
     ]
    },
    {
     "data": {
      "text/html": [
       "\n",
       "              <p>\n",
       "                  Progress: 100% Complete\n",
       "              <p/>            \n",
       "              <progress\n",
       "                  value='18'\n",
       "                  max='18',\n",
       "                  style='width: 25%',\n",
       "              >\n",
       "                  18\n",
       "              </progress>\n",
       "\n",
       "    "
      ],
      "text/plain": [
       "<IPython.core.display.HTML object>"
      ]
     },
     "metadata": {},
     "output_type": "display_data"
    },
    {
     "name": "stdout",
     "output_type": "stream",
     "text": [
      "*** Feature extraction started ***\n",
      "18\n"
     ]
    },
    {
     "name": "stderr",
     "output_type": "stream",
     "text": [
      "<ipython-input-137-f65f5fe20b0a>:7: UserWarning: Using default sampling frequency set in configuration file.\n",
      "  wy=tsfel.time_series_features_extractor(cfg,data2[\"wy\"])\n"
     ]
    },
    {
     "data": {
      "text/html": [
       "\n",
       "              <p>\n",
       "                  Progress: 100% Complete\n",
       "              <p/>            \n",
       "              <progress\n",
       "                  value='18'\n",
       "                  max='18',\n",
       "                  style='width: 25%',\n",
       "              >\n",
       "                  18\n",
       "              </progress>\n",
       "\n",
       "    "
      ],
      "text/plain": [
       "<IPython.core.display.HTML object>"
      ]
     },
     "metadata": {},
     "output_type": "display_data"
    }
   ],
   "source": [
    "#giroscopio \n",
    "cfg=tsfel.get_features_by_domain(\"temporal\")\n",
    "\n",
    "#extract features\n",
    "wz=tsfel.time_series_features_extractor(cfg,data2[\"wz\"])\n",
    "wx=tsfel.time_series_features_extractor(cfg,data2[\"wx\"])\n",
    "wy=tsfel.time_series_features_extractor(cfg,data2[\"wy\"])"
   ]
  },
  {
   "cell_type": "markdown",
   "metadata": {},
   "source": [
    "#### Acelerometro"
   ]
  },
  {
   "cell_type": "code",
   "execution_count": 138,
   "metadata": {},
   "outputs": [
    {
     "name": "stdout",
     "output_type": "stream",
     "text": [
      "*** Feature extraction started ***\n",
      "18\n"
     ]
    },
    {
     "name": "stderr",
     "output_type": "stream",
     "text": [
      "<ipython-input-138-1b9246f9ed36>:1: UserWarning: Using default sampling frequency set in configuration file.\n",
      "  az=tsfel.time_series_features_extractor(cfg,data2[\"az\"])\n"
     ]
    },
    {
     "data": {
      "text/html": [
       "\n",
       "              <p>\n",
       "                  Progress: 100% Complete\n",
       "              <p/>            \n",
       "              <progress\n",
       "                  value='18'\n",
       "                  max='18',\n",
       "                  style='width: 25%',\n",
       "              >\n",
       "                  18\n",
       "              </progress>\n",
       "\n",
       "    "
      ],
      "text/plain": [
       "<IPython.core.display.HTML object>"
      ]
     },
     "metadata": {},
     "output_type": "display_data"
    },
    {
     "name": "stdout",
     "output_type": "stream",
     "text": [
      "*** Feature extraction started ***\n",
      "18\n"
     ]
    },
    {
     "name": "stderr",
     "output_type": "stream",
     "text": [
      "<ipython-input-138-1b9246f9ed36>:2: UserWarning: Using default sampling frequency set in configuration file.\n",
      "  ax=tsfel.time_series_features_extractor(cfg,data2[\"ax\"])\n"
     ]
    },
    {
     "data": {
      "text/html": [
       "\n",
       "              <p>\n",
       "                  Progress: 100% Complete\n",
       "              <p/>            \n",
       "              <progress\n",
       "                  value='18'\n",
       "                  max='18',\n",
       "                  style='width: 25%',\n",
       "              >\n",
       "                  18\n",
       "              </progress>\n",
       "\n",
       "    "
      ],
      "text/plain": [
       "<IPython.core.display.HTML object>"
      ]
     },
     "metadata": {},
     "output_type": "display_data"
    },
    {
     "name": "stdout",
     "output_type": "stream",
     "text": [
      "*** Feature extraction started ***\n",
      "18\n"
     ]
    },
    {
     "name": "stderr",
     "output_type": "stream",
     "text": [
      "<ipython-input-138-1b9246f9ed36>:3: UserWarning: Using default sampling frequency set in configuration file.\n",
      "  ay=tsfel.time_series_features_extractor(cfg,data2[\"ay\"])\n"
     ]
    },
    {
     "data": {
      "text/html": [
       "\n",
       "              <p>\n",
       "                  Progress: 100% Complete\n",
       "              <p/>            \n",
       "              <progress\n",
       "                  value='18'\n",
       "                  max='18',\n",
       "                  style='width: 25%',\n",
       "              >\n",
       "                  18\n",
       "              </progress>\n",
       "\n",
       "    "
      ],
      "text/plain": [
       "<IPython.core.display.HTML object>"
      ]
     },
     "metadata": {},
     "output_type": "display_data"
    }
   ],
   "source": [
    "az=tsfel.time_series_features_extractor(cfg,data2[\"az\"])\n",
    "ax=tsfel.time_series_features_extractor(cfg,data2[\"ax\"])\n",
    "ay=tsfel.time_series_features_extractor(cfg,data2[\"ay\"])"
   ]
  },
  {
   "cell_type": "markdown",
   "metadata": {},
   "source": [
    "Creando dataset"
   ]
  },
  {
   "cell_type": "code",
   "execution_count": 139,
   "metadata": {},
   "outputs": [
    {
     "data": {
      "text/html": [
       "<div>\n",
       "<style scoped>\n",
       "    .dataframe tbody tr th:only-of-type {\n",
       "        vertical-align: middle;\n",
       "    }\n",
       "\n",
       "    .dataframe tbody tr th {\n",
       "        vertical-align: top;\n",
       "    }\n",
       "\n",
       "    .dataframe thead th {\n",
       "        text-align: right;\n",
       "    }\n",
       "</style>\n",
       "<table border=\"1\" class=\"dataframe\">\n",
       "  <thead>\n",
       "    <tr style=\"text-align: right;\">\n",
       "      <th></th>\n",
       "      <th>0_Absolute energy</th>\n",
       "      <th>0_Area under the curve</th>\n",
       "      <th>0_Autocorrelation</th>\n",
       "      <th>0_Centroid</th>\n",
       "      <th>0_Entropy</th>\n",
       "      <th>0_Mean absolute diff</th>\n",
       "      <th>0_Mean diff</th>\n",
       "      <th>0_Median absolute diff</th>\n",
       "      <th>0_Median diff</th>\n",
       "      <th>0_Negative turning points</th>\n",
       "      <th>...</th>\n",
       "      <th>0_Negative turning points</th>\n",
       "      <th>0_Neighbourhood peaks</th>\n",
       "      <th>0_Peak to peak distance</th>\n",
       "      <th>0_Positive turning points</th>\n",
       "      <th>0_Signal distance</th>\n",
       "      <th>0_Slope</th>\n",
       "      <th>0_Sum absolute diff</th>\n",
       "      <th>0_Total energy</th>\n",
       "      <th>0_Zero crossing rate</th>\n",
       "      <th>out</th>\n",
       "    </tr>\n",
       "  </thead>\n",
       "  <tbody>\n",
       "    <tr>\n",
       "      <th>0</th>\n",
       "      <td>17428.5243</td>\n",
       "      <td>104.1966</td>\n",
       "      <td>17428.5243</td>\n",
       "      <td>60.685034</td>\n",
       "      <td>0.605717</td>\n",
       "      <td>0.061699</td>\n",
       "      <td>0.000023</td>\n",
       "      <td>0.0</td>\n",
       "      <td>0.0</td>\n",
       "      <td>136.0</td>\n",
       "      <td>...</td>\n",
       "      <td>11.0</td>\n",
       "      <td>12.0</td>\n",
       "      <td>2.47</td>\n",
       "      <td>18.0</td>\n",
       "      <td>14564.629231</td>\n",
       "      <td>-8.298997e-07</td>\n",
       "      <td>95.32</td>\n",
       "      <td>4.821618</td>\n",
       "      <td>289.0</td>\n",
       "      <td>1</td>\n",
       "    </tr>\n",
       "  </tbody>\n",
       "</table>\n",
       "<p>1 rows × 109 columns</p>\n",
       "</div>"
      ],
      "text/plain": [
       "   0_Absolute energy  0_Area under the curve  0_Autocorrelation  0_Centroid  \\\n",
       "0         17428.5243                104.1966         17428.5243   60.685034   \n",
       "\n",
       "   0_Entropy  0_Mean absolute diff  0_Mean diff  0_Median absolute diff  \\\n",
       "0   0.605717              0.061699     0.000023                     0.0   \n",
       "\n",
       "   0_Median diff  0_Negative turning points  ...  0_Negative turning points  \\\n",
       "0            0.0                      136.0  ...                       11.0   \n",
       "\n",
       "   0_Neighbourhood peaks  0_Peak to peak distance  0_Positive turning points  \\\n",
       "0                   12.0                     2.47                       18.0   \n",
       "\n",
       "   0_Signal distance       0_Slope  0_Sum absolute diff  0_Total energy  \\\n",
       "0       14564.629231 -8.298997e-07                95.32        4.821618   \n",
       "\n",
       "   0_Zero crossing rate  out  \n",
       "0                 289.0    1  \n",
       "\n",
       "[1 rows x 109 columns]"
      ]
     },
     "execution_count": 139,
     "metadata": {},
     "output_type": "execute_result"
    }
   ],
   "source": [
    "#Etiquetado 1=caida, 0=no caida\n",
    "next=pd.concat([ax,ay,az,wx,wy,wz,y],axis=1)\n",
    "next"
   ]
  },
  {
   "cell_type": "code",
   "execution_count": 140,
   "metadata": {},
   "outputs": [
    {
     "data": {
      "text/html": [
       "<div>\n",
       "<style scoped>\n",
       "    .dataframe tbody tr th:only-of-type {\n",
       "        vertical-align: middle;\n",
       "    }\n",
       "\n",
       "    .dataframe tbody tr th {\n",
       "        vertical-align: top;\n",
       "    }\n",
       "\n",
       "    .dataframe thead th {\n",
       "        text-align: right;\n",
       "    }\n",
       "</style>\n",
       "<table border=\"1\" class=\"dataframe\">\n",
       "  <thead>\n",
       "    <tr style=\"text-align: right;\">\n",
       "      <th></th>\n",
       "      <th>0_Absolute energy</th>\n",
       "      <th>0_Area under the curve</th>\n",
       "      <th>0_Autocorrelation</th>\n",
       "      <th>0_Centroid</th>\n",
       "      <th>0_Entropy</th>\n",
       "      <th>0_Mean absolute diff</th>\n",
       "      <th>0_Mean diff</th>\n",
       "      <th>0_Median absolute diff</th>\n",
       "      <th>0_Median diff</th>\n",
       "      <th>0_Negative turning points</th>\n",
       "      <th>...</th>\n",
       "      <th>0_Negative turning points</th>\n",
       "      <th>0_Neighbourhood peaks</th>\n",
       "      <th>0_Peak to peak distance</th>\n",
       "      <th>0_Positive turning points</th>\n",
       "      <th>0_Signal distance</th>\n",
       "      <th>0_Slope</th>\n",
       "      <th>0_Sum absolute diff</th>\n",
       "      <th>0_Total energy</th>\n",
       "      <th>0_Zero crossing rate</th>\n",
       "      <th>out</th>\n",
       "    </tr>\n",
       "  </thead>\n",
       "  <tbody>\n",
       "    <tr>\n",
       "      <th>0</th>\n",
       "      <td>142365.0174</td>\n",
       "      <td>286.28765</td>\n",
       "      <td>142365.0174</td>\n",
       "      <td>148.380897</td>\n",
       "      <td>0.536766</td>\n",
       "      <td>0.068391</td>\n",
       "      <td>0.000006</td>\n",
       "      <td>0.0</td>\n",
       "      <td>0.0</td>\n",
       "      <td>121.0</td>\n",
       "      <td>...</td>\n",
       "      <td>30.0</td>\n",
       "      <td>12.0</td>\n",
       "      <td>16.58</td>\n",
       "      <td>26.0</td>\n",
       "      <td>30772.740382</td>\n",
       "      <td>1.959646e-06</td>\n",
       "      <td>267.32</td>\n",
       "      <td>36.060530</td>\n",
       "      <td>422.0</td>\n",
       "      <td>1</td>\n",
       "    </tr>\n",
       "    <tr>\n",
       "      <th>0</th>\n",
       "      <td>200857.1379</td>\n",
       "      <td>472.59640</td>\n",
       "      <td>200857.1379</td>\n",
       "      <td>150.243476</td>\n",
       "      <td>0.608193</td>\n",
       "      <td>0.072566</td>\n",
       "      <td>-0.000019</td>\n",
       "      <td>0.0</td>\n",
       "      <td>0.0</td>\n",
       "      <td>3.0</td>\n",
       "      <td>...</td>\n",
       "      <td>145.0</td>\n",
       "      <td>32.0</td>\n",
       "      <td>10.02</td>\n",
       "      <td>133.0</td>\n",
       "      <td>30221.612917</td>\n",
       "      <td>-2.278738e-06</td>\n",
       "      <td>395.44</td>\n",
       "      <td>81.343710</td>\n",
       "      <td>839.0</td>\n",
       "      <td>1</td>\n",
       "    </tr>\n",
       "    <tr>\n",
       "      <th>0</th>\n",
       "      <td>17428.5243</td>\n",
       "      <td>104.19660</td>\n",
       "      <td>17428.5243</td>\n",
       "      <td>60.685034</td>\n",
       "      <td>0.605717</td>\n",
       "      <td>0.061699</td>\n",
       "      <td>0.000023</td>\n",
       "      <td>0.0</td>\n",
       "      <td>0.0</td>\n",
       "      <td>136.0</td>\n",
       "      <td>...</td>\n",
       "      <td>11.0</td>\n",
       "      <td>12.0</td>\n",
       "      <td>2.47</td>\n",
       "      <td>18.0</td>\n",
       "      <td>14564.629231</td>\n",
       "      <td>-8.298997e-07</td>\n",
       "      <td>95.32</td>\n",
       "      <td>4.821618</td>\n",
       "      <td>289.0</td>\n",
       "      <td>1</td>\n",
       "    </tr>\n",
       "  </tbody>\n",
       "</table>\n",
       "<p>3 rows × 109 columns</p>\n",
       "</div>"
      ],
      "text/plain": [
       "   0_Absolute energy  0_Area under the curve  0_Autocorrelation  0_Centroid  \\\n",
       "0        142365.0174               286.28765        142365.0174  148.380897   \n",
       "0        200857.1379               472.59640        200857.1379  150.243476   \n",
       "0         17428.5243               104.19660         17428.5243   60.685034   \n",
       "\n",
       "   0_Entropy  0_Mean absolute diff  0_Mean diff  0_Median absolute diff  \\\n",
       "0   0.536766              0.068391     0.000006                     0.0   \n",
       "0   0.608193              0.072566    -0.000019                     0.0   \n",
       "0   0.605717              0.061699     0.000023                     0.0   \n",
       "\n",
       "   0_Median diff  0_Negative turning points  ...  0_Negative turning points  \\\n",
       "0            0.0                      121.0  ...                       30.0   \n",
       "0            0.0                        3.0  ...                      145.0   \n",
       "0            0.0                      136.0  ...                       11.0   \n",
       "\n",
       "   0_Neighbourhood peaks  0_Peak to peak distance  0_Positive turning points  \\\n",
       "0                   12.0                    16.58                       26.0   \n",
       "0                   32.0                    10.02                      133.0   \n",
       "0                   12.0                     2.47                       18.0   \n",
       "\n",
       "   0_Signal distance       0_Slope  0_Sum absolute diff  0_Total energy  \\\n",
       "0       30772.740382  1.959646e-06               267.32       36.060530   \n",
       "0       30221.612917 -2.278738e-06               395.44       81.343710   \n",
       "0       14564.629231 -8.298997e-07                95.32        4.821618   \n",
       "\n",
       "   0_Zero crossing rate  out  \n",
       "0                 422.0    1  \n",
       "0                 839.0    1  \n",
       "0                 289.0    1  \n",
       "\n",
       "[3 rows x 109 columns]"
      ]
     },
     "execution_count": 140,
     "metadata": {},
     "output_type": "execute_result"
    }
   ],
   "source": [
    "New_df=pd.concat([New_df,next],axis=0)\n",
    "New_df"
   ]
  },
  {
   "cell_type": "markdown",
   "metadata": {},
   "source": [
    "### Data 3"
   ]
  },
  {
   "cell_type": "code",
   "execution_count": 133,
   "metadata": {},
   "outputs": [
    {
     "name": "stdout",
     "output_type": "stream",
     "text": [
      "*** Feature extraction started ***\n",
      "18\n"
     ]
    },
    {
     "name": "stderr",
     "output_type": "stream",
     "text": [
      "<ipython-input-133-bb5e09c1f4be>:5: UserWarning: Using default sampling frequency set in configuration file.\n",
      "  wz=tsfel.time_series_features_extractor(cfg,data3[\"wz\"])\n"
     ]
    },
    {
     "data": {
      "text/html": [
       "\n",
       "              <p>\n",
       "                  Progress: 100% Complete\n",
       "              <p/>            \n",
       "              <progress\n",
       "                  value='18'\n",
       "                  max='18',\n",
       "                  style='width: 25%',\n",
       "              >\n",
       "                  18\n",
       "              </progress>\n",
       "\n",
       "    "
      ],
      "text/plain": [
       "<IPython.core.display.HTML object>"
      ]
     },
     "metadata": {},
     "output_type": "display_data"
    },
    {
     "name": "stdout",
     "output_type": "stream",
     "text": [
      "*** Feature extraction started ***\n",
      "18\n"
     ]
    },
    {
     "name": "stderr",
     "output_type": "stream",
     "text": [
      "<ipython-input-133-bb5e09c1f4be>:6: UserWarning: Using default sampling frequency set in configuration file.\n",
      "  wx=tsfel.time_series_features_extractor(cfg,data3[\"wx\"])\n"
     ]
    },
    {
     "data": {
      "text/html": [
       "\n",
       "              <p>\n",
       "                  Progress: 100% Complete\n",
       "              <p/>            \n",
       "              <progress\n",
       "                  value='18'\n",
       "                  max='18',\n",
       "                  style='width: 25%',\n",
       "              >\n",
       "                  18\n",
       "              </progress>\n",
       "\n",
       "    "
      ],
      "text/plain": [
       "<IPython.core.display.HTML object>"
      ]
     },
     "metadata": {},
     "output_type": "display_data"
    },
    {
     "name": "stdout",
     "output_type": "stream",
     "text": [
      "*** Feature extraction started ***\n",
      "18\n"
     ]
    },
    {
     "name": "stderr",
     "output_type": "stream",
     "text": [
      "<ipython-input-133-bb5e09c1f4be>:7: UserWarning: Using default sampling frequency set in configuration file.\n",
      "  wy=tsfel.time_series_features_extractor(cfg,data3[\"wy\"])\n"
     ]
    },
    {
     "data": {
      "text/html": [
       "\n",
       "              <p>\n",
       "                  Progress: 100% Complete\n",
       "              <p/>            \n",
       "              <progress\n",
       "                  value='18'\n",
       "                  max='18',\n",
       "                  style='width: 25%',\n",
       "              >\n",
       "                  18\n",
       "              </progress>\n",
       "\n",
       "    "
      ],
      "text/plain": [
       "<IPython.core.display.HTML object>"
      ]
     },
     "metadata": {},
     "output_type": "display_data"
    }
   ],
   "source": [
    "#giroscopio \n",
    "cfg=tsfel.get_features_by_domain(\"temporal\")\n",
    "\n",
    "#extract features\n",
    "wz=tsfel.time_series_features_extractor(cfg,data3[\"wz\"])\n",
    "wx=tsfel.time_series_features_extractor(cfg,data3[\"wx\"])\n",
    "wy=tsfel.time_series_features_extractor(cfg,data3[\"wy\"])"
   ]
  },
  {
   "cell_type": "code",
   "execution_count": 134,
   "metadata": {},
   "outputs": [
    {
     "name": "stdout",
     "output_type": "stream",
     "text": [
      "*** Feature extraction started ***\n",
      "18\n"
     ]
    },
    {
     "name": "stderr",
     "output_type": "stream",
     "text": [
      "<ipython-input-134-8e467b6f5c46>:2: UserWarning: Using default sampling frequency set in configuration file.\n",
      "  az=tsfel.time_series_features_extractor(cfg,data3[\"az\"])\n"
     ]
    },
    {
     "data": {
      "text/html": [
       "\n",
       "              <p>\n",
       "                  Progress: 100% Complete\n",
       "              <p/>            \n",
       "              <progress\n",
       "                  value='18'\n",
       "                  max='18',\n",
       "                  style='width: 25%',\n",
       "              >\n",
       "                  18\n",
       "              </progress>\n",
       "\n",
       "    "
      ],
      "text/plain": [
       "<IPython.core.display.HTML object>"
      ]
     },
     "metadata": {},
     "output_type": "display_data"
    },
    {
     "name": "stdout",
     "output_type": "stream",
     "text": [
      "*** Feature extraction started ***\n",
      "18\n"
     ]
    },
    {
     "name": "stderr",
     "output_type": "stream",
     "text": [
      "<ipython-input-134-8e467b6f5c46>:3: UserWarning: Using default sampling frequency set in configuration file.\n",
      "  ax=tsfel.time_series_features_extractor(cfg,data3[\"ax\"])\n"
     ]
    },
    {
     "data": {
      "text/html": [
       "\n",
       "              <p>\n",
       "                  Progress: 100% Complete\n",
       "              <p/>            \n",
       "              <progress\n",
       "                  value='18'\n",
       "                  max='18',\n",
       "                  style='width: 25%',\n",
       "              >\n",
       "                  18\n",
       "              </progress>\n",
       "\n",
       "    "
      ],
      "text/plain": [
       "<IPython.core.display.HTML object>"
      ]
     },
     "metadata": {},
     "output_type": "display_data"
    },
    {
     "name": "stdout",
     "output_type": "stream",
     "text": [
      "*** Feature extraction started ***\n",
      "18\n"
     ]
    },
    {
     "name": "stderr",
     "output_type": "stream",
     "text": [
      "<ipython-input-134-8e467b6f5c46>:4: UserWarning: Using default sampling frequency set in configuration file.\n",
      "  ay=tsfel.time_series_features_extractor(cfg,data3[\"ay\"])\n"
     ]
    },
    {
     "data": {
      "text/html": [
       "\n",
       "              <p>\n",
       "                  Progress: 100% Complete\n",
       "              <p/>            \n",
       "              <progress\n",
       "                  value='18'\n",
       "                  max='18',\n",
       "                  style='width: 25%',\n",
       "              >\n",
       "                  18\n",
       "              </progress>\n",
       "\n",
       "    "
      ],
      "text/plain": [
       "<IPython.core.display.HTML object>"
      ]
     },
     "metadata": {},
     "output_type": "display_data"
    }
   ],
   "source": [
    "#Acelerometro\n",
    "az=tsfel.time_series_features_extractor(cfg,data3[\"az\"])\n",
    "ax=tsfel.time_series_features_extractor(cfg,data3[\"ax\"])\n",
    "ay=tsfel.time_series_features_extractor(cfg,data3[\"ay\"])"
   ]
  },
  {
   "cell_type": "code",
   "execution_count": 135,
   "metadata": {},
   "outputs": [
    {
     "data": {
      "text/html": [
       "<div>\n",
       "<style scoped>\n",
       "    .dataframe tbody tr th:only-of-type {\n",
       "        vertical-align: middle;\n",
       "    }\n",
       "\n",
       "    .dataframe tbody tr th {\n",
       "        vertical-align: top;\n",
       "    }\n",
       "\n",
       "    .dataframe thead th {\n",
       "        text-align: right;\n",
       "    }\n",
       "</style>\n",
       "<table border=\"1\" class=\"dataframe\">\n",
       "  <thead>\n",
       "    <tr style=\"text-align: right;\">\n",
       "      <th></th>\n",
       "      <th>0_Absolute energy</th>\n",
       "      <th>0_Area under the curve</th>\n",
       "      <th>0_Autocorrelation</th>\n",
       "      <th>0_Centroid</th>\n",
       "      <th>0_Entropy</th>\n",
       "      <th>0_Mean absolute diff</th>\n",
       "      <th>0_Mean diff</th>\n",
       "      <th>0_Median absolute diff</th>\n",
       "      <th>0_Median diff</th>\n",
       "      <th>0_Negative turning points</th>\n",
       "      <th>...</th>\n",
       "      <th>0_Negative turning points</th>\n",
       "      <th>0_Neighbourhood peaks</th>\n",
       "      <th>0_Peak to peak distance</th>\n",
       "      <th>0_Positive turning points</th>\n",
       "      <th>0_Signal distance</th>\n",
       "      <th>0_Slope</th>\n",
       "      <th>0_Sum absolute diff</th>\n",
       "      <th>0_Total energy</th>\n",
       "      <th>0_Zero crossing rate</th>\n",
       "      <th>out</th>\n",
       "    </tr>\n",
       "  </thead>\n",
       "  <tbody>\n",
       "    <tr>\n",
       "      <th>0</th>\n",
       "      <td>200857.1379</td>\n",
       "      <td>472.5964</td>\n",
       "      <td>200857.1379</td>\n",
       "      <td>150.243476</td>\n",
       "      <td>0.608193</td>\n",
       "      <td>0.072566</td>\n",
       "      <td>-0.000019</td>\n",
       "      <td>0.0</td>\n",
       "      <td>0.0</td>\n",
       "      <td>3.0</td>\n",
       "      <td>...</td>\n",
       "      <td>145.0</td>\n",
       "      <td>32.0</td>\n",
       "      <td>10.02</td>\n",
       "      <td>133.0</td>\n",
       "      <td>30221.612917</td>\n",
       "      <td>-0.000002</td>\n",
       "      <td>395.44</td>\n",
       "      <td>81.34371</td>\n",
       "      <td>839.0</td>\n",
       "      <td>1</td>\n",
       "    </tr>\n",
       "  </tbody>\n",
       "</table>\n",
       "<p>1 rows × 109 columns</p>\n",
       "</div>"
      ],
      "text/plain": [
       "   0_Absolute energy  0_Area under the curve  0_Autocorrelation  0_Centroid  \\\n",
       "0        200857.1379                472.5964        200857.1379  150.243476   \n",
       "\n",
       "   0_Entropy  0_Mean absolute diff  0_Mean diff  0_Median absolute diff  \\\n",
       "0   0.608193              0.072566    -0.000019                     0.0   \n",
       "\n",
       "   0_Median diff  0_Negative turning points  ...  0_Negative turning points  \\\n",
       "0            0.0                        3.0  ...                      145.0   \n",
       "\n",
       "   0_Neighbourhood peaks  0_Peak to peak distance  0_Positive turning points  \\\n",
       "0                   32.0                    10.02                      133.0   \n",
       "\n",
       "   0_Signal distance   0_Slope  0_Sum absolute diff  0_Total energy  \\\n",
       "0       30221.612917 -0.000002               395.44        81.34371   \n",
       "\n",
       "   0_Zero crossing rate  out  \n",
       "0                 839.0    1  \n",
       "\n",
       "[1 rows x 109 columns]"
      ]
     },
     "execution_count": 135,
     "metadata": {},
     "output_type": "execute_result"
    }
   ],
   "source": [
    "#Etiquetado 1=caida, 0=no caida\n",
    "next=pd.concat([ax,ay,az,wx,wy,wz,y],axis=1)\n",
    "next"
   ]
  },
  {
   "cell_type": "code",
   "execution_count": 136,
   "metadata": {},
   "outputs": [
    {
     "data": {
      "text/html": [
       "<div>\n",
       "<style scoped>\n",
       "    .dataframe tbody tr th:only-of-type {\n",
       "        vertical-align: middle;\n",
       "    }\n",
       "\n",
       "    .dataframe tbody tr th {\n",
       "        vertical-align: top;\n",
       "    }\n",
       "\n",
       "    .dataframe thead th {\n",
       "        text-align: right;\n",
       "    }\n",
       "</style>\n",
       "<table border=\"1\" class=\"dataframe\">\n",
       "  <thead>\n",
       "    <tr style=\"text-align: right;\">\n",
       "      <th></th>\n",
       "      <th>0_Absolute energy</th>\n",
       "      <th>0_Area under the curve</th>\n",
       "      <th>0_Autocorrelation</th>\n",
       "      <th>0_Centroid</th>\n",
       "      <th>0_Entropy</th>\n",
       "      <th>0_Mean absolute diff</th>\n",
       "      <th>0_Mean diff</th>\n",
       "      <th>0_Median absolute diff</th>\n",
       "      <th>0_Median diff</th>\n",
       "      <th>0_Negative turning points</th>\n",
       "      <th>...</th>\n",
       "      <th>0_Negative turning points</th>\n",
       "      <th>0_Neighbourhood peaks</th>\n",
       "      <th>0_Peak to peak distance</th>\n",
       "      <th>0_Positive turning points</th>\n",
       "      <th>0_Signal distance</th>\n",
       "      <th>0_Slope</th>\n",
       "      <th>0_Sum absolute diff</th>\n",
       "      <th>0_Total energy</th>\n",
       "      <th>0_Zero crossing rate</th>\n",
       "      <th>out</th>\n",
       "    </tr>\n",
       "  </thead>\n",
       "  <tbody>\n",
       "    <tr>\n",
       "      <th>0</th>\n",
       "      <td>142365.0174</td>\n",
       "      <td>286.28765</td>\n",
       "      <td>142365.0174</td>\n",
       "      <td>148.380897</td>\n",
       "      <td>0.536766</td>\n",
       "      <td>0.068391</td>\n",
       "      <td>0.000006</td>\n",
       "      <td>0.0</td>\n",
       "      <td>0.0</td>\n",
       "      <td>121.0</td>\n",
       "      <td>...</td>\n",
       "      <td>30.0</td>\n",
       "      <td>12.0</td>\n",
       "      <td>16.58</td>\n",
       "      <td>26.0</td>\n",
       "      <td>30772.740382</td>\n",
       "      <td>0.000002</td>\n",
       "      <td>267.32</td>\n",
       "      <td>36.06053</td>\n",
       "      <td>422.0</td>\n",
       "      <td>1</td>\n",
       "    </tr>\n",
       "    <tr>\n",
       "      <th>0</th>\n",
       "      <td>200857.1379</td>\n",
       "      <td>472.59640</td>\n",
       "      <td>200857.1379</td>\n",
       "      <td>150.243476</td>\n",
       "      <td>0.608193</td>\n",
       "      <td>0.072566</td>\n",
       "      <td>-0.000019</td>\n",
       "      <td>0.0</td>\n",
       "      <td>0.0</td>\n",
       "      <td>3.0</td>\n",
       "      <td>...</td>\n",
       "      <td>145.0</td>\n",
       "      <td>32.0</td>\n",
       "      <td>10.02</td>\n",
       "      <td>133.0</td>\n",
       "      <td>30221.612917</td>\n",
       "      <td>-0.000002</td>\n",
       "      <td>395.44</td>\n",
       "      <td>81.34371</td>\n",
       "      <td>839.0</td>\n",
       "      <td>1</td>\n",
       "    </tr>\n",
       "  </tbody>\n",
       "</table>\n",
       "<p>2 rows × 109 columns</p>\n",
       "</div>"
      ],
      "text/plain": [
       "   0_Absolute energy  0_Area under the curve  0_Autocorrelation  0_Centroid  \\\n",
       "0        142365.0174               286.28765        142365.0174  148.380897   \n",
       "0        200857.1379               472.59640        200857.1379  150.243476   \n",
       "\n",
       "   0_Entropy  0_Mean absolute diff  0_Mean diff  0_Median absolute diff  \\\n",
       "0   0.536766              0.068391     0.000006                     0.0   \n",
       "0   0.608193              0.072566    -0.000019                     0.0   \n",
       "\n",
       "   0_Median diff  0_Negative turning points  ...  0_Negative turning points  \\\n",
       "0            0.0                      121.0  ...                       30.0   \n",
       "0            0.0                        3.0  ...                      145.0   \n",
       "\n",
       "   0_Neighbourhood peaks  0_Peak to peak distance  0_Positive turning points  \\\n",
       "0                   12.0                    16.58                       26.0   \n",
       "0                   32.0                    10.02                      133.0   \n",
       "\n",
       "   0_Signal distance   0_Slope  0_Sum absolute diff  0_Total energy  \\\n",
       "0       30772.740382  0.000002               267.32        36.06053   \n",
       "0       30221.612917 -0.000002               395.44        81.34371   \n",
       "\n",
       "   0_Zero crossing rate  out  \n",
       "0                 422.0    1  \n",
       "0                 839.0    1  \n",
       "\n",
       "[2 rows x 109 columns]"
      ]
     },
     "execution_count": 136,
     "metadata": {},
     "output_type": "execute_result"
    }
   ],
   "source": [
    "New_df=pd.concat([New_df,next],axis=0)\n",
    "New_df"
   ]
  },
  {
   "cell_type": "markdown",
   "metadata": {},
   "source": [
    "Guardando"
   ]
  },
  {
   "cell_type": "code",
   "execution_count": 142,
   "metadata": {},
   "outputs": [],
   "source": [
    "New_df.to_csv('dataFeat.csv',index=False)"
   ]
  },
  {
   "cell_type": "markdown",
   "metadata": {},
   "source": [
    "### Data4"
   ]
  },
  {
   "cell_type": "code",
   "execution_count": 143,
   "metadata": {},
   "outputs": [],
   "source": [
    "data4=data4.dropna()"
   ]
  },
  {
   "cell_type": "code",
   "execution_count": 144,
   "metadata": {},
   "outputs": [
    {
     "name": "stdout",
     "output_type": "stream",
     "text": [
      "*** Feature extraction started ***\n"
     ]
    },
    {
     "name": "stderr",
     "output_type": "stream",
     "text": [
      "<ipython-input-144-28a8be56fcdb>:5: UserWarning: Using default sampling frequency set in configuration file.\n",
      "  wz=tsfel.time_series_features_extractor(cfg,data4[\"wz\"])\n"
     ]
    },
    {
     "name": "stdout",
     "output_type": "stream",
     "text": [
      "18\n"
     ]
    },
    {
     "data": {
      "text/html": [
       "\n",
       "              <p>\n",
       "                  Progress: 100% Complete\n",
       "              <p/>            \n",
       "              <progress\n",
       "                  value='18'\n",
       "                  max='18',\n",
       "                  style='width: 25%',\n",
       "              >\n",
       "                  18\n",
       "              </progress>\n",
       "\n",
       "    "
      ],
      "text/plain": [
       "<IPython.core.display.HTML object>"
      ]
     },
     "metadata": {},
     "output_type": "display_data"
    },
    {
     "name": "stdout",
     "output_type": "stream",
     "text": [
      "*** Feature extraction started ***\n",
      "18\n"
     ]
    },
    {
     "name": "stderr",
     "output_type": "stream",
     "text": [
      "<ipython-input-144-28a8be56fcdb>:6: UserWarning: Using default sampling frequency set in configuration file.\n",
      "  wx=tsfel.time_series_features_extractor(cfg,data4[\"wx\"])\n"
     ]
    },
    {
     "data": {
      "text/html": [
       "\n",
       "              <p>\n",
       "                  Progress: 100% Complete\n",
       "              <p/>            \n",
       "              <progress\n",
       "                  value='18'\n",
       "                  max='18',\n",
       "                  style='width: 25%',\n",
       "              >\n",
       "                  18\n",
       "              </progress>\n",
       "\n",
       "    "
      ],
      "text/plain": [
       "<IPython.core.display.HTML object>"
      ]
     },
     "metadata": {},
     "output_type": "display_data"
    },
    {
     "name": "stdout",
     "output_type": "stream",
     "text": [
      "*** Feature extraction started ***\n",
      "18\n"
     ]
    },
    {
     "name": "stderr",
     "output_type": "stream",
     "text": [
      "<ipython-input-144-28a8be56fcdb>:7: UserWarning: Using default sampling frequency set in configuration file.\n",
      "  wy=tsfel.time_series_features_extractor(cfg,data4[\"wy\"])\n"
     ]
    },
    {
     "data": {
      "text/html": [
       "\n",
       "              <p>\n",
       "                  Progress: 100% Complete\n",
       "              <p/>            \n",
       "              <progress\n",
       "                  value='18'\n",
       "                  max='18',\n",
       "                  style='width: 25%',\n",
       "              >\n",
       "                  18\n",
       "              </progress>\n",
       "\n",
       "    "
      ],
      "text/plain": [
       "<IPython.core.display.HTML object>"
      ]
     },
     "metadata": {},
     "output_type": "display_data"
    }
   ],
   "source": [
    "#giroscopio \n",
    "cfg=tsfel.get_features_by_domain(\"temporal\")\n",
    "\n",
    "#extract features\n",
    "wz=tsfel.time_series_features_extractor(cfg,data4[\"wz\"])\n",
    "wx=tsfel.time_series_features_extractor(cfg,data4[\"wx\"])\n",
    "wy=tsfel.time_series_features_extractor(cfg,data4[\"wy\"])"
   ]
  },
  {
   "cell_type": "code",
   "execution_count": 146,
   "metadata": {},
   "outputs": [
    {
     "name": "stdout",
     "output_type": "stream",
     "text": [
      "*** Feature extraction started ***\n",
      "18\n"
     ]
    },
    {
     "name": "stderr",
     "output_type": "stream",
     "text": [
      "<ipython-input-146-08ae68280367>:1: UserWarning: Using default sampling frequency set in configuration file.\n",
      "  az=tsfel.time_series_features_extractor(cfg,data4[\"az\"])\n"
     ]
    },
    {
     "data": {
      "text/html": [
       "\n",
       "              <p>\n",
       "                  Progress: 100% Complete\n",
       "              <p/>            \n",
       "              <progress\n",
       "                  value='18'\n",
       "                  max='18',\n",
       "                  style='width: 25%',\n",
       "              >\n",
       "                  18\n",
       "              </progress>\n",
       "\n",
       "    "
      ],
      "text/plain": [
       "<IPython.core.display.HTML object>"
      ]
     },
     "metadata": {},
     "output_type": "display_data"
    },
    {
     "name": "stdout",
     "output_type": "stream",
     "text": [
      "*** Feature extraction started ***\n",
      "18\n"
     ]
    },
    {
     "name": "stderr",
     "output_type": "stream",
     "text": [
      "<ipython-input-146-08ae68280367>:2: UserWarning: Using default sampling frequency set in configuration file.\n",
      "  ax=tsfel.time_series_features_extractor(cfg,data4[\"ax\"])\n"
     ]
    },
    {
     "data": {
      "text/html": [
       "\n",
       "              <p>\n",
       "                  Progress: 100% Complete\n",
       "              <p/>            \n",
       "              <progress\n",
       "                  value='18'\n",
       "                  max='18',\n",
       "                  style='width: 25%',\n",
       "              >\n",
       "                  18\n",
       "              </progress>\n",
       "\n",
       "    "
      ],
      "text/plain": [
       "<IPython.core.display.HTML object>"
      ]
     },
     "metadata": {},
     "output_type": "display_data"
    },
    {
     "name": "stdout",
     "output_type": "stream",
     "text": [
      "*** Feature extraction started ***\n",
      "18"
     ]
    },
    {
     "name": "stderr",
     "output_type": "stream",
     "text": [
      "<ipython-input-146-08ae68280367>:3: UserWarning: Using default sampling frequency set in configuration file.\n",
      "  ay=tsfel.time_series_features_extractor(cfg,data4[\"ay\"])\n"
     ]
    },
    {
     "name": "stdout",
     "output_type": "stream",
     "text": [
      "\n"
     ]
    },
    {
     "data": {
      "text/html": [
       "\n",
       "              <p>\n",
       "                  Progress: 100% Complete\n",
       "              <p/>            \n",
       "              <progress\n",
       "                  value='18'\n",
       "                  max='18',\n",
       "                  style='width: 25%',\n",
       "              >\n",
       "                  18\n",
       "              </progress>\n",
       "\n",
       "    "
      ],
      "text/plain": [
       "<IPython.core.display.HTML object>"
      ]
     },
     "metadata": {},
     "output_type": "display_data"
    }
   ],
   "source": [
    "az=tsfel.time_series_features_extractor(cfg,data4[\"az\"])\n",
    "ax=tsfel.time_series_features_extractor(cfg,data4[\"ax\"])\n",
    "ay=tsfel.time_series_features_extractor(cfg,data4[\"ay\"])"
   ]
  },
  {
   "cell_type": "code",
   "execution_count": 147,
   "metadata": {},
   "outputs": [
    {
     "data": {
      "text/html": [
       "<div>\n",
       "<style scoped>\n",
       "    .dataframe tbody tr th:only-of-type {\n",
       "        vertical-align: middle;\n",
       "    }\n",
       "\n",
       "    .dataframe tbody tr th {\n",
       "        vertical-align: top;\n",
       "    }\n",
       "\n",
       "    .dataframe thead th {\n",
       "        text-align: right;\n",
       "    }\n",
       "</style>\n",
       "<table border=\"1\" class=\"dataframe\">\n",
       "  <thead>\n",
       "    <tr style=\"text-align: right;\">\n",
       "      <th></th>\n",
       "      <th>0_Absolute energy</th>\n",
       "      <th>0_Area under the curve</th>\n",
       "      <th>0_Autocorrelation</th>\n",
       "      <th>0_Centroid</th>\n",
       "      <th>0_Entropy</th>\n",
       "      <th>0_Mean absolute diff</th>\n",
       "      <th>0_Mean diff</th>\n",
       "      <th>0_Median absolute diff</th>\n",
       "      <th>0_Median diff</th>\n",
       "      <th>0_Negative turning points</th>\n",
       "      <th>...</th>\n",
       "      <th>0_Negative turning points</th>\n",
       "      <th>0_Neighbourhood peaks</th>\n",
       "      <th>0_Peak to peak distance</th>\n",
       "      <th>0_Positive turning points</th>\n",
       "      <th>0_Signal distance</th>\n",
       "      <th>0_Slope</th>\n",
       "      <th>0_Sum absolute diff</th>\n",
       "      <th>0_Total energy</th>\n",
       "      <th>0_Zero crossing rate</th>\n",
       "      <th>out</th>\n",
       "    </tr>\n",
       "  </thead>\n",
       "  <tbody>\n",
       "    <tr>\n",
       "      <th>0</th>\n",
       "      <td>143933.2155</td>\n",
       "      <td>492.4268</td>\n",
       "      <td>143933.2155</td>\n",
       "      <td>355.427154</td>\n",
       "      <td>0.488515</td>\n",
       "      <td>0.03648</td>\n",
       "      <td>0.000004</td>\n",
       "      <td>0.0</td>\n",
       "      <td>0.0</td>\n",
       "      <td>325.0</td>\n",
       "      <td>...</td>\n",
       "      <td>174.0</td>\n",
       "      <td>33.0</td>\n",
       "      <td>12.17</td>\n",
       "      <td>170.0</td>\n",
       "      <td>79885.731347</td>\n",
       "      <td>0.000002</td>\n",
       "      <td>492.84</td>\n",
       "      <td>29.625755</td>\n",
       "      <td>1309.0</td>\n",
       "      <td>1</td>\n",
       "    </tr>\n",
       "  </tbody>\n",
       "</table>\n",
       "<p>1 rows × 109 columns</p>\n",
       "</div>"
      ],
      "text/plain": [
       "   0_Absolute energy  0_Area under the curve  0_Autocorrelation  0_Centroid  \\\n",
       "0        143933.2155                492.4268        143933.2155  355.427154   \n",
       "\n",
       "   0_Entropy  0_Mean absolute diff  0_Mean diff  0_Median absolute diff  \\\n",
       "0   0.488515               0.03648     0.000004                     0.0   \n",
       "\n",
       "   0_Median diff  0_Negative turning points  ...  0_Negative turning points  \\\n",
       "0            0.0                      325.0  ...                      174.0   \n",
       "\n",
       "   0_Neighbourhood peaks  0_Peak to peak distance  0_Positive turning points  \\\n",
       "0                   33.0                    12.17                      170.0   \n",
       "\n",
       "   0_Signal distance   0_Slope  0_Sum absolute diff  0_Total energy  \\\n",
       "0       79885.731347  0.000002               492.84       29.625755   \n",
       "\n",
       "   0_Zero crossing rate  out  \n",
       "0                1309.0    1  \n",
       "\n",
       "[1 rows x 109 columns]"
      ]
     },
     "execution_count": 147,
     "metadata": {},
     "output_type": "execute_result"
    }
   ],
   "source": [
    "#Etiquetado 1=caida, 0=no caida\n",
    "next=pd.concat([ax,ay,az,wx,wy,wz,y],axis=1)\n",
    "next\n"
   ]
  },
  {
   "cell_type": "code",
   "execution_count": 148,
   "metadata": {},
   "outputs": [
    {
     "data": {
      "text/html": [
       "<div>\n",
       "<style scoped>\n",
       "    .dataframe tbody tr th:only-of-type {\n",
       "        vertical-align: middle;\n",
       "    }\n",
       "\n",
       "    .dataframe tbody tr th {\n",
       "        vertical-align: top;\n",
       "    }\n",
       "\n",
       "    .dataframe thead th {\n",
       "        text-align: right;\n",
       "    }\n",
       "</style>\n",
       "<table border=\"1\" class=\"dataframe\">\n",
       "  <thead>\n",
       "    <tr style=\"text-align: right;\">\n",
       "      <th></th>\n",
       "      <th>0_Absolute energy</th>\n",
       "      <th>0_Area under the curve</th>\n",
       "      <th>0_Autocorrelation</th>\n",
       "      <th>0_Centroid</th>\n",
       "      <th>0_Entropy</th>\n",
       "      <th>0_Mean absolute diff</th>\n",
       "      <th>0_Mean diff</th>\n",
       "      <th>0_Median absolute diff</th>\n",
       "      <th>0_Median diff</th>\n",
       "      <th>0_Negative turning points</th>\n",
       "      <th>...</th>\n",
       "      <th>0_Negative turning points</th>\n",
       "      <th>0_Neighbourhood peaks</th>\n",
       "      <th>0_Peak to peak distance</th>\n",
       "      <th>0_Positive turning points</th>\n",
       "      <th>0_Signal distance</th>\n",
       "      <th>0_Slope</th>\n",
       "      <th>0_Sum absolute diff</th>\n",
       "      <th>0_Total energy</th>\n",
       "      <th>0_Zero crossing rate</th>\n",
       "      <th>out</th>\n",
       "    </tr>\n",
       "  </thead>\n",
       "  <tbody>\n",
       "    <tr>\n",
       "      <th>0</th>\n",
       "      <td>142365.0174</td>\n",
       "      <td>286.28765</td>\n",
       "      <td>142365.0174</td>\n",
       "      <td>148.380897</td>\n",
       "      <td>0.536766</td>\n",
       "      <td>0.068391</td>\n",
       "      <td>0.000006</td>\n",
       "      <td>0.0</td>\n",
       "      <td>0.0</td>\n",
       "      <td>121.0</td>\n",
       "      <td>...</td>\n",
       "      <td>30.0</td>\n",
       "      <td>12.0</td>\n",
       "      <td>16.58</td>\n",
       "      <td>26.0</td>\n",
       "      <td>30772.740382</td>\n",
       "      <td>1.959646e-06</td>\n",
       "      <td>267.32</td>\n",
       "      <td>36.060530</td>\n",
       "      <td>422.0</td>\n",
       "      <td>1</td>\n",
       "    </tr>\n",
       "    <tr>\n",
       "      <th>0</th>\n",
       "      <td>200857.1379</td>\n",
       "      <td>472.59640</td>\n",
       "      <td>200857.1379</td>\n",
       "      <td>150.243476</td>\n",
       "      <td>0.608193</td>\n",
       "      <td>0.072566</td>\n",
       "      <td>-0.000019</td>\n",
       "      <td>0.0</td>\n",
       "      <td>0.0</td>\n",
       "      <td>3.0</td>\n",
       "      <td>...</td>\n",
       "      <td>145.0</td>\n",
       "      <td>32.0</td>\n",
       "      <td>10.02</td>\n",
       "      <td>133.0</td>\n",
       "      <td>30221.612917</td>\n",
       "      <td>-2.278738e-06</td>\n",
       "      <td>395.44</td>\n",
       "      <td>81.343710</td>\n",
       "      <td>839.0</td>\n",
       "      <td>1</td>\n",
       "    </tr>\n",
       "    <tr>\n",
       "      <th>0</th>\n",
       "      <td>17428.5243</td>\n",
       "      <td>104.19660</td>\n",
       "      <td>17428.5243</td>\n",
       "      <td>60.685034</td>\n",
       "      <td>0.605717</td>\n",
       "      <td>0.061699</td>\n",
       "      <td>0.000023</td>\n",
       "      <td>0.0</td>\n",
       "      <td>0.0</td>\n",
       "      <td>136.0</td>\n",
       "      <td>...</td>\n",
       "      <td>11.0</td>\n",
       "      <td>12.0</td>\n",
       "      <td>2.47</td>\n",
       "      <td>18.0</td>\n",
       "      <td>14564.629231</td>\n",
       "      <td>-8.298997e-07</td>\n",
       "      <td>95.32</td>\n",
       "      <td>4.821618</td>\n",
       "      <td>289.0</td>\n",
       "      <td>1</td>\n",
       "    </tr>\n",
       "    <tr>\n",
       "      <th>0</th>\n",
       "      <td>143933.2155</td>\n",
       "      <td>492.42680</td>\n",
       "      <td>143933.2155</td>\n",
       "      <td>355.427154</td>\n",
       "      <td>0.488515</td>\n",
       "      <td>0.036480</td>\n",
       "      <td>0.000004</td>\n",
       "      <td>0.0</td>\n",
       "      <td>0.0</td>\n",
       "      <td>325.0</td>\n",
       "      <td>...</td>\n",
       "      <td>174.0</td>\n",
       "      <td>33.0</td>\n",
       "      <td>12.17</td>\n",
       "      <td>170.0</td>\n",
       "      <td>79885.731347</td>\n",
       "      <td>2.104734e-06</td>\n",
       "      <td>492.84</td>\n",
       "      <td>29.625755</td>\n",
       "      <td>1309.0</td>\n",
       "      <td>1</td>\n",
       "    </tr>\n",
       "  </tbody>\n",
       "</table>\n",
       "<p>4 rows × 109 columns</p>\n",
       "</div>"
      ],
      "text/plain": [
       "   0_Absolute energy  0_Area under the curve  0_Autocorrelation  0_Centroid  \\\n",
       "0        142365.0174               286.28765        142365.0174  148.380897   \n",
       "0        200857.1379               472.59640        200857.1379  150.243476   \n",
       "0         17428.5243               104.19660         17428.5243   60.685034   \n",
       "0        143933.2155               492.42680        143933.2155  355.427154   \n",
       "\n",
       "   0_Entropy  0_Mean absolute diff  0_Mean diff  0_Median absolute diff  \\\n",
       "0   0.536766              0.068391     0.000006                     0.0   \n",
       "0   0.608193              0.072566    -0.000019                     0.0   \n",
       "0   0.605717              0.061699     0.000023                     0.0   \n",
       "0   0.488515              0.036480     0.000004                     0.0   \n",
       "\n",
       "   0_Median diff  0_Negative turning points  ...  0_Negative turning points  \\\n",
       "0            0.0                      121.0  ...                       30.0   \n",
       "0            0.0                        3.0  ...                      145.0   \n",
       "0            0.0                      136.0  ...                       11.0   \n",
       "0            0.0                      325.0  ...                      174.0   \n",
       "\n",
       "   0_Neighbourhood peaks  0_Peak to peak distance  0_Positive turning points  \\\n",
       "0                   12.0                    16.58                       26.0   \n",
       "0                   32.0                    10.02                      133.0   \n",
       "0                   12.0                     2.47                       18.0   \n",
       "0                   33.0                    12.17                      170.0   \n",
       "\n",
       "   0_Signal distance       0_Slope  0_Sum absolute diff  0_Total energy  \\\n",
       "0       30772.740382  1.959646e-06               267.32       36.060530   \n",
       "0       30221.612917 -2.278738e-06               395.44       81.343710   \n",
       "0       14564.629231 -8.298997e-07                95.32        4.821618   \n",
       "0       79885.731347  2.104734e-06               492.84       29.625755   \n",
       "\n",
       "   0_Zero crossing rate  out  \n",
       "0                 422.0    1  \n",
       "0                 839.0    1  \n",
       "0                 289.0    1  \n",
       "0                1309.0    1  \n",
       "\n",
       "[4 rows x 109 columns]"
      ]
     },
     "execution_count": 148,
     "metadata": {},
     "output_type": "execute_result"
    }
   ],
   "source": [
    "New_df=pd.concat([New_df,next],axis=0)\n",
    "New_df"
   ]
  },
  {
   "cell_type": "code",
   "execution_count": 149,
   "metadata": {},
   "outputs": [],
   "source": [
    "New_df.to_csv('dataFeat.csv',index=False)"
   ]
  },
  {
   "cell_type": "markdown",
   "metadata": {},
   "source": [
    "### Data 5"
   ]
  },
  {
   "cell_type": "code",
   "execution_count": 150,
   "metadata": {},
   "outputs": [
    {
     "name": "stdout",
     "output_type": "stream",
     "text": [
      "*** Feature extraction started ***\n",
      "18\n"
     ]
    },
    {
     "name": "stderr",
     "output_type": "stream",
     "text": [
      "<ipython-input-150-29119d519feb>:5: UserWarning: Using default sampling frequency set in configuration file.\n",
      "  wz=tsfel.time_series_features_extractor(cfg,data5[\"wz\"])\n"
     ]
    },
    {
     "data": {
      "text/html": [
       "\n",
       "              <p>\n",
       "                  Progress: 100% Complete\n",
       "              <p/>            \n",
       "              <progress\n",
       "                  value='18'\n",
       "                  max='18',\n",
       "                  style='width: 25%',\n",
       "              >\n",
       "                  18\n",
       "              </progress>\n",
       "\n",
       "    "
      ],
      "text/plain": [
       "<IPython.core.display.HTML object>"
      ]
     },
     "metadata": {},
     "output_type": "display_data"
    },
    {
     "name": "stdout",
     "output_type": "stream",
     "text": [
      "*** Feature extraction started ***\n",
      "18\n"
     ]
    },
    {
     "name": "stderr",
     "output_type": "stream",
     "text": [
      "<ipython-input-150-29119d519feb>:6: UserWarning: Using default sampling frequency set in configuration file.\n",
      "  wx=tsfel.time_series_features_extractor(cfg,data5[\"wx\"])\n"
     ]
    },
    {
     "data": {
      "text/html": [
       "\n",
       "              <p>\n",
       "                  Progress: 100% Complete\n",
       "              <p/>            \n",
       "              <progress\n",
       "                  value='18'\n",
       "                  max='18',\n",
       "                  style='width: 25%',\n",
       "              >\n",
       "                  18\n",
       "              </progress>\n",
       "\n",
       "    "
      ],
      "text/plain": [
       "<IPython.core.display.HTML object>"
      ]
     },
     "metadata": {},
     "output_type": "display_data"
    },
    {
     "name": "stdout",
     "output_type": "stream",
     "text": [
      "*** Feature extraction started ***\n",
      "18\n"
     ]
    },
    {
     "name": "stderr",
     "output_type": "stream",
     "text": [
      "<ipython-input-150-29119d519feb>:7: UserWarning: Using default sampling frequency set in configuration file.\n",
      "  wy=tsfel.time_series_features_extractor(cfg,data5[\"wy\"])\n"
     ]
    },
    {
     "data": {
      "text/html": [
       "\n",
       "              <p>\n",
       "                  Progress: 100% Complete\n",
       "              <p/>            \n",
       "              <progress\n",
       "                  value='18'\n",
       "                  max='18',\n",
       "                  style='width: 25%',\n",
       "              >\n",
       "                  18\n",
       "              </progress>\n",
       "\n",
       "    "
      ],
      "text/plain": [
       "<IPython.core.display.HTML object>"
      ]
     },
     "metadata": {},
     "output_type": "display_data"
    }
   ],
   "source": [
    "#giroscopio \n",
    "cfg=tsfel.get_features_by_domain(\"temporal\")\n",
    "\n",
    "#extract features\n",
    "wz=tsfel.time_series_features_extractor(cfg,data5[\"wz\"])\n",
    "wx=tsfel.time_series_features_extractor(cfg,data5[\"wx\"])\n",
    "wy=tsfel.time_series_features_extractor(cfg,data5[\"wy\"])"
   ]
  },
  {
   "cell_type": "code",
   "execution_count": 151,
   "metadata": {},
   "outputs": [
    {
     "name": "stdout",
     "output_type": "stream",
     "text": [
      "*** Feature extraction started ***\n",
      "18\n"
     ]
    },
    {
     "name": "stderr",
     "output_type": "stream",
     "text": [
      "<ipython-input-151-14e5b4ed4f04>:1: UserWarning: Using default sampling frequency set in configuration file.\n",
      "  az=tsfel.time_series_features_extractor(cfg,data5[\"az\"])\n"
     ]
    },
    {
     "data": {
      "text/html": [
       "\n",
       "              <p>\n",
       "                  Progress: 100% Complete\n",
       "              <p/>            \n",
       "              <progress\n",
       "                  value='18'\n",
       "                  max='18',\n",
       "                  style='width: 25%',\n",
       "              >\n",
       "                  18\n",
       "              </progress>\n",
       "\n",
       "    "
      ],
      "text/plain": [
       "<IPython.core.display.HTML object>"
      ]
     },
     "metadata": {},
     "output_type": "display_data"
    },
    {
     "name": "stdout",
     "output_type": "stream",
     "text": [
      "*** Feature extraction started ***\n",
      "18\n"
     ]
    },
    {
     "name": "stderr",
     "output_type": "stream",
     "text": [
      "<ipython-input-151-14e5b4ed4f04>:2: UserWarning: Using default sampling frequency set in configuration file.\n",
      "  ax=tsfel.time_series_features_extractor(cfg,data5[\"ax\"])\n"
     ]
    },
    {
     "data": {
      "text/html": [
       "\n",
       "              <p>\n",
       "                  Progress: 100% Complete\n",
       "              <p/>            \n",
       "              <progress\n",
       "                  value='18'\n",
       "                  max='18',\n",
       "                  style='width: 25%',\n",
       "              >\n",
       "                  18\n",
       "              </progress>\n",
       "\n",
       "    "
      ],
      "text/plain": [
       "<IPython.core.display.HTML object>"
      ]
     },
     "metadata": {},
     "output_type": "display_data"
    },
    {
     "name": "stdout",
     "output_type": "stream",
     "text": [
      "*** Feature extraction started ***\n",
      "18\n"
     ]
    },
    {
     "name": "stderr",
     "output_type": "stream",
     "text": [
      "<ipython-input-151-14e5b4ed4f04>:3: UserWarning: Using default sampling frequency set in configuration file.\n",
      "  ay=tsfel.time_series_features_extractor(cfg,data5[\"ay\"])\n"
     ]
    },
    {
     "data": {
      "text/html": [
       "\n",
       "              <p>\n",
       "                  Progress: 100% Complete\n",
       "              <p/>            \n",
       "              <progress\n",
       "                  value='18'\n",
       "                  max='18',\n",
       "                  style='width: 25%',\n",
       "              >\n",
       "                  18\n",
       "              </progress>\n",
       "\n",
       "    "
      ],
      "text/plain": [
       "<IPython.core.display.HTML object>"
      ]
     },
     "metadata": {},
     "output_type": "display_data"
    }
   ],
   "source": [
    "az=tsfel.time_series_features_extractor(cfg,data5[\"az\"])\n",
    "ax=tsfel.time_series_features_extractor(cfg,data5[\"ax\"])\n",
    "ay=tsfel.time_series_features_extractor(cfg,data5[\"ay\"])"
   ]
  },
  {
   "cell_type": "code",
   "execution_count": 152,
   "metadata": {},
   "outputs": [
    {
     "data": {
      "text/html": [
       "<div>\n",
       "<style scoped>\n",
       "    .dataframe tbody tr th:only-of-type {\n",
       "        vertical-align: middle;\n",
       "    }\n",
       "\n",
       "    .dataframe tbody tr th {\n",
       "        vertical-align: top;\n",
       "    }\n",
       "\n",
       "    .dataframe thead th {\n",
       "        text-align: right;\n",
       "    }\n",
       "</style>\n",
       "<table border=\"1\" class=\"dataframe\">\n",
       "  <thead>\n",
       "    <tr style=\"text-align: right;\">\n",
       "      <th></th>\n",
       "      <th>0_Absolute energy</th>\n",
       "      <th>0_Area under the curve</th>\n",
       "      <th>0_Autocorrelation</th>\n",
       "      <th>0_Centroid</th>\n",
       "      <th>0_Entropy</th>\n",
       "      <th>0_Mean absolute diff</th>\n",
       "      <th>0_Mean diff</th>\n",
       "      <th>0_Median absolute diff</th>\n",
       "      <th>0_Median diff</th>\n",
       "      <th>0_Negative turning points</th>\n",
       "      <th>...</th>\n",
       "      <th>0_Negative turning points</th>\n",
       "      <th>0_Neighbourhood peaks</th>\n",
       "      <th>0_Peak to peak distance</th>\n",
       "      <th>0_Positive turning points</th>\n",
       "      <th>0_Signal distance</th>\n",
       "      <th>0_Slope</th>\n",
       "      <th>0_Sum absolute diff</th>\n",
       "      <th>0_Total energy</th>\n",
       "      <th>0_Zero crossing rate</th>\n",
       "      <th>out</th>\n",
       "    </tr>\n",
       "  </thead>\n",
       "  <tbody>\n",
       "    <tr>\n",
       "      <th>0</th>\n",
       "      <td>29660.6292</td>\n",
       "      <td>142.08075</td>\n",
       "      <td>29660.6292</td>\n",
       "      <td>87.713568</td>\n",
       "      <td>0.611549</td>\n",
       "      <td>0.075822</td>\n",
       "      <td>0.000016</td>\n",
       "      <td>0.0</td>\n",
       "      <td>0.0</td>\n",
       "      <td>152.0</td>\n",
       "      <td>...</td>\n",
       "      <td>19.0</td>\n",
       "      <td>22.0</td>\n",
       "      <td>2.12</td>\n",
       "      <td>27.0</td>\n",
       "      <td>16932.717928</td>\n",
       "      <td>-4.184387e-07</td>\n",
       "      <td>141.91</td>\n",
       "      <td>4.43032</td>\n",
       "      <td>483.0</td>\n",
       "      <td>1</td>\n",
       "    </tr>\n",
       "  </tbody>\n",
       "</table>\n",
       "<p>1 rows × 109 columns</p>\n",
       "</div>"
      ],
      "text/plain": [
       "   0_Absolute energy  0_Area under the curve  0_Autocorrelation  0_Centroid  \\\n",
       "0         29660.6292               142.08075         29660.6292   87.713568   \n",
       "\n",
       "   0_Entropy  0_Mean absolute diff  0_Mean diff  0_Median absolute diff  \\\n",
       "0   0.611549              0.075822     0.000016                     0.0   \n",
       "\n",
       "   0_Median diff  0_Negative turning points  ...  0_Negative turning points  \\\n",
       "0            0.0                      152.0  ...                       19.0   \n",
       "\n",
       "   0_Neighbourhood peaks  0_Peak to peak distance  0_Positive turning points  \\\n",
       "0                   22.0                     2.12                       27.0   \n",
       "\n",
       "   0_Signal distance       0_Slope  0_Sum absolute diff  0_Total energy  \\\n",
       "0       16932.717928 -4.184387e-07               141.91         4.43032   \n",
       "\n",
       "   0_Zero crossing rate  out  \n",
       "0                 483.0    1  \n",
       "\n",
       "[1 rows x 109 columns]"
      ]
     },
     "execution_count": 152,
     "metadata": {},
     "output_type": "execute_result"
    }
   ],
   "source": [
    "#Etiquetado 1=caida, 0=no caida\n",
    "next=pd.concat([ax,ay,az,wx,wy,wz,y],axis=1)\n",
    "next"
   ]
  },
  {
   "cell_type": "code",
   "execution_count": 153,
   "metadata": {},
   "outputs": [
    {
     "data": {
      "text/html": [
       "<div>\n",
       "<style scoped>\n",
       "    .dataframe tbody tr th:only-of-type {\n",
       "        vertical-align: middle;\n",
       "    }\n",
       "\n",
       "    .dataframe tbody tr th {\n",
       "        vertical-align: top;\n",
       "    }\n",
       "\n",
       "    .dataframe thead th {\n",
       "        text-align: right;\n",
       "    }\n",
       "</style>\n",
       "<table border=\"1\" class=\"dataframe\">\n",
       "  <thead>\n",
       "    <tr style=\"text-align: right;\">\n",
       "      <th></th>\n",
       "      <th>0_Absolute energy</th>\n",
       "      <th>0_Area under the curve</th>\n",
       "      <th>0_Autocorrelation</th>\n",
       "      <th>0_Centroid</th>\n",
       "      <th>0_Entropy</th>\n",
       "      <th>0_Mean absolute diff</th>\n",
       "      <th>0_Mean diff</th>\n",
       "      <th>0_Median absolute diff</th>\n",
       "      <th>0_Median diff</th>\n",
       "      <th>0_Negative turning points</th>\n",
       "      <th>...</th>\n",
       "      <th>0_Negative turning points</th>\n",
       "      <th>0_Neighbourhood peaks</th>\n",
       "      <th>0_Peak to peak distance</th>\n",
       "      <th>0_Positive turning points</th>\n",
       "      <th>0_Signal distance</th>\n",
       "      <th>0_Slope</th>\n",
       "      <th>0_Sum absolute diff</th>\n",
       "      <th>0_Total energy</th>\n",
       "      <th>0_Zero crossing rate</th>\n",
       "      <th>out</th>\n",
       "    </tr>\n",
       "  </thead>\n",
       "  <tbody>\n",
       "    <tr>\n",
       "      <th>0</th>\n",
       "      <td>142365.0174</td>\n",
       "      <td>286.28765</td>\n",
       "      <td>142365.0174</td>\n",
       "      <td>148.380897</td>\n",
       "      <td>0.536766</td>\n",
       "      <td>0.068391</td>\n",
       "      <td>0.000006</td>\n",
       "      <td>0.0</td>\n",
       "      <td>0.0</td>\n",
       "      <td>121.0</td>\n",
       "      <td>...</td>\n",
       "      <td>30.0</td>\n",
       "      <td>12.0</td>\n",
       "      <td>16.58</td>\n",
       "      <td>26.0</td>\n",
       "      <td>30772.740382</td>\n",
       "      <td>1.959646e-06</td>\n",
       "      <td>267.32</td>\n",
       "      <td>36.060530</td>\n",
       "      <td>422.0</td>\n",
       "      <td>1</td>\n",
       "    </tr>\n",
       "    <tr>\n",
       "      <th>0</th>\n",
       "      <td>200857.1379</td>\n",
       "      <td>472.59640</td>\n",
       "      <td>200857.1379</td>\n",
       "      <td>150.243476</td>\n",
       "      <td>0.608193</td>\n",
       "      <td>0.072566</td>\n",
       "      <td>-0.000019</td>\n",
       "      <td>0.0</td>\n",
       "      <td>0.0</td>\n",
       "      <td>3.0</td>\n",
       "      <td>...</td>\n",
       "      <td>145.0</td>\n",
       "      <td>32.0</td>\n",
       "      <td>10.02</td>\n",
       "      <td>133.0</td>\n",
       "      <td>30221.612917</td>\n",
       "      <td>-2.278738e-06</td>\n",
       "      <td>395.44</td>\n",
       "      <td>81.343710</td>\n",
       "      <td>839.0</td>\n",
       "      <td>1</td>\n",
       "    </tr>\n",
       "    <tr>\n",
       "      <th>0</th>\n",
       "      <td>17428.5243</td>\n",
       "      <td>104.19660</td>\n",
       "      <td>17428.5243</td>\n",
       "      <td>60.685034</td>\n",
       "      <td>0.605717</td>\n",
       "      <td>0.061699</td>\n",
       "      <td>0.000023</td>\n",
       "      <td>0.0</td>\n",
       "      <td>0.0</td>\n",
       "      <td>136.0</td>\n",
       "      <td>...</td>\n",
       "      <td>11.0</td>\n",
       "      <td>12.0</td>\n",
       "      <td>2.47</td>\n",
       "      <td>18.0</td>\n",
       "      <td>14564.629231</td>\n",
       "      <td>-8.298997e-07</td>\n",
       "      <td>95.32</td>\n",
       "      <td>4.821618</td>\n",
       "      <td>289.0</td>\n",
       "      <td>1</td>\n",
       "    </tr>\n",
       "    <tr>\n",
       "      <th>0</th>\n",
       "      <td>143933.2155</td>\n",
       "      <td>492.42680</td>\n",
       "      <td>143933.2155</td>\n",
       "      <td>355.427154</td>\n",
       "      <td>0.488515</td>\n",
       "      <td>0.036480</td>\n",
       "      <td>0.000004</td>\n",
       "      <td>0.0</td>\n",
       "      <td>0.0</td>\n",
       "      <td>325.0</td>\n",
       "      <td>...</td>\n",
       "      <td>174.0</td>\n",
       "      <td>33.0</td>\n",
       "      <td>12.17</td>\n",
       "      <td>170.0</td>\n",
       "      <td>79885.731347</td>\n",
       "      <td>2.104734e-06</td>\n",
       "      <td>492.84</td>\n",
       "      <td>29.625755</td>\n",
       "      <td>1309.0</td>\n",
       "      <td>1</td>\n",
       "    </tr>\n",
       "    <tr>\n",
       "      <th>0</th>\n",
       "      <td>29660.6292</td>\n",
       "      <td>142.08075</td>\n",
       "      <td>29660.6292</td>\n",
       "      <td>87.713568</td>\n",
       "      <td>0.611549</td>\n",
       "      <td>0.075822</td>\n",
       "      <td>0.000016</td>\n",
       "      <td>0.0</td>\n",
       "      <td>0.0</td>\n",
       "      <td>152.0</td>\n",
       "      <td>...</td>\n",
       "      <td>19.0</td>\n",
       "      <td>22.0</td>\n",
       "      <td>2.12</td>\n",
       "      <td>27.0</td>\n",
       "      <td>16932.717928</td>\n",
       "      <td>-4.184387e-07</td>\n",
       "      <td>141.91</td>\n",
       "      <td>4.430320</td>\n",
       "      <td>483.0</td>\n",
       "      <td>1</td>\n",
       "    </tr>\n",
       "  </tbody>\n",
       "</table>\n",
       "<p>5 rows × 109 columns</p>\n",
       "</div>"
      ],
      "text/plain": [
       "   0_Absolute energy  0_Area under the curve  0_Autocorrelation  0_Centroid  \\\n",
       "0        142365.0174               286.28765        142365.0174  148.380897   \n",
       "0        200857.1379               472.59640        200857.1379  150.243476   \n",
       "0         17428.5243               104.19660         17428.5243   60.685034   \n",
       "0        143933.2155               492.42680        143933.2155  355.427154   \n",
       "0         29660.6292               142.08075         29660.6292   87.713568   \n",
       "\n",
       "   0_Entropy  0_Mean absolute diff  0_Mean diff  0_Median absolute diff  \\\n",
       "0   0.536766              0.068391     0.000006                     0.0   \n",
       "0   0.608193              0.072566    -0.000019                     0.0   \n",
       "0   0.605717              0.061699     0.000023                     0.0   \n",
       "0   0.488515              0.036480     0.000004                     0.0   \n",
       "0   0.611549              0.075822     0.000016                     0.0   \n",
       "\n",
       "   0_Median diff  0_Negative turning points  ...  0_Negative turning points  \\\n",
       "0            0.0                      121.0  ...                       30.0   \n",
       "0            0.0                        3.0  ...                      145.0   \n",
       "0            0.0                      136.0  ...                       11.0   \n",
       "0            0.0                      325.0  ...                      174.0   \n",
       "0            0.0                      152.0  ...                       19.0   \n",
       "\n",
       "   0_Neighbourhood peaks  0_Peak to peak distance  0_Positive turning points  \\\n",
       "0                   12.0                    16.58                       26.0   \n",
       "0                   32.0                    10.02                      133.0   \n",
       "0                   12.0                     2.47                       18.0   \n",
       "0                   33.0                    12.17                      170.0   \n",
       "0                   22.0                     2.12                       27.0   \n",
       "\n",
       "   0_Signal distance       0_Slope  0_Sum absolute diff  0_Total energy  \\\n",
       "0       30772.740382  1.959646e-06               267.32       36.060530   \n",
       "0       30221.612917 -2.278738e-06               395.44       81.343710   \n",
       "0       14564.629231 -8.298997e-07                95.32        4.821618   \n",
       "0       79885.731347  2.104734e-06               492.84       29.625755   \n",
       "0       16932.717928 -4.184387e-07               141.91        4.430320   \n",
       "\n",
       "   0_Zero crossing rate  out  \n",
       "0                 422.0    1  \n",
       "0                 839.0    1  \n",
       "0                 289.0    1  \n",
       "0                1309.0    1  \n",
       "0                 483.0    1  \n",
       "\n",
       "[5 rows x 109 columns]"
      ]
     },
     "execution_count": 153,
     "metadata": {},
     "output_type": "execute_result"
    }
   ],
   "source": [
    "New_df=pd.concat([New_df,next],axis=0)\n",
    "New_df"
   ]
  },
  {
   "cell_type": "code",
   "execution_count": 154,
   "metadata": {},
   "outputs": [],
   "source": [
    "New_df.to_csv('dataFeat.csv',index=False)"
   ]
  },
  {
   "cell_type": "markdown",
   "metadata": {},
   "source": [
    "### Data 6"
   ]
  },
  {
   "cell_type": "code",
   "execution_count": 155,
   "metadata": {},
   "outputs": [
    {
     "name": "stdout",
     "output_type": "stream",
     "text": [
      "*** Feature extraction started ***\n",
      "18\n"
     ]
    },
    {
     "name": "stderr",
     "output_type": "stream",
     "text": [
      "<ipython-input-155-810bfeefd925>:5: UserWarning: Using default sampling frequency set in configuration file.\n",
      "  wz=tsfel.time_series_features_extractor(cfg,data6[\"wz\"])\n"
     ]
    },
    {
     "data": {
      "text/html": [
       "\n",
       "              <p>\n",
       "                  Progress: 100% Complete\n",
       "              <p/>            \n",
       "              <progress\n",
       "                  value='18'\n",
       "                  max='18',\n",
       "                  style='width: 25%',\n",
       "              >\n",
       "                  18\n",
       "              </progress>\n",
       "\n",
       "    "
      ],
      "text/plain": [
       "<IPython.core.display.HTML object>"
      ]
     },
     "metadata": {},
     "output_type": "display_data"
    },
    {
     "name": "stdout",
     "output_type": "stream",
     "text": [
      "*** Feature extraction started ***\n",
      "18\n"
     ]
    },
    {
     "name": "stderr",
     "output_type": "stream",
     "text": [
      "<ipython-input-155-810bfeefd925>:6: UserWarning: Using default sampling frequency set in configuration file.\n",
      "  wx=tsfel.time_series_features_extractor(cfg,data6[\"wx\"])\n"
     ]
    },
    {
     "data": {
      "text/html": [
       "\n",
       "              <p>\n",
       "                  Progress: 100% Complete\n",
       "              <p/>            \n",
       "              <progress\n",
       "                  value='18'\n",
       "                  max='18',\n",
       "                  style='width: 25%',\n",
       "              >\n",
       "                  18\n",
       "              </progress>\n",
       "\n",
       "    "
      ],
      "text/plain": [
       "<IPython.core.display.HTML object>"
      ]
     },
     "metadata": {},
     "output_type": "display_data"
    },
    {
     "name": "stdout",
     "output_type": "stream",
     "text": [
      "*** Feature extraction started ***\n",
      "18\n"
     ]
    },
    {
     "name": "stderr",
     "output_type": "stream",
     "text": [
      "<ipython-input-155-810bfeefd925>:7: UserWarning: Using default sampling frequency set in configuration file.\n",
      "  wy=tsfel.time_series_features_extractor(cfg,data6[\"wy\"])\n"
     ]
    },
    {
     "data": {
      "text/html": [
       "\n",
       "              <p>\n",
       "                  Progress: 100% Complete\n",
       "              <p/>            \n",
       "              <progress\n",
       "                  value='18'\n",
       "                  max='18',\n",
       "                  style='width: 25%',\n",
       "              >\n",
       "                  18\n",
       "              </progress>\n",
       "\n",
       "    "
      ],
      "text/plain": [
       "<IPython.core.display.HTML object>"
      ]
     },
     "metadata": {},
     "output_type": "display_data"
    }
   ],
   "source": [
    "#giroscopio \n",
    "cfg=tsfel.get_features_by_domain(\"temporal\")\n",
    "\n",
    "#extract features\n",
    "wz=tsfel.time_series_features_extractor(cfg,data6[\"wz\"])\n",
    "wx=tsfel.time_series_features_extractor(cfg,data6[\"wx\"])\n",
    "wy=tsfel.time_series_features_extractor(cfg,data6[\"wy\"])\n"
   ]
  },
  {
   "cell_type": "code",
   "execution_count": 156,
   "metadata": {},
   "outputs": [
    {
     "name": "stdout",
     "output_type": "stream",
     "text": [
      "*** Feature extraction started ***\n",
      "18\n"
     ]
    },
    {
     "name": "stderr",
     "output_type": "stream",
     "text": [
      "<ipython-input-156-2bbaac6e4268>:1: UserWarning: Using default sampling frequency set in configuration file.\n",
      "  az=tsfel.time_series_features_extractor(cfg,data6[\"az\"])\n"
     ]
    },
    {
     "data": {
      "text/html": [
       "\n",
       "              <p>\n",
       "                  Progress: 100% Complete\n",
       "              <p/>            \n",
       "              <progress\n",
       "                  value='18'\n",
       "                  max='18',\n",
       "                  style='width: 25%',\n",
       "              >\n",
       "                  18\n",
       "              </progress>\n",
       "\n",
       "    "
      ],
      "text/plain": [
       "<IPython.core.display.HTML object>"
      ]
     },
     "metadata": {},
     "output_type": "display_data"
    },
    {
     "name": "stdout",
     "output_type": "stream",
     "text": [
      "*** Feature extraction started ***\n",
      "18\n"
     ]
    },
    {
     "name": "stderr",
     "output_type": "stream",
     "text": [
      "<ipython-input-156-2bbaac6e4268>:2: UserWarning: Using default sampling frequency set in configuration file.\n",
      "  ax=tsfel.time_series_features_extractor(cfg,data6[\"ax\"])\n"
     ]
    },
    {
     "data": {
      "text/html": [
       "\n",
       "              <p>\n",
       "                  Progress: 100% Complete\n",
       "              <p/>            \n",
       "              <progress\n",
       "                  value='18'\n",
       "                  max='18',\n",
       "                  style='width: 25%',\n",
       "              >\n",
       "                  18\n",
       "              </progress>\n",
       "\n",
       "    "
      ],
      "text/plain": [
       "<IPython.core.display.HTML object>"
      ]
     },
     "metadata": {},
     "output_type": "display_data"
    },
    {
     "name": "stdout",
     "output_type": "stream",
     "text": [
      "*** Feature extraction started ***\n",
      "18\n"
     ]
    },
    {
     "name": "stderr",
     "output_type": "stream",
     "text": [
      "<ipython-input-156-2bbaac6e4268>:3: UserWarning: Using default sampling frequency set in configuration file.\n",
      "  ay=tsfel.time_series_features_extractor(cfg,data6[\"ay\"])\n"
     ]
    },
    {
     "data": {
      "text/html": [
       "\n",
       "              <p>\n",
       "                  Progress: 100% Complete\n",
       "              <p/>            \n",
       "              <progress\n",
       "                  value='18'\n",
       "                  max='18',\n",
       "                  style='width: 25%',\n",
       "              >\n",
       "                  18\n",
       "              </progress>\n",
       "\n",
       "    "
      ],
      "text/plain": [
       "<IPython.core.display.HTML object>"
      ]
     },
     "metadata": {},
     "output_type": "display_data"
    }
   ],
   "source": [
    "az=tsfel.time_series_features_extractor(cfg,data6[\"az\"])\n",
    "ax=tsfel.time_series_features_extractor(cfg,data6[\"ax\"])\n",
    "ay=tsfel.time_series_features_extractor(cfg,data6[\"ay\"])"
   ]
  },
  {
   "cell_type": "code",
   "execution_count": 157,
   "metadata": {},
   "outputs": [
    {
     "data": {
      "text/html": [
       "<div>\n",
       "<style scoped>\n",
       "    .dataframe tbody tr th:only-of-type {\n",
       "        vertical-align: middle;\n",
       "    }\n",
       "\n",
       "    .dataframe tbody tr th {\n",
       "        vertical-align: top;\n",
       "    }\n",
       "\n",
       "    .dataframe thead th {\n",
       "        text-align: right;\n",
       "    }\n",
       "</style>\n",
       "<table border=\"1\" class=\"dataframe\">\n",
       "  <thead>\n",
       "    <tr style=\"text-align: right;\">\n",
       "      <th></th>\n",
       "      <th>0_Absolute energy</th>\n",
       "      <th>0_Area under the curve</th>\n",
       "      <th>0_Autocorrelation</th>\n",
       "      <th>0_Centroid</th>\n",
       "      <th>0_Entropy</th>\n",
       "      <th>0_Mean absolute diff</th>\n",
       "      <th>0_Mean diff</th>\n",
       "      <th>0_Median absolute diff</th>\n",
       "      <th>0_Median diff</th>\n",
       "      <th>0_Negative turning points</th>\n",
       "      <th>...</th>\n",
       "      <th>0_Negative turning points</th>\n",
       "      <th>0_Neighbourhood peaks</th>\n",
       "      <th>0_Peak to peak distance</th>\n",
       "      <th>0_Positive turning points</th>\n",
       "      <th>0_Signal distance</th>\n",
       "      <th>0_Slope</th>\n",
       "      <th>0_Sum absolute diff</th>\n",
       "      <th>0_Total energy</th>\n",
       "      <th>0_Zero crossing rate</th>\n",
       "      <th>out</th>\n",
       "    </tr>\n",
       "  </thead>\n",
       "  <tbody>\n",
       "    <tr>\n",
       "      <th>0</th>\n",
       "      <td>296524.4195</td>\n",
       "      <td>724.7686</td>\n",
       "      <td>296524.4195</td>\n",
       "      <td>205.165029</td>\n",
       "      <td>0.608024</td>\n",
       "      <td>0.065663</td>\n",
       "      <td>-0.000006</td>\n",
       "      <td>0.0</td>\n",
       "      <td>0.0</td>\n",
       "      <td>29.0</td>\n",
       "      <td>...</td>\n",
       "      <td>161.0</td>\n",
       "      <td>49.0</td>\n",
       "      <td>7.94</td>\n",
       "      <td>183.0</td>\n",
       "      <td>44364.102298</td>\n",
       "      <td>0.000004</td>\n",
       "      <td>456.5</td>\n",
       "      <td>40.826123</td>\n",
       "      <td>1018.0</td>\n",
       "      <td>1</td>\n",
       "    </tr>\n",
       "  </tbody>\n",
       "</table>\n",
       "<p>1 rows × 109 columns</p>\n",
       "</div>"
      ],
      "text/plain": [
       "   0_Absolute energy  0_Area under the curve  0_Autocorrelation  0_Centroid  \\\n",
       "0        296524.4195                724.7686        296524.4195  205.165029   \n",
       "\n",
       "   0_Entropy  0_Mean absolute diff  0_Mean diff  0_Median absolute diff  \\\n",
       "0   0.608024              0.065663    -0.000006                     0.0   \n",
       "\n",
       "   0_Median diff  0_Negative turning points  ...  0_Negative turning points  \\\n",
       "0            0.0                       29.0  ...                      161.0   \n",
       "\n",
       "   0_Neighbourhood peaks  0_Peak to peak distance  0_Positive turning points  \\\n",
       "0                   49.0                     7.94                      183.0   \n",
       "\n",
       "   0_Signal distance   0_Slope  0_Sum absolute diff  0_Total energy  \\\n",
       "0       44364.102298  0.000004                456.5       40.826123   \n",
       "\n",
       "   0_Zero crossing rate  out  \n",
       "0                1018.0    1  \n",
       "\n",
       "[1 rows x 109 columns]"
      ]
     },
     "execution_count": 157,
     "metadata": {},
     "output_type": "execute_result"
    }
   ],
   "source": [
    "#Etiquetado 1=caida, 0=no caida\n",
    "next=pd.concat([ax,ay,az,wx,wy,wz,y],axis=1)\n",
    "next"
   ]
  },
  {
   "cell_type": "code",
   "execution_count": 158,
   "metadata": {},
   "outputs": [
    {
     "data": {
      "text/html": [
       "<div>\n",
       "<style scoped>\n",
       "    .dataframe tbody tr th:only-of-type {\n",
       "        vertical-align: middle;\n",
       "    }\n",
       "\n",
       "    .dataframe tbody tr th {\n",
       "        vertical-align: top;\n",
       "    }\n",
       "\n",
       "    .dataframe thead th {\n",
       "        text-align: right;\n",
       "    }\n",
       "</style>\n",
       "<table border=\"1\" class=\"dataframe\">\n",
       "  <thead>\n",
       "    <tr style=\"text-align: right;\">\n",
       "      <th></th>\n",
       "      <th>0_Absolute energy</th>\n",
       "      <th>0_Area under the curve</th>\n",
       "      <th>0_Autocorrelation</th>\n",
       "      <th>0_Centroid</th>\n",
       "      <th>0_Entropy</th>\n",
       "      <th>0_Mean absolute diff</th>\n",
       "      <th>0_Mean diff</th>\n",
       "      <th>0_Median absolute diff</th>\n",
       "      <th>0_Median diff</th>\n",
       "      <th>0_Negative turning points</th>\n",
       "      <th>...</th>\n",
       "      <th>0_Negative turning points</th>\n",
       "      <th>0_Neighbourhood peaks</th>\n",
       "      <th>0_Peak to peak distance</th>\n",
       "      <th>0_Positive turning points</th>\n",
       "      <th>0_Signal distance</th>\n",
       "      <th>0_Slope</th>\n",
       "      <th>0_Sum absolute diff</th>\n",
       "      <th>0_Total energy</th>\n",
       "      <th>0_Zero crossing rate</th>\n",
       "      <th>out</th>\n",
       "    </tr>\n",
       "  </thead>\n",
       "  <tbody>\n",
       "    <tr>\n",
       "      <th>0</th>\n",
       "      <td>142365.0174</td>\n",
       "      <td>286.28765</td>\n",
       "      <td>142365.0174</td>\n",
       "      <td>148.380897</td>\n",
       "      <td>0.536766</td>\n",
       "      <td>0.068391</td>\n",
       "      <td>0.000006</td>\n",
       "      <td>0.0</td>\n",
       "      <td>0.0</td>\n",
       "      <td>121.0</td>\n",
       "      <td>...</td>\n",
       "      <td>30.0</td>\n",
       "      <td>12.0</td>\n",
       "      <td>16.58</td>\n",
       "      <td>26.0</td>\n",
       "      <td>30772.740382</td>\n",
       "      <td>1.959646e-06</td>\n",
       "      <td>267.32</td>\n",
       "      <td>36.060530</td>\n",
       "      <td>422.0</td>\n",
       "      <td>1</td>\n",
       "    </tr>\n",
       "    <tr>\n",
       "      <th>0</th>\n",
       "      <td>200857.1379</td>\n",
       "      <td>472.59640</td>\n",
       "      <td>200857.1379</td>\n",
       "      <td>150.243476</td>\n",
       "      <td>0.608193</td>\n",
       "      <td>0.072566</td>\n",
       "      <td>-0.000019</td>\n",
       "      <td>0.0</td>\n",
       "      <td>0.0</td>\n",
       "      <td>3.0</td>\n",
       "      <td>...</td>\n",
       "      <td>145.0</td>\n",
       "      <td>32.0</td>\n",
       "      <td>10.02</td>\n",
       "      <td>133.0</td>\n",
       "      <td>30221.612917</td>\n",
       "      <td>-2.278738e-06</td>\n",
       "      <td>395.44</td>\n",
       "      <td>81.343710</td>\n",
       "      <td>839.0</td>\n",
       "      <td>1</td>\n",
       "    </tr>\n",
       "    <tr>\n",
       "      <th>0</th>\n",
       "      <td>17428.5243</td>\n",
       "      <td>104.19660</td>\n",
       "      <td>17428.5243</td>\n",
       "      <td>60.685034</td>\n",
       "      <td>0.605717</td>\n",
       "      <td>0.061699</td>\n",
       "      <td>0.000023</td>\n",
       "      <td>0.0</td>\n",
       "      <td>0.0</td>\n",
       "      <td>136.0</td>\n",
       "      <td>...</td>\n",
       "      <td>11.0</td>\n",
       "      <td>12.0</td>\n",
       "      <td>2.47</td>\n",
       "      <td>18.0</td>\n",
       "      <td>14564.629231</td>\n",
       "      <td>-8.298997e-07</td>\n",
       "      <td>95.32</td>\n",
       "      <td>4.821618</td>\n",
       "      <td>289.0</td>\n",
       "      <td>1</td>\n",
       "    </tr>\n",
       "    <tr>\n",
       "      <th>0</th>\n",
       "      <td>143933.2155</td>\n",
       "      <td>492.42680</td>\n",
       "      <td>143933.2155</td>\n",
       "      <td>355.427154</td>\n",
       "      <td>0.488515</td>\n",
       "      <td>0.036480</td>\n",
       "      <td>0.000004</td>\n",
       "      <td>0.0</td>\n",
       "      <td>0.0</td>\n",
       "      <td>325.0</td>\n",
       "      <td>...</td>\n",
       "      <td>174.0</td>\n",
       "      <td>33.0</td>\n",
       "      <td>12.17</td>\n",
       "      <td>170.0</td>\n",
       "      <td>79885.731347</td>\n",
       "      <td>2.104734e-06</td>\n",
       "      <td>492.84</td>\n",
       "      <td>29.625755</td>\n",
       "      <td>1309.0</td>\n",
       "      <td>1</td>\n",
       "    </tr>\n",
       "    <tr>\n",
       "      <th>0</th>\n",
       "      <td>29660.6292</td>\n",
       "      <td>142.08075</td>\n",
       "      <td>29660.6292</td>\n",
       "      <td>87.713568</td>\n",
       "      <td>0.611549</td>\n",
       "      <td>0.075822</td>\n",
       "      <td>0.000016</td>\n",
       "      <td>0.0</td>\n",
       "      <td>0.0</td>\n",
       "      <td>152.0</td>\n",
       "      <td>...</td>\n",
       "      <td>19.0</td>\n",
       "      <td>22.0</td>\n",
       "      <td>2.12</td>\n",
       "      <td>27.0</td>\n",
       "      <td>16932.717928</td>\n",
       "      <td>-4.184387e-07</td>\n",
       "      <td>141.91</td>\n",
       "      <td>4.430320</td>\n",
       "      <td>483.0</td>\n",
       "      <td>1</td>\n",
       "    </tr>\n",
       "    <tr>\n",
       "      <th>0</th>\n",
       "      <td>296524.4195</td>\n",
       "      <td>724.76860</td>\n",
       "      <td>296524.4195</td>\n",
       "      <td>205.165029</td>\n",
       "      <td>0.608024</td>\n",
       "      <td>0.065663</td>\n",
       "      <td>-0.000006</td>\n",
       "      <td>0.0</td>\n",
       "      <td>0.0</td>\n",
       "      <td>29.0</td>\n",
       "      <td>...</td>\n",
       "      <td>161.0</td>\n",
       "      <td>49.0</td>\n",
       "      <td>7.94</td>\n",
       "      <td>183.0</td>\n",
       "      <td>44364.102298</td>\n",
       "      <td>4.207922e-06</td>\n",
       "      <td>456.50</td>\n",
       "      <td>40.826123</td>\n",
       "      <td>1018.0</td>\n",
       "      <td>1</td>\n",
       "    </tr>\n",
       "  </tbody>\n",
       "</table>\n",
       "<p>6 rows × 109 columns</p>\n",
       "</div>"
      ],
      "text/plain": [
       "   0_Absolute energy  0_Area under the curve  0_Autocorrelation  0_Centroid  \\\n",
       "0        142365.0174               286.28765        142365.0174  148.380897   \n",
       "0        200857.1379               472.59640        200857.1379  150.243476   \n",
       "0         17428.5243               104.19660         17428.5243   60.685034   \n",
       "0        143933.2155               492.42680        143933.2155  355.427154   \n",
       "0         29660.6292               142.08075         29660.6292   87.713568   \n",
       "0        296524.4195               724.76860        296524.4195  205.165029   \n",
       "\n",
       "   0_Entropy  0_Mean absolute diff  0_Mean diff  0_Median absolute diff  \\\n",
       "0   0.536766              0.068391     0.000006                     0.0   \n",
       "0   0.608193              0.072566    -0.000019                     0.0   \n",
       "0   0.605717              0.061699     0.000023                     0.0   \n",
       "0   0.488515              0.036480     0.000004                     0.0   \n",
       "0   0.611549              0.075822     0.000016                     0.0   \n",
       "0   0.608024              0.065663    -0.000006                     0.0   \n",
       "\n",
       "   0_Median diff  0_Negative turning points  ...  0_Negative turning points  \\\n",
       "0            0.0                      121.0  ...                       30.0   \n",
       "0            0.0                        3.0  ...                      145.0   \n",
       "0            0.0                      136.0  ...                       11.0   \n",
       "0            0.0                      325.0  ...                      174.0   \n",
       "0            0.0                      152.0  ...                       19.0   \n",
       "0            0.0                       29.0  ...                      161.0   \n",
       "\n",
       "   0_Neighbourhood peaks  0_Peak to peak distance  0_Positive turning points  \\\n",
       "0                   12.0                    16.58                       26.0   \n",
       "0                   32.0                    10.02                      133.0   \n",
       "0                   12.0                     2.47                       18.0   \n",
       "0                   33.0                    12.17                      170.0   \n",
       "0                   22.0                     2.12                       27.0   \n",
       "0                   49.0                     7.94                      183.0   \n",
       "\n",
       "   0_Signal distance       0_Slope  0_Sum absolute diff  0_Total energy  \\\n",
       "0       30772.740382  1.959646e-06               267.32       36.060530   \n",
       "0       30221.612917 -2.278738e-06               395.44       81.343710   \n",
       "0       14564.629231 -8.298997e-07                95.32        4.821618   \n",
       "0       79885.731347  2.104734e-06               492.84       29.625755   \n",
       "0       16932.717928 -4.184387e-07               141.91        4.430320   \n",
       "0       44364.102298  4.207922e-06               456.50       40.826123   \n",
       "\n",
       "   0_Zero crossing rate  out  \n",
       "0                 422.0    1  \n",
       "0                 839.0    1  \n",
       "0                 289.0    1  \n",
       "0                1309.0    1  \n",
       "0                 483.0    1  \n",
       "0                1018.0    1  \n",
       "\n",
       "[6 rows x 109 columns]"
      ]
     },
     "execution_count": 158,
     "metadata": {},
     "output_type": "execute_result"
    }
   ],
   "source": [
    "New_df=pd.concat([New_df,next],axis=0)\n",
    "New_df\n"
   ]
  },
  {
   "cell_type": "code",
   "execution_count": 159,
   "metadata": {},
   "outputs": [],
   "source": [
    "New_df.to_csv('dataFeat.csv',index=False)"
   ]
  },
  {
   "cell_type": "markdown",
   "metadata": {},
   "source": [
    "### Data7"
   ]
  },
  {
   "cell_type": "code",
   "execution_count": 160,
   "metadata": {},
   "outputs": [
    {
     "name": "stdout",
     "output_type": "stream",
     "text": [
      "*** Feature extraction started ***\n",
      "18\n"
     ]
    },
    {
     "name": "stderr",
     "output_type": "stream",
     "text": [
      "<ipython-input-160-82c813a37c3d>:5: UserWarning: Using default sampling frequency set in configuration file.\n",
      "  wz=tsfel.time_series_features_extractor(cfg,data7[\"wz\"])\n"
     ]
    },
    {
     "data": {
      "text/html": [
       "\n",
       "              <p>\n",
       "                  Progress: 100% Complete\n",
       "              <p/>            \n",
       "              <progress\n",
       "                  value='18'\n",
       "                  max='18',\n",
       "                  style='width: 25%',\n",
       "              >\n",
       "                  18\n",
       "              </progress>\n",
       "\n",
       "    "
      ],
      "text/plain": [
       "<IPython.core.display.HTML object>"
      ]
     },
     "metadata": {},
     "output_type": "display_data"
    },
    {
     "name": "stdout",
     "output_type": "stream",
     "text": [
      "*** Feature extraction started ***\n",
      "18\n"
     ]
    },
    {
     "name": "stderr",
     "output_type": "stream",
     "text": [
      "<ipython-input-160-82c813a37c3d>:6: UserWarning: Using default sampling frequency set in configuration file.\n",
      "  wx=tsfel.time_series_features_extractor(cfg,data7[\"wx\"])\n"
     ]
    },
    {
     "data": {
      "text/html": [
       "\n",
       "              <p>\n",
       "                  Progress: 100% Complete\n",
       "              <p/>            \n",
       "              <progress\n",
       "                  value='18'\n",
       "                  max='18',\n",
       "                  style='width: 25%',\n",
       "              >\n",
       "                  18\n",
       "              </progress>\n",
       "\n",
       "    "
      ],
      "text/plain": [
       "<IPython.core.display.HTML object>"
      ]
     },
     "metadata": {},
     "output_type": "display_data"
    },
    {
     "name": "stdout",
     "output_type": "stream",
     "text": [
      "*** Feature extraction started ***\n",
      "18\n"
     ]
    },
    {
     "name": "stderr",
     "output_type": "stream",
     "text": [
      "<ipython-input-160-82c813a37c3d>:7: UserWarning: Using default sampling frequency set in configuration file.\n",
      "  wy=tsfel.time_series_features_extractor(cfg,data7[\"wy\"])\n"
     ]
    },
    {
     "data": {
      "text/html": [
       "\n",
       "              <p>\n",
       "                  Progress: 100% Complete\n",
       "              <p/>            \n",
       "              <progress\n",
       "                  value='18'\n",
       "                  max='18',\n",
       "                  style='width: 25%',\n",
       "              >\n",
       "                  18\n",
       "              </progress>\n",
       "\n",
       "    "
      ],
      "text/plain": [
       "<IPython.core.display.HTML object>"
      ]
     },
     "metadata": {},
     "output_type": "display_data"
    }
   ],
   "source": [
    "#giroscopio \n",
    "cfg=tsfel.get_features_by_domain(\"temporal\")\n",
    "\n",
    "#extract features\n",
    "wz=tsfel.time_series_features_extractor(cfg,data7[\"wz\"])\n",
    "wx=tsfel.time_series_features_extractor(cfg,data7[\"wx\"])\n",
    "wy=tsfel.time_series_features_extractor(cfg,data7[\"wy\"])"
   ]
  },
  {
   "cell_type": "code",
   "execution_count": 161,
   "metadata": {},
   "outputs": [
    {
     "name": "stdout",
     "output_type": "stream",
     "text": [
      "*** Feature extraction started ***\n",
      "18\n"
     ]
    },
    {
     "name": "stderr",
     "output_type": "stream",
     "text": [
      "<ipython-input-161-1ccedb22a2bc>:1: UserWarning: Using default sampling frequency set in configuration file.\n",
      "  az=tsfel.time_series_features_extractor(cfg,data7[\"az\"])\n"
     ]
    },
    {
     "data": {
      "text/html": [
       "\n",
       "              <p>\n",
       "                  Progress: 100% Complete\n",
       "              <p/>            \n",
       "              <progress\n",
       "                  value='18'\n",
       "                  max='18',\n",
       "                  style='width: 25%',\n",
       "              >\n",
       "                  18\n",
       "              </progress>\n",
       "\n",
       "    "
      ],
      "text/plain": [
       "<IPython.core.display.HTML object>"
      ]
     },
     "metadata": {},
     "output_type": "display_data"
    },
    {
     "name": "stdout",
     "output_type": "stream",
     "text": [
      "*** Feature extraction started ***\n",
      "18\n"
     ]
    },
    {
     "name": "stderr",
     "output_type": "stream",
     "text": [
      "<ipython-input-161-1ccedb22a2bc>:2: UserWarning: Using default sampling frequency set in configuration file.\n",
      "  ax=tsfel.time_series_features_extractor(cfg,data7[\"ax\"])\n"
     ]
    },
    {
     "data": {
      "text/html": [
       "\n",
       "              <p>\n",
       "                  Progress: 100% Complete\n",
       "              <p/>            \n",
       "              <progress\n",
       "                  value='18'\n",
       "                  max='18',\n",
       "                  style='width: 25%',\n",
       "              >\n",
       "                  18\n",
       "              </progress>\n",
       "\n",
       "    "
      ],
      "text/plain": [
       "<IPython.core.display.HTML object>"
      ]
     },
     "metadata": {},
     "output_type": "display_data"
    },
    {
     "name": "stdout",
     "output_type": "stream",
     "text": [
      "*** Feature extraction started ***\n",
      "18\n"
     ]
    },
    {
     "name": "stderr",
     "output_type": "stream",
     "text": [
      "<ipython-input-161-1ccedb22a2bc>:3: UserWarning: Using default sampling frequency set in configuration file.\n",
      "  ay=tsfel.time_series_features_extractor(cfg,data7[\"ay\"])\n"
     ]
    },
    {
     "data": {
      "text/html": [
       "\n",
       "              <p>\n",
       "                  Progress: 100% Complete\n",
       "              <p/>            \n",
       "              <progress\n",
       "                  value='18'\n",
       "                  max='18',\n",
       "                  style='width: 25%',\n",
       "              >\n",
       "                  18\n",
       "              </progress>\n",
       "\n",
       "    "
      ],
      "text/plain": [
       "<IPython.core.display.HTML object>"
      ]
     },
     "metadata": {},
     "output_type": "display_data"
    }
   ],
   "source": [
    "az=tsfel.time_series_features_extractor(cfg,data7[\"az\"])\n",
    "ax=tsfel.time_series_features_extractor(cfg,data7[\"ax\"])\n",
    "ay=tsfel.time_series_features_extractor(cfg,data7[\"ay\"])\n"
   ]
  },
  {
   "cell_type": "code",
   "execution_count": 162,
   "metadata": {},
   "outputs": [
    {
     "data": {
      "text/html": [
       "<div>\n",
       "<style scoped>\n",
       "    .dataframe tbody tr th:only-of-type {\n",
       "        vertical-align: middle;\n",
       "    }\n",
       "\n",
       "    .dataframe tbody tr th {\n",
       "        vertical-align: top;\n",
       "    }\n",
       "\n",
       "    .dataframe thead th {\n",
       "        text-align: right;\n",
       "    }\n",
       "</style>\n",
       "<table border=\"1\" class=\"dataframe\">\n",
       "  <thead>\n",
       "    <tr style=\"text-align: right;\">\n",
       "      <th></th>\n",
       "      <th>0_Absolute energy</th>\n",
       "      <th>0_Area under the curve</th>\n",
       "      <th>0_Autocorrelation</th>\n",
       "      <th>0_Centroid</th>\n",
       "      <th>0_Entropy</th>\n",
       "      <th>0_Mean absolute diff</th>\n",
       "      <th>0_Mean diff</th>\n",
       "      <th>0_Median absolute diff</th>\n",
       "      <th>0_Median diff</th>\n",
       "      <th>0_Negative turning points</th>\n",
       "      <th>...</th>\n",
       "      <th>0_Negative turning points</th>\n",
       "      <th>0_Neighbourhood peaks</th>\n",
       "      <th>0_Peak to peak distance</th>\n",
       "      <th>0_Positive turning points</th>\n",
       "      <th>0_Signal distance</th>\n",
       "      <th>0_Slope</th>\n",
       "      <th>0_Sum absolute diff</th>\n",
       "      <th>0_Total energy</th>\n",
       "      <th>0_Zero crossing rate</th>\n",
       "      <th>out</th>\n",
       "    </tr>\n",
       "  </thead>\n",
       "  <tbody>\n",
       "    <tr>\n",
       "      <th>0</th>\n",
       "      <td>20721.689546</td>\n",
       "      <td>51.893789</td>\n",
       "      <td>20721.689546</td>\n",
       "      <td>23.973862</td>\n",
       "      <td>0.709601</td>\n",
       "      <td>0.434191</td>\n",
       "      <td>-0.00001</td>\n",
       "      <td>0.16</td>\n",
       "      <td>0.0</td>\n",
       "      <td>551.0</td>\n",
       "      <td>...</td>\n",
       "      <td>319.0</td>\n",
       "      <td>118.0</td>\n",
       "      <td>10.54</td>\n",
       "      <td>321.0</td>\n",
       "      <td>5107.706105</td>\n",
       "      <td>0.000104</td>\n",
       "      <td>469.843082</td>\n",
       "      <td>60.881036</td>\n",
       "      <td>459.0</td>\n",
       "      <td>1</td>\n",
       "    </tr>\n",
       "  </tbody>\n",
       "</table>\n",
       "<p>1 rows × 109 columns</p>\n",
       "</div>"
      ],
      "text/plain": [
       "   0_Absolute energy  0_Area under the curve  0_Autocorrelation  0_Centroid  \\\n",
       "0       20721.689546               51.893789       20721.689546   23.973862   \n",
       "\n",
       "   0_Entropy  0_Mean absolute diff  0_Mean diff  0_Median absolute diff  \\\n",
       "0   0.709601              0.434191     -0.00001                    0.16   \n",
       "\n",
       "   0_Median diff  0_Negative turning points  ...  0_Negative turning points  \\\n",
       "0            0.0                      551.0  ...                      319.0   \n",
       "\n",
       "   0_Neighbourhood peaks  0_Peak to peak distance  0_Positive turning points  \\\n",
       "0                  118.0                    10.54                      321.0   \n",
       "\n",
       "   0_Signal distance   0_Slope  0_Sum absolute diff  0_Total energy  \\\n",
       "0        5107.706105  0.000104           469.843082       60.881036   \n",
       "\n",
       "   0_Zero crossing rate  out  \n",
       "0                 459.0    1  \n",
       "\n",
       "[1 rows x 109 columns]"
      ]
     },
     "execution_count": 162,
     "metadata": {},
     "output_type": "execute_result"
    }
   ],
   "source": [
    "#Etiquetado 1=caida, 0=no caida\n",
    "next=pd.concat([ax,ay,az,wx,wy,wz,y],axis=1)\n",
    "next"
   ]
  },
  {
   "cell_type": "code",
   "execution_count": 163,
   "metadata": {},
   "outputs": [
    {
     "data": {
      "text/html": [
       "<div>\n",
       "<style scoped>\n",
       "    .dataframe tbody tr th:only-of-type {\n",
       "        vertical-align: middle;\n",
       "    }\n",
       "\n",
       "    .dataframe tbody tr th {\n",
       "        vertical-align: top;\n",
       "    }\n",
       "\n",
       "    .dataframe thead th {\n",
       "        text-align: right;\n",
       "    }\n",
       "</style>\n",
       "<table border=\"1\" class=\"dataframe\">\n",
       "  <thead>\n",
       "    <tr style=\"text-align: right;\">\n",
       "      <th></th>\n",
       "      <th>0_Absolute energy</th>\n",
       "      <th>0_Area under the curve</th>\n",
       "      <th>0_Autocorrelation</th>\n",
       "      <th>0_Centroid</th>\n",
       "      <th>0_Entropy</th>\n",
       "      <th>0_Mean absolute diff</th>\n",
       "      <th>0_Mean diff</th>\n",
       "      <th>0_Median absolute diff</th>\n",
       "      <th>0_Median diff</th>\n",
       "      <th>0_Negative turning points</th>\n",
       "      <th>...</th>\n",
       "      <th>0_Negative turning points</th>\n",
       "      <th>0_Neighbourhood peaks</th>\n",
       "      <th>0_Peak to peak distance</th>\n",
       "      <th>0_Positive turning points</th>\n",
       "      <th>0_Signal distance</th>\n",
       "      <th>0_Slope</th>\n",
       "      <th>0_Sum absolute diff</th>\n",
       "      <th>0_Total energy</th>\n",
       "      <th>0_Zero crossing rate</th>\n",
       "      <th>out</th>\n",
       "    </tr>\n",
       "  </thead>\n",
       "  <tbody>\n",
       "    <tr>\n",
       "      <th>0</th>\n",
       "      <td>142365.017400</td>\n",
       "      <td>286.287650</td>\n",
       "      <td>142365.017400</td>\n",
       "      <td>148.380897</td>\n",
       "      <td>0.536766</td>\n",
       "      <td>0.068391</td>\n",
       "      <td>0.000006</td>\n",
       "      <td>0.00</td>\n",
       "      <td>0.0</td>\n",
       "      <td>121.0</td>\n",
       "      <td>...</td>\n",
       "      <td>30.0</td>\n",
       "      <td>12.0</td>\n",
       "      <td>16.58</td>\n",
       "      <td>26.0</td>\n",
       "      <td>30772.740382</td>\n",
       "      <td>1.959646e-06</td>\n",
       "      <td>267.320000</td>\n",
       "      <td>36.060530</td>\n",
       "      <td>422.0</td>\n",
       "      <td>1</td>\n",
       "    </tr>\n",
       "    <tr>\n",
       "      <th>0</th>\n",
       "      <td>200857.137900</td>\n",
       "      <td>472.596400</td>\n",
       "      <td>200857.137900</td>\n",
       "      <td>150.243476</td>\n",
       "      <td>0.608193</td>\n",
       "      <td>0.072566</td>\n",
       "      <td>-0.000019</td>\n",
       "      <td>0.00</td>\n",
       "      <td>0.0</td>\n",
       "      <td>3.0</td>\n",
       "      <td>...</td>\n",
       "      <td>145.0</td>\n",
       "      <td>32.0</td>\n",
       "      <td>10.02</td>\n",
       "      <td>133.0</td>\n",
       "      <td>30221.612917</td>\n",
       "      <td>-2.278738e-06</td>\n",
       "      <td>395.440000</td>\n",
       "      <td>81.343710</td>\n",
       "      <td>839.0</td>\n",
       "      <td>1</td>\n",
       "    </tr>\n",
       "    <tr>\n",
       "      <th>0</th>\n",
       "      <td>17428.524300</td>\n",
       "      <td>104.196600</td>\n",
       "      <td>17428.524300</td>\n",
       "      <td>60.685034</td>\n",
       "      <td>0.605717</td>\n",
       "      <td>0.061699</td>\n",
       "      <td>0.000023</td>\n",
       "      <td>0.00</td>\n",
       "      <td>0.0</td>\n",
       "      <td>136.0</td>\n",
       "      <td>...</td>\n",
       "      <td>11.0</td>\n",
       "      <td>12.0</td>\n",
       "      <td>2.47</td>\n",
       "      <td>18.0</td>\n",
       "      <td>14564.629231</td>\n",
       "      <td>-8.298997e-07</td>\n",
       "      <td>95.320000</td>\n",
       "      <td>4.821618</td>\n",
       "      <td>289.0</td>\n",
       "      <td>1</td>\n",
       "    </tr>\n",
       "    <tr>\n",
       "      <th>0</th>\n",
       "      <td>143933.215500</td>\n",
       "      <td>492.426800</td>\n",
       "      <td>143933.215500</td>\n",
       "      <td>355.427154</td>\n",
       "      <td>0.488515</td>\n",
       "      <td>0.036480</td>\n",
       "      <td>0.000004</td>\n",
       "      <td>0.00</td>\n",
       "      <td>0.0</td>\n",
       "      <td>325.0</td>\n",
       "      <td>...</td>\n",
       "      <td>174.0</td>\n",
       "      <td>33.0</td>\n",
       "      <td>12.17</td>\n",
       "      <td>170.0</td>\n",
       "      <td>79885.731347</td>\n",
       "      <td>2.104734e-06</td>\n",
       "      <td>492.840000</td>\n",
       "      <td>29.625755</td>\n",
       "      <td>1309.0</td>\n",
       "      <td>1</td>\n",
       "    </tr>\n",
       "    <tr>\n",
       "      <th>0</th>\n",
       "      <td>29660.629200</td>\n",
       "      <td>142.080750</td>\n",
       "      <td>29660.629200</td>\n",
       "      <td>87.713568</td>\n",
       "      <td>0.611549</td>\n",
       "      <td>0.075822</td>\n",
       "      <td>0.000016</td>\n",
       "      <td>0.00</td>\n",
       "      <td>0.0</td>\n",
       "      <td>152.0</td>\n",
       "      <td>...</td>\n",
       "      <td>19.0</td>\n",
       "      <td>22.0</td>\n",
       "      <td>2.12</td>\n",
       "      <td>27.0</td>\n",
       "      <td>16932.717928</td>\n",
       "      <td>-4.184387e-07</td>\n",
       "      <td>141.910000</td>\n",
       "      <td>4.430320</td>\n",
       "      <td>483.0</td>\n",
       "      <td>1</td>\n",
       "    </tr>\n",
       "    <tr>\n",
       "      <th>0</th>\n",
       "      <td>296524.419500</td>\n",
       "      <td>724.768600</td>\n",
       "      <td>296524.419500</td>\n",
       "      <td>205.165029</td>\n",
       "      <td>0.608024</td>\n",
       "      <td>0.065663</td>\n",
       "      <td>-0.000006</td>\n",
       "      <td>0.00</td>\n",
       "      <td>0.0</td>\n",
       "      <td>29.0</td>\n",
       "      <td>...</td>\n",
       "      <td>161.0</td>\n",
       "      <td>49.0</td>\n",
       "      <td>7.94</td>\n",
       "      <td>183.0</td>\n",
       "      <td>44364.102298</td>\n",
       "      <td>4.207922e-06</td>\n",
       "      <td>456.500000</td>\n",
       "      <td>40.826123</td>\n",
       "      <td>1018.0</td>\n",
       "      <td>1</td>\n",
       "    </tr>\n",
       "    <tr>\n",
       "      <th>0</th>\n",
       "      <td>20721.689546</td>\n",
       "      <td>51.893789</td>\n",
       "      <td>20721.689546</td>\n",
       "      <td>23.973862</td>\n",
       "      <td>0.709601</td>\n",
       "      <td>0.434191</td>\n",
       "      <td>-0.000010</td>\n",
       "      <td>0.16</td>\n",
       "      <td>0.0</td>\n",
       "      <td>551.0</td>\n",
       "      <td>...</td>\n",
       "      <td>319.0</td>\n",
       "      <td>118.0</td>\n",
       "      <td>10.54</td>\n",
       "      <td>321.0</td>\n",
       "      <td>5107.706105</td>\n",
       "      <td>1.044590e-04</td>\n",
       "      <td>469.843082</td>\n",
       "      <td>60.881036</td>\n",
       "      <td>459.0</td>\n",
       "      <td>1</td>\n",
       "    </tr>\n",
       "  </tbody>\n",
       "</table>\n",
       "<p>7 rows × 109 columns</p>\n",
       "</div>"
      ],
      "text/plain": [
       "   0_Absolute energy  0_Area under the curve  0_Autocorrelation  0_Centroid  \\\n",
       "0      142365.017400              286.287650      142365.017400  148.380897   \n",
       "0      200857.137900              472.596400      200857.137900  150.243476   \n",
       "0       17428.524300              104.196600       17428.524300   60.685034   \n",
       "0      143933.215500              492.426800      143933.215500  355.427154   \n",
       "0       29660.629200              142.080750       29660.629200   87.713568   \n",
       "0      296524.419500              724.768600      296524.419500  205.165029   \n",
       "0       20721.689546               51.893789       20721.689546   23.973862   \n",
       "\n",
       "   0_Entropy  0_Mean absolute diff  0_Mean diff  0_Median absolute diff  \\\n",
       "0   0.536766              0.068391     0.000006                    0.00   \n",
       "0   0.608193              0.072566    -0.000019                    0.00   \n",
       "0   0.605717              0.061699     0.000023                    0.00   \n",
       "0   0.488515              0.036480     0.000004                    0.00   \n",
       "0   0.611549              0.075822     0.000016                    0.00   \n",
       "0   0.608024              0.065663    -0.000006                    0.00   \n",
       "0   0.709601              0.434191    -0.000010                    0.16   \n",
       "\n",
       "   0_Median diff  0_Negative turning points  ...  0_Negative turning points  \\\n",
       "0            0.0                      121.0  ...                       30.0   \n",
       "0            0.0                        3.0  ...                      145.0   \n",
       "0            0.0                      136.0  ...                       11.0   \n",
       "0            0.0                      325.0  ...                      174.0   \n",
       "0            0.0                      152.0  ...                       19.0   \n",
       "0            0.0                       29.0  ...                      161.0   \n",
       "0            0.0                      551.0  ...                      319.0   \n",
       "\n",
       "   0_Neighbourhood peaks  0_Peak to peak distance  0_Positive turning points  \\\n",
       "0                   12.0                    16.58                       26.0   \n",
       "0                   32.0                    10.02                      133.0   \n",
       "0                   12.0                     2.47                       18.0   \n",
       "0                   33.0                    12.17                      170.0   \n",
       "0                   22.0                     2.12                       27.0   \n",
       "0                   49.0                     7.94                      183.0   \n",
       "0                  118.0                    10.54                      321.0   \n",
       "\n",
       "   0_Signal distance       0_Slope  0_Sum absolute diff  0_Total energy  \\\n",
       "0       30772.740382  1.959646e-06           267.320000       36.060530   \n",
       "0       30221.612917 -2.278738e-06           395.440000       81.343710   \n",
       "0       14564.629231 -8.298997e-07            95.320000        4.821618   \n",
       "0       79885.731347  2.104734e-06           492.840000       29.625755   \n",
       "0       16932.717928 -4.184387e-07           141.910000        4.430320   \n",
       "0       44364.102298  4.207922e-06           456.500000       40.826123   \n",
       "0        5107.706105  1.044590e-04           469.843082       60.881036   \n",
       "\n",
       "   0_Zero crossing rate  out  \n",
       "0                 422.0    1  \n",
       "0                 839.0    1  \n",
       "0                 289.0    1  \n",
       "0                1309.0    1  \n",
       "0                 483.0    1  \n",
       "0                1018.0    1  \n",
       "0                 459.0    1  \n",
       "\n",
       "[7 rows x 109 columns]"
      ]
     },
     "execution_count": 163,
     "metadata": {},
     "output_type": "execute_result"
    }
   ],
   "source": [
    "New_df=pd.concat([New_df,next],axis=0)\n",
    "New_df\n"
   ]
  },
  {
   "cell_type": "code",
   "execution_count": 164,
   "metadata": {},
   "outputs": [],
   "source": [
    "New_df.to_csv('dataFeat.csv',index=False)"
   ]
  },
  {
   "cell_type": "markdown",
   "metadata": {},
   "source": [
    "### Data 8"
   ]
  },
  {
   "cell_type": "code",
   "execution_count": 165,
   "metadata": {},
   "outputs": [
    {
     "name": "stdout",
     "output_type": "stream",
     "text": [
      "*** Feature extraction started ***\n",
      "18\n"
     ]
    },
    {
     "name": "stderr",
     "output_type": "stream",
     "text": [
      "<ipython-input-165-e00ccbfdaecb>:5: UserWarning: Using default sampling frequency set in configuration file.\n",
      "  wz=tsfel.time_series_features_extractor(cfg,data8[\"wz\"])\n"
     ]
    },
    {
     "data": {
      "text/html": [
       "\n",
       "              <p>\n",
       "                  Progress: 100% Complete\n",
       "              <p/>            \n",
       "              <progress\n",
       "                  value='18'\n",
       "                  max='18',\n",
       "                  style='width: 25%',\n",
       "              >\n",
       "                  18\n",
       "              </progress>\n",
       "\n",
       "    "
      ],
      "text/plain": [
       "<IPython.core.display.HTML object>"
      ]
     },
     "metadata": {},
     "output_type": "display_data"
    },
    {
     "name": "stdout",
     "output_type": "stream",
     "text": [
      "*** Feature extraction started ***\n",
      "18\n"
     ]
    },
    {
     "name": "stderr",
     "output_type": "stream",
     "text": [
      "<ipython-input-165-e00ccbfdaecb>:6: UserWarning: Using default sampling frequency set in configuration file.\n",
      "  wx=tsfel.time_series_features_extractor(cfg,data8[\"wx\"])\n"
     ]
    },
    {
     "data": {
      "text/html": [
       "\n",
       "              <p>\n",
       "                  Progress: 100% Complete\n",
       "              <p/>            \n",
       "              <progress\n",
       "                  value='18'\n",
       "                  max='18',\n",
       "                  style='width: 25%',\n",
       "              >\n",
       "                  18\n",
       "              </progress>\n",
       "\n",
       "    "
      ],
      "text/plain": [
       "<IPython.core.display.HTML object>"
      ]
     },
     "metadata": {},
     "output_type": "display_data"
    },
    {
     "name": "stdout",
     "output_type": "stream",
     "text": [
      "*** Feature extraction started ***\n",
      "18\n"
     ]
    },
    {
     "name": "stderr",
     "output_type": "stream",
     "text": [
      "<ipython-input-165-e00ccbfdaecb>:7: UserWarning: Using default sampling frequency set in configuration file.\n",
      "  wy=tsfel.time_series_features_extractor(cfg,data8[\"wy\"])\n"
     ]
    },
    {
     "data": {
      "text/html": [
       "\n",
       "              <p>\n",
       "                  Progress: 100% Complete\n",
       "              <p/>            \n",
       "              <progress\n",
       "                  value='18'\n",
       "                  max='18',\n",
       "                  style='width: 25%',\n",
       "              >\n",
       "                  18\n",
       "              </progress>\n",
       "\n",
       "    "
      ],
      "text/plain": [
       "<IPython.core.display.HTML object>"
      ]
     },
     "metadata": {},
     "output_type": "display_data"
    }
   ],
   "source": [
    "#giroscopio \n",
    "cfg=tsfel.get_features_by_domain(\"temporal\")\n",
    "\n",
    "#extract features\n",
    "wz=tsfel.time_series_features_extractor(cfg,data8[\"wz\"])\n",
    "wx=tsfel.time_series_features_extractor(cfg,data8[\"wx\"])\n",
    "wy=tsfel.time_series_features_extractor(cfg,data8[\"wy\"])"
   ]
  },
  {
   "cell_type": "code",
   "execution_count": 166,
   "metadata": {},
   "outputs": [
    {
     "name": "stdout",
     "output_type": "stream",
     "text": [
      "*** Feature extraction started ***\n",
      "18\n"
     ]
    },
    {
     "name": "stderr",
     "output_type": "stream",
     "text": [
      "<ipython-input-166-7eb762d38ff5>:1: UserWarning: Using default sampling frequency set in configuration file.\n",
      "  az=tsfel.time_series_features_extractor(cfg,data8[\"az\"])\n"
     ]
    },
    {
     "data": {
      "text/html": [
       "\n",
       "              <p>\n",
       "                  Progress: 100% Complete\n",
       "              <p/>            \n",
       "              <progress\n",
       "                  value='18'\n",
       "                  max='18',\n",
       "                  style='width: 25%',\n",
       "              >\n",
       "                  18\n",
       "              </progress>\n",
       "\n",
       "    "
      ],
      "text/plain": [
       "<IPython.core.display.HTML object>"
      ]
     },
     "metadata": {},
     "output_type": "display_data"
    },
    {
     "name": "stdout",
     "output_type": "stream",
     "text": [
      "*** Feature extraction started ***\n",
      "18\n"
     ]
    },
    {
     "name": "stderr",
     "output_type": "stream",
     "text": [
      "<ipython-input-166-7eb762d38ff5>:2: UserWarning: Using default sampling frequency set in configuration file.\n",
      "  ax=tsfel.time_series_features_extractor(cfg,data8[\"ax\"])\n"
     ]
    },
    {
     "data": {
      "text/html": [
       "\n",
       "              <p>\n",
       "                  Progress: 100% Complete\n",
       "              <p/>            \n",
       "              <progress\n",
       "                  value='18'\n",
       "                  max='18',\n",
       "                  style='width: 25%',\n",
       "              >\n",
       "                  18\n",
       "              </progress>\n",
       "\n",
       "    "
      ],
      "text/plain": [
       "<IPython.core.display.HTML object>"
      ]
     },
     "metadata": {},
     "output_type": "display_data"
    },
    {
     "name": "stdout",
     "output_type": "stream",
     "text": [
      "*** Feature extraction started ***\n",
      "18\n"
     ]
    },
    {
     "name": "stderr",
     "output_type": "stream",
     "text": [
      "<ipython-input-166-7eb762d38ff5>:3: UserWarning: Using default sampling frequency set in configuration file.\n",
      "  ay=tsfel.time_series_features_extractor(cfg,data8[\"ay\"])\n"
     ]
    },
    {
     "data": {
      "text/html": [
       "\n",
       "              <p>\n",
       "                  Progress: 100% Complete\n",
       "              <p/>            \n",
       "              <progress\n",
       "                  value='18'\n",
       "                  max='18',\n",
       "                  style='width: 25%',\n",
       "              >\n",
       "                  18\n",
       "              </progress>\n",
       "\n",
       "    "
      ],
      "text/plain": [
       "<IPython.core.display.HTML object>"
      ]
     },
     "metadata": {},
     "output_type": "display_data"
    }
   ],
   "source": [
    "az=tsfel.time_series_features_extractor(cfg,data8[\"az\"])\n",
    "ax=tsfel.time_series_features_extractor(cfg,data8[\"ax\"])\n",
    "ay=tsfel.time_series_features_extractor(cfg,data8[\"ay\"])"
   ]
  },
  {
   "cell_type": "code",
   "execution_count": 167,
   "metadata": {},
   "outputs": [
    {
     "data": {
      "text/html": [
       "<div>\n",
       "<style scoped>\n",
       "    .dataframe tbody tr th:only-of-type {\n",
       "        vertical-align: middle;\n",
       "    }\n",
       "\n",
       "    .dataframe tbody tr th {\n",
       "        vertical-align: top;\n",
       "    }\n",
       "\n",
       "    .dataframe thead th {\n",
       "        text-align: right;\n",
       "    }\n",
       "</style>\n",
       "<table border=\"1\" class=\"dataframe\">\n",
       "  <thead>\n",
       "    <tr style=\"text-align: right;\">\n",
       "      <th></th>\n",
       "      <th>0_Absolute energy</th>\n",
       "      <th>0_Area under the curve</th>\n",
       "      <th>0_Autocorrelation</th>\n",
       "      <th>0_Centroid</th>\n",
       "      <th>0_Entropy</th>\n",
       "      <th>0_Mean absolute diff</th>\n",
       "      <th>0_Mean diff</th>\n",
       "      <th>0_Median absolute diff</th>\n",
       "      <th>0_Median diff</th>\n",
       "      <th>0_Negative turning points</th>\n",
       "      <th>...</th>\n",
       "      <th>0_Negative turning points</th>\n",
       "      <th>0_Neighbourhood peaks</th>\n",
       "      <th>0_Peak to peak distance</th>\n",
       "      <th>0_Positive turning points</th>\n",
       "      <th>0_Signal distance</th>\n",
       "      <th>0_Slope</th>\n",
       "      <th>0_Sum absolute diff</th>\n",
       "      <th>0_Total energy</th>\n",
       "      <th>0_Zero crossing rate</th>\n",
       "      <th>out</th>\n",
       "    </tr>\n",
       "  </thead>\n",
       "  <tbody>\n",
       "    <tr>\n",
       "      <th>0</th>\n",
       "      <td>17494.1594</td>\n",
       "      <td>51.74805</td>\n",
       "      <td>17494.1594</td>\n",
       "      <td>18.665935</td>\n",
       "      <td>0.722106</td>\n",
       "      <td>0.425595</td>\n",
       "      <td>-0.000166</td>\n",
       "      <td>0.17</td>\n",
       "      <td>0.0</td>\n",
       "      <td>517.0</td>\n",
       "      <td>...</td>\n",
       "      <td>316.0</td>\n",
       "      <td>100.0</td>\n",
       "      <td>14.14</td>\n",
       "      <td>325.0</td>\n",
       "      <td>4839.030093</td>\n",
       "      <td>0.000118</td>\n",
       "      <td>462.32</td>\n",
       "      <td>70.159203</td>\n",
       "      <td>435.0</td>\n",
       "      <td>1</td>\n",
       "    </tr>\n",
       "  </tbody>\n",
       "</table>\n",
       "<p>1 rows × 109 columns</p>\n",
       "</div>"
      ],
      "text/plain": [
       "   0_Absolute energy  0_Area under the curve  0_Autocorrelation  0_Centroid  \\\n",
       "0         17494.1594                51.74805         17494.1594   18.665935   \n",
       "\n",
       "   0_Entropy  0_Mean absolute diff  0_Mean diff  0_Median absolute diff  \\\n",
       "0   0.722106              0.425595    -0.000166                    0.17   \n",
       "\n",
       "   0_Median diff  0_Negative turning points  ...  0_Negative turning points  \\\n",
       "0            0.0                      517.0  ...                      316.0   \n",
       "\n",
       "   0_Neighbourhood peaks  0_Peak to peak distance  0_Positive turning points  \\\n",
       "0                  100.0                    14.14                      325.0   \n",
       "\n",
       "   0_Signal distance   0_Slope  0_Sum absolute diff  0_Total energy  \\\n",
       "0        4839.030093  0.000118               462.32       70.159203   \n",
       "\n",
       "   0_Zero crossing rate  out  \n",
       "0                 435.0    1  \n",
       "\n",
       "[1 rows x 109 columns]"
      ]
     },
     "execution_count": 167,
     "metadata": {},
     "output_type": "execute_result"
    }
   ],
   "source": [
    "#Etiquetado 1=caida, 0=no caida\n",
    "next=pd.concat([ax,ay,az,wx,wy,wz,y],axis=1)\n",
    "next"
   ]
  },
  {
   "cell_type": "code",
   "execution_count": 168,
   "metadata": {},
   "outputs": [
    {
     "data": {
      "text/html": [
       "<div>\n",
       "<style scoped>\n",
       "    .dataframe tbody tr th:only-of-type {\n",
       "        vertical-align: middle;\n",
       "    }\n",
       "\n",
       "    .dataframe tbody tr th {\n",
       "        vertical-align: top;\n",
       "    }\n",
       "\n",
       "    .dataframe thead th {\n",
       "        text-align: right;\n",
       "    }\n",
       "</style>\n",
       "<table border=\"1\" class=\"dataframe\">\n",
       "  <thead>\n",
       "    <tr style=\"text-align: right;\">\n",
       "      <th></th>\n",
       "      <th>0_Absolute energy</th>\n",
       "      <th>0_Area under the curve</th>\n",
       "      <th>0_Autocorrelation</th>\n",
       "      <th>0_Centroid</th>\n",
       "      <th>0_Entropy</th>\n",
       "      <th>0_Mean absolute diff</th>\n",
       "      <th>0_Mean diff</th>\n",
       "      <th>0_Median absolute diff</th>\n",
       "      <th>0_Median diff</th>\n",
       "      <th>0_Negative turning points</th>\n",
       "      <th>...</th>\n",
       "      <th>0_Negative turning points</th>\n",
       "      <th>0_Neighbourhood peaks</th>\n",
       "      <th>0_Peak to peak distance</th>\n",
       "      <th>0_Positive turning points</th>\n",
       "      <th>0_Signal distance</th>\n",
       "      <th>0_Slope</th>\n",
       "      <th>0_Sum absolute diff</th>\n",
       "      <th>0_Total energy</th>\n",
       "      <th>0_Zero crossing rate</th>\n",
       "      <th>out</th>\n",
       "    </tr>\n",
       "  </thead>\n",
       "  <tbody>\n",
       "    <tr>\n",
       "      <th>0</th>\n",
       "      <td>142365.017400</td>\n",
       "      <td>286.287650</td>\n",
       "      <td>142365.017400</td>\n",
       "      <td>148.380897</td>\n",
       "      <td>0.536766</td>\n",
       "      <td>0.068391</td>\n",
       "      <td>0.000006</td>\n",
       "      <td>0.00</td>\n",
       "      <td>0.0</td>\n",
       "      <td>121.0</td>\n",
       "      <td>...</td>\n",
       "      <td>30.0</td>\n",
       "      <td>12.0</td>\n",
       "      <td>16.58</td>\n",
       "      <td>26.0</td>\n",
       "      <td>30772.740382</td>\n",
       "      <td>1.959646e-06</td>\n",
       "      <td>267.320000</td>\n",
       "      <td>36.060530</td>\n",
       "      <td>422.0</td>\n",
       "      <td>1</td>\n",
       "    </tr>\n",
       "    <tr>\n",
       "      <th>0</th>\n",
       "      <td>200857.137900</td>\n",
       "      <td>472.596400</td>\n",
       "      <td>200857.137900</td>\n",
       "      <td>150.243476</td>\n",
       "      <td>0.608193</td>\n",
       "      <td>0.072566</td>\n",
       "      <td>-0.000019</td>\n",
       "      <td>0.00</td>\n",
       "      <td>0.0</td>\n",
       "      <td>3.0</td>\n",
       "      <td>...</td>\n",
       "      <td>145.0</td>\n",
       "      <td>32.0</td>\n",
       "      <td>10.02</td>\n",
       "      <td>133.0</td>\n",
       "      <td>30221.612917</td>\n",
       "      <td>-2.278738e-06</td>\n",
       "      <td>395.440000</td>\n",
       "      <td>81.343710</td>\n",
       "      <td>839.0</td>\n",
       "      <td>1</td>\n",
       "    </tr>\n",
       "    <tr>\n",
       "      <th>0</th>\n",
       "      <td>17428.524300</td>\n",
       "      <td>104.196600</td>\n",
       "      <td>17428.524300</td>\n",
       "      <td>60.685034</td>\n",
       "      <td>0.605717</td>\n",
       "      <td>0.061699</td>\n",
       "      <td>0.000023</td>\n",
       "      <td>0.00</td>\n",
       "      <td>0.0</td>\n",
       "      <td>136.0</td>\n",
       "      <td>...</td>\n",
       "      <td>11.0</td>\n",
       "      <td>12.0</td>\n",
       "      <td>2.47</td>\n",
       "      <td>18.0</td>\n",
       "      <td>14564.629231</td>\n",
       "      <td>-8.298997e-07</td>\n",
       "      <td>95.320000</td>\n",
       "      <td>4.821618</td>\n",
       "      <td>289.0</td>\n",
       "      <td>1</td>\n",
       "    </tr>\n",
       "    <tr>\n",
       "      <th>0</th>\n",
       "      <td>143933.215500</td>\n",
       "      <td>492.426800</td>\n",
       "      <td>143933.215500</td>\n",
       "      <td>355.427154</td>\n",
       "      <td>0.488515</td>\n",
       "      <td>0.036480</td>\n",
       "      <td>0.000004</td>\n",
       "      <td>0.00</td>\n",
       "      <td>0.0</td>\n",
       "      <td>325.0</td>\n",
       "      <td>...</td>\n",
       "      <td>174.0</td>\n",
       "      <td>33.0</td>\n",
       "      <td>12.17</td>\n",
       "      <td>170.0</td>\n",
       "      <td>79885.731347</td>\n",
       "      <td>2.104734e-06</td>\n",
       "      <td>492.840000</td>\n",
       "      <td>29.625755</td>\n",
       "      <td>1309.0</td>\n",
       "      <td>1</td>\n",
       "    </tr>\n",
       "    <tr>\n",
       "      <th>0</th>\n",
       "      <td>29660.629200</td>\n",
       "      <td>142.080750</td>\n",
       "      <td>29660.629200</td>\n",
       "      <td>87.713568</td>\n",
       "      <td>0.611549</td>\n",
       "      <td>0.075822</td>\n",
       "      <td>0.000016</td>\n",
       "      <td>0.00</td>\n",
       "      <td>0.0</td>\n",
       "      <td>152.0</td>\n",
       "      <td>...</td>\n",
       "      <td>19.0</td>\n",
       "      <td>22.0</td>\n",
       "      <td>2.12</td>\n",
       "      <td>27.0</td>\n",
       "      <td>16932.717928</td>\n",
       "      <td>-4.184387e-07</td>\n",
       "      <td>141.910000</td>\n",
       "      <td>4.430320</td>\n",
       "      <td>483.0</td>\n",
       "      <td>1</td>\n",
       "    </tr>\n",
       "    <tr>\n",
       "      <th>0</th>\n",
       "      <td>296524.419500</td>\n",
       "      <td>724.768600</td>\n",
       "      <td>296524.419500</td>\n",
       "      <td>205.165029</td>\n",
       "      <td>0.608024</td>\n",
       "      <td>0.065663</td>\n",
       "      <td>-0.000006</td>\n",
       "      <td>0.00</td>\n",
       "      <td>0.0</td>\n",
       "      <td>29.0</td>\n",
       "      <td>...</td>\n",
       "      <td>161.0</td>\n",
       "      <td>49.0</td>\n",
       "      <td>7.94</td>\n",
       "      <td>183.0</td>\n",
       "      <td>44364.102298</td>\n",
       "      <td>4.207922e-06</td>\n",
       "      <td>456.500000</td>\n",
       "      <td>40.826123</td>\n",
       "      <td>1018.0</td>\n",
       "      <td>1</td>\n",
       "    </tr>\n",
       "    <tr>\n",
       "      <th>0</th>\n",
       "      <td>20721.689546</td>\n",
       "      <td>51.893789</td>\n",
       "      <td>20721.689546</td>\n",
       "      <td>23.973862</td>\n",
       "      <td>0.709601</td>\n",
       "      <td>0.434191</td>\n",
       "      <td>-0.000010</td>\n",
       "      <td>0.16</td>\n",
       "      <td>0.0</td>\n",
       "      <td>551.0</td>\n",
       "      <td>...</td>\n",
       "      <td>319.0</td>\n",
       "      <td>118.0</td>\n",
       "      <td>10.54</td>\n",
       "      <td>321.0</td>\n",
       "      <td>5107.706105</td>\n",
       "      <td>1.044590e-04</td>\n",
       "      <td>469.843082</td>\n",
       "      <td>60.881036</td>\n",
       "      <td>459.0</td>\n",
       "      <td>1</td>\n",
       "    </tr>\n",
       "    <tr>\n",
       "      <th>0</th>\n",
       "      <td>17494.159400</td>\n",
       "      <td>51.748050</td>\n",
       "      <td>17494.159400</td>\n",
       "      <td>18.665935</td>\n",
       "      <td>0.722106</td>\n",
       "      <td>0.425595</td>\n",
       "      <td>-0.000166</td>\n",
       "      <td>0.17</td>\n",
       "      <td>0.0</td>\n",
       "      <td>517.0</td>\n",
       "      <td>...</td>\n",
       "      <td>316.0</td>\n",
       "      <td>100.0</td>\n",
       "      <td>14.14</td>\n",
       "      <td>325.0</td>\n",
       "      <td>4839.030093</td>\n",
       "      <td>1.183088e-04</td>\n",
       "      <td>462.320000</td>\n",
       "      <td>70.159203</td>\n",
       "      <td>435.0</td>\n",
       "      <td>1</td>\n",
       "    </tr>\n",
       "  </tbody>\n",
       "</table>\n",
       "<p>8 rows × 109 columns</p>\n",
       "</div>"
      ],
      "text/plain": [
       "   0_Absolute energy  0_Area under the curve  0_Autocorrelation  0_Centroid  \\\n",
       "0      142365.017400              286.287650      142365.017400  148.380897   \n",
       "0      200857.137900              472.596400      200857.137900  150.243476   \n",
       "0       17428.524300              104.196600       17428.524300   60.685034   \n",
       "0      143933.215500              492.426800      143933.215500  355.427154   \n",
       "0       29660.629200              142.080750       29660.629200   87.713568   \n",
       "0      296524.419500              724.768600      296524.419500  205.165029   \n",
       "0       20721.689546               51.893789       20721.689546   23.973862   \n",
       "0       17494.159400               51.748050       17494.159400   18.665935   \n",
       "\n",
       "   0_Entropy  0_Mean absolute diff  0_Mean diff  0_Median absolute diff  \\\n",
       "0   0.536766              0.068391     0.000006                    0.00   \n",
       "0   0.608193              0.072566    -0.000019                    0.00   \n",
       "0   0.605717              0.061699     0.000023                    0.00   \n",
       "0   0.488515              0.036480     0.000004                    0.00   \n",
       "0   0.611549              0.075822     0.000016                    0.00   \n",
       "0   0.608024              0.065663    -0.000006                    0.00   \n",
       "0   0.709601              0.434191    -0.000010                    0.16   \n",
       "0   0.722106              0.425595    -0.000166                    0.17   \n",
       "\n",
       "   0_Median diff  0_Negative turning points  ...  0_Negative turning points  \\\n",
       "0            0.0                      121.0  ...                       30.0   \n",
       "0            0.0                        3.0  ...                      145.0   \n",
       "0            0.0                      136.0  ...                       11.0   \n",
       "0            0.0                      325.0  ...                      174.0   \n",
       "0            0.0                      152.0  ...                       19.0   \n",
       "0            0.0                       29.0  ...                      161.0   \n",
       "0            0.0                      551.0  ...                      319.0   \n",
       "0            0.0                      517.0  ...                      316.0   \n",
       "\n",
       "   0_Neighbourhood peaks  0_Peak to peak distance  0_Positive turning points  \\\n",
       "0                   12.0                    16.58                       26.0   \n",
       "0                   32.0                    10.02                      133.0   \n",
       "0                   12.0                     2.47                       18.0   \n",
       "0                   33.0                    12.17                      170.0   \n",
       "0                   22.0                     2.12                       27.0   \n",
       "0                   49.0                     7.94                      183.0   \n",
       "0                  118.0                    10.54                      321.0   \n",
       "0                  100.0                    14.14                      325.0   \n",
       "\n",
       "   0_Signal distance       0_Slope  0_Sum absolute diff  0_Total energy  \\\n",
       "0       30772.740382  1.959646e-06           267.320000       36.060530   \n",
       "0       30221.612917 -2.278738e-06           395.440000       81.343710   \n",
       "0       14564.629231 -8.298997e-07            95.320000        4.821618   \n",
       "0       79885.731347  2.104734e-06           492.840000       29.625755   \n",
       "0       16932.717928 -4.184387e-07           141.910000        4.430320   \n",
       "0       44364.102298  4.207922e-06           456.500000       40.826123   \n",
       "0        5107.706105  1.044590e-04           469.843082       60.881036   \n",
       "0        4839.030093  1.183088e-04           462.320000       70.159203   \n",
       "\n",
       "   0_Zero crossing rate  out  \n",
       "0                 422.0    1  \n",
       "0                 839.0    1  \n",
       "0                 289.0    1  \n",
       "0                1309.0    1  \n",
       "0                 483.0    1  \n",
       "0                1018.0    1  \n",
       "0                 459.0    1  \n",
       "0                 435.0    1  \n",
       "\n",
       "[8 rows x 109 columns]"
      ]
     },
     "execution_count": 168,
     "metadata": {},
     "output_type": "execute_result"
    }
   ],
   "source": [
    "New_df=pd.concat([New_df,next],axis=0)\n",
    "New_df"
   ]
  },
  {
   "cell_type": "code",
   "execution_count": 169,
   "metadata": {},
   "outputs": [],
   "source": [
    "New_df.to_csv('dataFeat.csv',index=False)"
   ]
  },
  {
   "cell_type": "markdown",
   "metadata": {},
   "source": [
    "# Extraccion caract. no caidas"
   ]
  },
  {
   "cell_type": "markdown",
   "metadata": {},
   "source": [
    "Lectura de archivos"
   ]
  },
  {
   "cell_type": "code",
   "execution_count": 179,
   "metadata": {},
   "outputs": [],
   "source": [
    "import os"
   ]
  },
  {
   "cell_type": "code",
   "execution_count": 185,
   "metadata": {},
   "outputs": [
    {
     "data": {
      "text/html": [
       "<div>\n",
       "<style scoped>\n",
       "    .dataframe tbody tr th:only-of-type {\n",
       "        vertical-align: middle;\n",
       "    }\n",
       "\n",
       "    .dataframe tbody tr th {\n",
       "        vertical-align: top;\n",
       "    }\n",
       "\n",
       "    .dataframe thead th {\n",
       "        text-align: right;\n",
       "    }\n",
       "</style>\n",
       "<table border=\"1\" class=\"dataframe\">\n",
       "  <thead>\n",
       "    <tr style=\"text-align: right;\">\n",
       "      <th></th>\n",
       "      <th>out</th>\n",
       "    </tr>\n",
       "  </thead>\n",
       "  <tbody>\n",
       "    <tr>\n",
       "      <th>0</th>\n",
       "      <td>0</td>\n",
       "    </tr>\n",
       "  </tbody>\n",
       "</table>\n",
       "</div>"
      ],
      "text/plain": [
       "   out\n",
       "0    0"
      ]
     },
     "execution_count": 185,
     "metadata": {},
     "output_type": "execute_result"
    }
   ],
   "source": [
    "path='./No caida corrected/'\n",
    "y={'out':[0]}\n",
    "y=pd.DataFrame(y)\n",
    "y"
   ]
  },
  {
   "cell_type": "code",
   "execution_count": 186,
   "metadata": {},
   "outputs": [],
   "source": [
    "\n",
    "all_files=os.listdir(path)\n",
    "cfg=tsfel.get_features_by_domain(\"temporal\")"
   ]
  },
  {
   "cell_type": "code",
   "execution_count": 190,
   "metadata": {},
   "outputs": [
    {
     "name": "stdout",
     "output_type": "stream",
     "text": [
      "*** Feature extraction started ***\n",
      "18\n"
     ]
    },
    {
     "name": "stderr",
     "output_type": "stream",
     "text": [
      "<ipython-input-190-315e9dcb09c2>:6: UserWarning: Using default sampling frequency set in configuration file.\n",
      "  wz=tsfel.time_series_features_extractor(cfg,df[\"wz\"])\n"
     ]
    },
    {
     "data": {
      "text/html": [
       "\n",
       "              <p>\n",
       "                  Progress: 100% Complete\n",
       "              <p/>            \n",
       "              <progress\n",
       "                  value='18'\n",
       "                  max='18',\n",
       "                  style='width: 25%',\n",
       "              >\n",
       "                  18\n",
       "              </progress>\n",
       "\n",
       "    "
      ],
      "text/plain": [
       "<IPython.core.display.HTML object>"
      ]
     },
     "metadata": {},
     "output_type": "display_data"
    },
    {
     "name": "stdout",
     "output_type": "stream",
     "text": [
      "*** Feature extraction started ***\n",
      "18\n"
     ]
    },
    {
     "name": "stderr",
     "output_type": "stream",
     "text": [
      "<ipython-input-190-315e9dcb09c2>:7: UserWarning: Using default sampling frequency set in configuration file.\n",
      "  wx=tsfel.time_series_features_extractor(cfg,df[\"wx\"])\n"
     ]
    },
    {
     "data": {
      "text/html": [
       "\n",
       "              <p>\n",
       "                  Progress: 100% Complete\n",
       "              <p/>            \n",
       "              <progress\n",
       "                  value='18'\n",
       "                  max='18',\n",
       "                  style='width: 25%',\n",
       "              >\n",
       "                  18\n",
       "              </progress>\n",
       "\n",
       "    "
      ],
      "text/plain": [
       "<IPython.core.display.HTML object>"
      ]
     },
     "metadata": {},
     "output_type": "display_data"
    },
    {
     "name": "stdout",
     "output_type": "stream",
     "text": [
      "*** Feature extraction started ***\n",
      "18\n"
     ]
    },
    {
     "name": "stderr",
     "output_type": "stream",
     "text": [
      "<ipython-input-190-315e9dcb09c2>:8: UserWarning: Using default sampling frequency set in configuration file.\n",
      "  wy=tsfel.time_series_features_extractor(cfg,df[\"wy\"])\n"
     ]
    },
    {
     "data": {
      "text/html": [
       "\n",
       "              <p>\n",
       "                  Progress: 100% Complete\n",
       "              <p/>            \n",
       "              <progress\n",
       "                  value='18'\n",
       "                  max='18',\n",
       "                  style='width: 25%',\n",
       "              >\n",
       "                  18\n",
       "              </progress>\n",
       "\n",
       "    "
      ],
      "text/plain": [
       "<IPython.core.display.HTML object>"
      ]
     },
     "metadata": {},
     "output_type": "display_data"
    },
    {
     "name": "stdout",
     "output_type": "stream",
     "text": [
      "*** Feature extraction started ***\n",
      "18\n"
     ]
    },
    {
     "name": "stderr",
     "output_type": "stream",
     "text": [
      "<ipython-input-190-315e9dcb09c2>:10: UserWarning: Using default sampling frequency set in configuration file.\n",
      "  az=tsfel.time_series_features_extractor(cfg,df[\"az\"])\n"
     ]
    },
    {
     "data": {
      "text/html": [
       "\n",
       "              <p>\n",
       "                  Progress: 100% Complete\n",
       "              <p/>            \n",
       "              <progress\n",
       "                  value='18'\n",
       "                  max='18',\n",
       "                  style='width: 25%',\n",
       "              >\n",
       "                  18\n",
       "              </progress>\n",
       "\n",
       "    "
      ],
      "text/plain": [
       "<IPython.core.display.HTML object>"
      ]
     },
     "metadata": {},
     "output_type": "display_data"
    },
    {
     "name": "stdout",
     "output_type": "stream",
     "text": [
      "*** Feature extraction started ***\n",
      "18\n"
     ]
    },
    {
     "name": "stderr",
     "output_type": "stream",
     "text": [
      "<ipython-input-190-315e9dcb09c2>:11: UserWarning: Using default sampling frequency set in configuration file.\n",
      "  ax=tsfel.time_series_features_extractor(cfg,df[\"ax\"])\n"
     ]
    },
    {
     "data": {
      "text/html": [
       "\n",
       "              <p>\n",
       "                  Progress: 100% Complete\n",
       "              <p/>            \n",
       "              <progress\n",
       "                  value='18'\n",
       "                  max='18',\n",
       "                  style='width: 25%',\n",
       "              >\n",
       "                  18\n",
       "              </progress>\n",
       "\n",
       "    "
      ],
      "text/plain": [
       "<IPython.core.display.HTML object>"
      ]
     },
     "metadata": {},
     "output_type": "display_data"
    },
    {
     "name": "stdout",
     "output_type": "stream",
     "text": [
      "*** Feature extraction started ***\n",
      "18\n"
     ]
    },
    {
     "name": "stderr",
     "output_type": "stream",
     "text": [
      "<ipython-input-190-315e9dcb09c2>:12: UserWarning: Using default sampling frequency set in configuration file.\n",
      "  ay=tsfel.time_series_features_extractor(cfg,df[\"ay\"])\n"
     ]
    },
    {
     "data": {
      "text/html": [
       "\n",
       "              <p>\n",
       "                  Progress: 100% Complete\n",
       "              <p/>            \n",
       "              <progress\n",
       "                  value='18'\n",
       "                  max='18',\n",
       "                  style='width: 25%',\n",
       "              >\n",
       "                  18\n",
       "              </progress>\n",
       "\n",
       "    "
      ],
      "text/plain": [
       "<IPython.core.display.HTML object>"
      ]
     },
     "metadata": {},
     "output_type": "display_data"
    },
    {
     "name": "stdout",
     "output_type": "stream",
     "text": [
      "Asignado a new df\n",
      "*** Feature extraction started ***\n",
      "18\n"
     ]
    },
    {
     "data": {
      "text/html": [
       "\n",
       "              <p>\n",
       "                  Progress: 100% Complete\n",
       "              <p/>            \n",
       "              <progress\n",
       "                  value='18'\n",
       "                  max='18',\n",
       "                  style='width: 25%',\n",
       "              >\n",
       "                  18\n",
       "              </progress>\n",
       "\n",
       "    "
      ],
      "text/plain": [
       "<IPython.core.display.HTML object>"
      ]
     },
     "metadata": {},
     "output_type": "display_data"
    },
    {
     "name": "stdout",
     "output_type": "stream",
     "text": [
      "*** Feature extraction started ***\n",
      "18\n"
     ]
    },
    {
     "data": {
      "text/html": [
       "\n",
       "              <p>\n",
       "                  Progress: 100% Complete\n",
       "              <p/>            \n",
       "              <progress\n",
       "                  value='18'\n",
       "                  max='18',\n",
       "                  style='width: 25%',\n",
       "              >\n",
       "                  18\n",
       "              </progress>\n",
       "\n",
       "    "
      ],
      "text/plain": [
       "<IPython.core.display.HTML object>"
      ]
     },
     "metadata": {},
     "output_type": "display_data"
    },
    {
     "name": "stdout",
     "output_type": "stream",
     "text": [
      "*** Feature extraction started ***\n",
      "18\n"
     ]
    },
    {
     "data": {
      "text/html": [
       "\n",
       "              <p>\n",
       "                  Progress: 100% Complete\n",
       "              <p/>            \n",
       "              <progress\n",
       "                  value='18'\n",
       "                  max='18',\n",
       "                  style='width: 25%',\n",
       "              >\n",
       "                  18\n",
       "              </progress>\n",
       "\n",
       "    "
      ],
      "text/plain": [
       "<IPython.core.display.HTML object>"
      ]
     },
     "metadata": {},
     "output_type": "display_data"
    },
    {
     "name": "stdout",
     "output_type": "stream",
     "text": [
      "*** Feature extraction started ***\n",
      "18\n"
     ]
    },
    {
     "data": {
      "text/html": [
       "\n",
       "              <p>\n",
       "                  Progress: 100% Complete\n",
       "              <p/>            \n",
       "              <progress\n",
       "                  value='18'\n",
       "                  max='18',\n",
       "                  style='width: 25%',\n",
       "              >\n",
       "                  18\n",
       "              </progress>\n",
       "\n",
       "    "
      ],
      "text/plain": [
       "<IPython.core.display.HTML object>"
      ]
     },
     "metadata": {},
     "output_type": "display_data"
    },
    {
     "name": "stdout",
     "output_type": "stream",
     "text": [
      "*** Feature extraction started ***\n",
      "18\n"
     ]
    },
    {
     "data": {
      "text/html": [
       "\n",
       "              <p>\n",
       "                  Progress: 100% Complete\n",
       "              <p/>            \n",
       "              <progress\n",
       "                  value='18'\n",
       "                  max='18',\n",
       "                  style='width: 25%',\n",
       "              >\n",
       "                  18\n",
       "              </progress>\n",
       "\n",
       "    "
      ],
      "text/plain": [
       "<IPython.core.display.HTML object>"
      ]
     },
     "metadata": {},
     "output_type": "display_data"
    },
    {
     "name": "stdout",
     "output_type": "stream",
     "text": [
      "*** Feature extraction started ***\n",
      "18\n"
     ]
    },
    {
     "data": {
      "text/html": [
       "\n",
       "              <p>\n",
       "                  Progress: 100% Complete\n",
       "              <p/>            \n",
       "              <progress\n",
       "                  value='18'\n",
       "                  max='18',\n",
       "                  style='width: 25%',\n",
       "              >\n",
       "                  18\n",
       "              </progress>\n",
       "\n",
       "    "
      ],
      "text/plain": [
       "<IPython.core.display.HTML object>"
      ]
     },
     "metadata": {},
     "output_type": "display_data"
    },
    {
     "name": "stdout",
     "output_type": "stream",
     "text": [
      "Asignado a new df\n",
      "*** Feature extraction started ***\n",
      "18\n"
     ]
    },
    {
     "data": {
      "text/html": [
       "\n",
       "              <p>\n",
       "                  Progress: 100% Complete\n",
       "              <p/>            \n",
       "              <progress\n",
       "                  value='18'\n",
       "                  max='18',\n",
       "                  style='width: 25%',\n",
       "              >\n",
       "                  18\n",
       "              </progress>\n",
       "\n",
       "    "
      ],
      "text/plain": [
       "<IPython.core.display.HTML object>"
      ]
     },
     "metadata": {},
     "output_type": "display_data"
    },
    {
     "name": "stdout",
     "output_type": "stream",
     "text": [
      "*** Feature extraction started ***\n",
      "18\n"
     ]
    },
    {
     "data": {
      "text/html": [
       "\n",
       "              <p>\n",
       "                  Progress: 100% Complete\n",
       "              <p/>            \n",
       "              <progress\n",
       "                  value='18'\n",
       "                  max='18',\n",
       "                  style='width: 25%',\n",
       "              >\n",
       "                  18\n",
       "              </progress>\n",
       "\n",
       "    "
      ],
      "text/plain": [
       "<IPython.core.display.HTML object>"
      ]
     },
     "metadata": {},
     "output_type": "display_data"
    },
    {
     "name": "stdout",
     "output_type": "stream",
     "text": [
      "*** Feature extraction started ***\n",
      "18\n"
     ]
    },
    {
     "data": {
      "text/html": [
       "\n",
       "              <p>\n",
       "                  Progress: 100% Complete\n",
       "              <p/>            \n",
       "              <progress\n",
       "                  value='18'\n",
       "                  max='18',\n",
       "                  style='width: 25%',\n",
       "              >\n",
       "                  18\n",
       "              </progress>\n",
       "\n",
       "    "
      ],
      "text/plain": [
       "<IPython.core.display.HTML object>"
      ]
     },
     "metadata": {},
     "output_type": "display_data"
    },
    {
     "name": "stdout",
     "output_type": "stream",
     "text": [
      "*** Feature extraction started ***\n",
      "18\n"
     ]
    },
    {
     "data": {
      "text/html": [
       "\n",
       "              <p>\n",
       "                  Progress: 100% Complete\n",
       "              <p/>            \n",
       "              <progress\n",
       "                  value='18'\n",
       "                  max='18',\n",
       "                  style='width: 25%',\n",
       "              >\n",
       "                  18\n",
       "              </progress>\n",
       "\n",
       "    "
      ],
      "text/plain": [
       "<IPython.core.display.HTML object>"
      ]
     },
     "metadata": {},
     "output_type": "display_data"
    },
    {
     "name": "stdout",
     "output_type": "stream",
     "text": [
      "*** Feature extraction started ***\n",
      "18\n"
     ]
    },
    {
     "data": {
      "text/html": [
       "\n",
       "              <p>\n",
       "                  Progress: 100% Complete\n",
       "              <p/>            \n",
       "              <progress\n",
       "                  value='18'\n",
       "                  max='18',\n",
       "                  style='width: 25%',\n",
       "              >\n",
       "                  18\n",
       "              </progress>\n",
       "\n",
       "    "
      ],
      "text/plain": [
       "<IPython.core.display.HTML object>"
      ]
     },
     "metadata": {},
     "output_type": "display_data"
    },
    {
     "name": "stdout",
     "output_type": "stream",
     "text": [
      "*** Feature extraction started ***\n",
      "18\n"
     ]
    },
    {
     "data": {
      "text/html": [
       "\n",
       "              <p>\n",
       "                  Progress: 100% Complete\n",
       "              <p/>            \n",
       "              <progress\n",
       "                  value='18'\n",
       "                  max='18',\n",
       "                  style='width: 25%',\n",
       "              >\n",
       "                  18\n",
       "              </progress>\n",
       "\n",
       "    "
      ],
      "text/plain": [
       "<IPython.core.display.HTML object>"
      ]
     },
     "metadata": {},
     "output_type": "display_data"
    },
    {
     "name": "stdout",
     "output_type": "stream",
     "text": [
      "Asignado a new df\n",
      "*** Feature extraction started ***\n",
      "18\n"
     ]
    },
    {
     "data": {
      "text/html": [
       "\n",
       "              <p>\n",
       "                  Progress: 100% Complete\n",
       "              <p/>            \n",
       "              <progress\n",
       "                  value='18'\n",
       "                  max='18',\n",
       "                  style='width: 25%',\n",
       "              >\n",
       "                  18\n",
       "              </progress>\n",
       "\n",
       "    "
      ],
      "text/plain": [
       "<IPython.core.display.HTML object>"
      ]
     },
     "metadata": {},
     "output_type": "display_data"
    },
    {
     "name": "stdout",
     "output_type": "stream",
     "text": [
      "*** Feature extraction started ***\n",
      "18\n"
     ]
    },
    {
     "data": {
      "text/html": [
       "\n",
       "              <p>\n",
       "                  Progress: 100% Complete\n",
       "              <p/>            \n",
       "              <progress\n",
       "                  value='18'\n",
       "                  max='18',\n",
       "                  style='width: 25%',\n",
       "              >\n",
       "                  18\n",
       "              </progress>\n",
       "\n",
       "    "
      ],
      "text/plain": [
       "<IPython.core.display.HTML object>"
      ]
     },
     "metadata": {},
     "output_type": "display_data"
    },
    {
     "name": "stdout",
     "output_type": "stream",
     "text": [
      "*** Feature extraction started ***\n",
      "18\n"
     ]
    },
    {
     "data": {
      "text/html": [
       "\n",
       "              <p>\n",
       "                  Progress: 100% Complete\n",
       "              <p/>            \n",
       "              <progress\n",
       "                  value='18'\n",
       "                  max='18',\n",
       "                  style='width: 25%',\n",
       "              >\n",
       "                  18\n",
       "              </progress>\n",
       "\n",
       "    "
      ],
      "text/plain": [
       "<IPython.core.display.HTML object>"
      ]
     },
     "metadata": {},
     "output_type": "display_data"
    },
    {
     "name": "stdout",
     "output_type": "stream",
     "text": [
      "*** Feature extraction started ***\n",
      "18\n"
     ]
    },
    {
     "data": {
      "text/html": [
       "\n",
       "              <p>\n",
       "                  Progress: 100% Complete\n",
       "              <p/>            \n",
       "              <progress\n",
       "                  value='18'\n",
       "                  max='18',\n",
       "                  style='width: 25%',\n",
       "              >\n",
       "                  18\n",
       "              </progress>\n",
       "\n",
       "    "
      ],
      "text/plain": [
       "<IPython.core.display.HTML object>"
      ]
     },
     "metadata": {},
     "output_type": "display_data"
    },
    {
     "name": "stdout",
     "output_type": "stream",
     "text": [
      "*** Feature extraction started ***\n",
      "18\n"
     ]
    },
    {
     "data": {
      "text/html": [
       "\n",
       "              <p>\n",
       "                  Progress: 100% Complete\n",
       "              <p/>            \n",
       "              <progress\n",
       "                  value='18'\n",
       "                  max='18',\n",
       "                  style='width: 25%',\n",
       "              >\n",
       "                  18\n",
       "              </progress>\n",
       "\n",
       "    "
      ],
      "text/plain": [
       "<IPython.core.display.HTML object>"
      ]
     },
     "metadata": {},
     "output_type": "display_data"
    },
    {
     "name": "stdout",
     "output_type": "stream",
     "text": [
      "*** Feature extraction started ***\n",
      "18\n"
     ]
    },
    {
     "data": {
      "text/html": [
       "\n",
       "              <p>\n",
       "                  Progress: 100% Complete\n",
       "              <p/>            \n",
       "              <progress\n",
       "                  value='18'\n",
       "                  max='18',\n",
       "                  style='width: 25%',\n",
       "              >\n",
       "                  18\n",
       "              </progress>\n",
       "\n",
       "    "
      ],
      "text/plain": [
       "<IPython.core.display.HTML object>"
      ]
     },
     "metadata": {},
     "output_type": "display_data"
    },
    {
     "name": "stdout",
     "output_type": "stream",
     "text": [
      "Asignado a new df\n",
      "*** Feature extraction started ***\n",
      "18\n"
     ]
    },
    {
     "data": {
      "text/html": [
       "\n",
       "              <p>\n",
       "                  Progress: 100% Complete\n",
       "              <p/>            \n",
       "              <progress\n",
       "                  value='18'\n",
       "                  max='18',\n",
       "                  style='width: 25%',\n",
       "              >\n",
       "                  18\n",
       "              </progress>\n",
       "\n",
       "    "
      ],
      "text/plain": [
       "<IPython.core.display.HTML object>"
      ]
     },
     "metadata": {},
     "output_type": "display_data"
    },
    {
     "name": "stdout",
     "output_type": "stream",
     "text": [
      "*** Feature extraction started ***\n",
      "18\n"
     ]
    },
    {
     "data": {
      "text/html": [
       "\n",
       "              <p>\n",
       "                  Progress: 100% Complete\n",
       "              <p/>            \n",
       "              <progress\n",
       "                  value='18'\n",
       "                  max='18',\n",
       "                  style='width: 25%',\n",
       "              >\n",
       "                  18\n",
       "              </progress>\n",
       "\n",
       "    "
      ],
      "text/plain": [
       "<IPython.core.display.HTML object>"
      ]
     },
     "metadata": {},
     "output_type": "display_data"
    },
    {
     "name": "stdout",
     "output_type": "stream",
     "text": [
      "*** Feature extraction started ***\n",
      "18\n"
     ]
    },
    {
     "data": {
      "text/html": [
       "\n",
       "              <p>\n",
       "                  Progress: 100% Complete\n",
       "              <p/>            \n",
       "              <progress\n",
       "                  value='18'\n",
       "                  max='18',\n",
       "                  style='width: 25%',\n",
       "              >\n",
       "                  18\n",
       "              </progress>\n",
       "\n",
       "    "
      ],
      "text/plain": [
       "<IPython.core.display.HTML object>"
      ]
     },
     "metadata": {},
     "output_type": "display_data"
    },
    {
     "name": "stdout",
     "output_type": "stream",
     "text": [
      "*** Feature extraction started ***\n",
      "18\n"
     ]
    },
    {
     "data": {
      "text/html": [
       "\n",
       "              <p>\n",
       "                  Progress: 100% Complete\n",
       "              <p/>            \n",
       "              <progress\n",
       "                  value='18'\n",
       "                  max='18',\n",
       "                  style='width: 25%',\n",
       "              >\n",
       "                  18\n",
       "              </progress>\n",
       "\n",
       "    "
      ],
      "text/plain": [
       "<IPython.core.display.HTML object>"
      ]
     },
     "metadata": {},
     "output_type": "display_data"
    },
    {
     "name": "stdout",
     "output_type": "stream",
     "text": [
      "*** Feature extraction started ***\n",
      "18\n"
     ]
    },
    {
     "data": {
      "text/html": [
       "\n",
       "              <p>\n",
       "                  Progress: 100% Complete\n",
       "              <p/>            \n",
       "              <progress\n",
       "                  value='18'\n",
       "                  max='18',\n",
       "                  style='width: 25%',\n",
       "              >\n",
       "                  18\n",
       "              </progress>\n",
       "\n",
       "    "
      ],
      "text/plain": [
       "<IPython.core.display.HTML object>"
      ]
     },
     "metadata": {},
     "output_type": "display_data"
    },
    {
     "name": "stdout",
     "output_type": "stream",
     "text": [
      "*** Feature extraction started ***\n",
      "18\n"
     ]
    },
    {
     "data": {
      "text/html": [
       "\n",
       "              <p>\n",
       "                  Progress: 100% Complete\n",
       "              <p/>            \n",
       "              <progress\n",
       "                  value='18'\n",
       "                  max='18',\n",
       "                  style='width: 25%',\n",
       "              >\n",
       "                  18\n",
       "              </progress>\n",
       "\n",
       "    "
      ],
      "text/plain": [
       "<IPython.core.display.HTML object>"
      ]
     },
     "metadata": {},
     "output_type": "display_data"
    },
    {
     "name": "stdout",
     "output_type": "stream",
     "text": [
      "Asignado a new df\n",
      "*** Feature extraction started ***\n",
      "18\n"
     ]
    },
    {
     "data": {
      "text/html": [
       "\n",
       "              <p>\n",
       "                  Progress: 100% Complete\n",
       "              <p/>            \n",
       "              <progress\n",
       "                  value='18'\n",
       "                  max='18',\n",
       "                  style='width: 25%',\n",
       "              >\n",
       "                  18\n",
       "              </progress>\n",
       "\n",
       "    "
      ],
      "text/plain": [
       "<IPython.core.display.HTML object>"
      ]
     },
     "metadata": {},
     "output_type": "display_data"
    },
    {
     "name": "stdout",
     "output_type": "stream",
     "text": [
      "*** Feature extraction started ***\n",
      "18\n"
     ]
    },
    {
     "data": {
      "text/html": [
       "\n",
       "              <p>\n",
       "                  Progress: 100% Complete\n",
       "              <p/>            \n",
       "              <progress\n",
       "                  value='18'\n",
       "                  max='18',\n",
       "                  style='width: 25%',\n",
       "              >\n",
       "                  18\n",
       "              </progress>\n",
       "\n",
       "    "
      ],
      "text/plain": [
       "<IPython.core.display.HTML object>"
      ]
     },
     "metadata": {},
     "output_type": "display_data"
    },
    {
     "name": "stdout",
     "output_type": "stream",
     "text": [
      "*** Feature extraction started ***\n",
      "18\n"
     ]
    },
    {
     "data": {
      "text/html": [
       "\n",
       "              <p>\n",
       "                  Progress: 100% Complete\n",
       "              <p/>            \n",
       "              <progress\n",
       "                  value='18'\n",
       "                  max='18',\n",
       "                  style='width: 25%',\n",
       "              >\n",
       "                  18\n",
       "              </progress>\n",
       "\n",
       "    "
      ],
      "text/plain": [
       "<IPython.core.display.HTML object>"
      ]
     },
     "metadata": {},
     "output_type": "display_data"
    },
    {
     "name": "stdout",
     "output_type": "stream",
     "text": [
      "*** Feature extraction started ***\n",
      "18\n"
     ]
    },
    {
     "data": {
      "text/html": [
       "\n",
       "              <p>\n",
       "                  Progress: 100% Complete\n",
       "              <p/>            \n",
       "              <progress\n",
       "                  value='18'\n",
       "                  max='18',\n",
       "                  style='width: 25%',\n",
       "              >\n",
       "                  18\n",
       "              </progress>\n",
       "\n",
       "    "
      ],
      "text/plain": [
       "<IPython.core.display.HTML object>"
      ]
     },
     "metadata": {},
     "output_type": "display_data"
    },
    {
     "name": "stdout",
     "output_type": "stream",
     "text": [
      "*** Feature extraction started ***\n",
      "18\n"
     ]
    },
    {
     "data": {
      "text/html": [
       "\n",
       "              <p>\n",
       "                  Progress: 100% Complete\n",
       "              <p/>            \n",
       "              <progress\n",
       "                  value='18'\n",
       "                  max='18',\n",
       "                  style='width: 25%',\n",
       "              >\n",
       "                  18\n",
       "              </progress>\n",
       "\n",
       "    "
      ],
      "text/plain": [
       "<IPython.core.display.HTML object>"
      ]
     },
     "metadata": {},
     "output_type": "display_data"
    },
    {
     "name": "stdout",
     "output_type": "stream",
     "text": [
      "*** Feature extraction started ***\n",
      "18\n"
     ]
    },
    {
     "data": {
      "text/html": [
       "\n",
       "              <p>\n",
       "                  Progress: 100% Complete\n",
       "              <p/>            \n",
       "              <progress\n",
       "                  value='18'\n",
       "                  max='18',\n",
       "                  style='width: 25%',\n",
       "              >\n",
       "                  18\n",
       "              </progress>\n",
       "\n",
       "    "
      ],
      "text/plain": [
       "<IPython.core.display.HTML object>"
      ]
     },
     "metadata": {},
     "output_type": "display_data"
    },
    {
     "name": "stdout",
     "output_type": "stream",
     "text": [
      "Asignado a new df\n",
      "*** Feature extraction started ***\n",
      "18\n"
     ]
    },
    {
     "data": {
      "text/html": [
       "\n",
       "              <p>\n",
       "                  Progress: 100% Complete\n",
       "              <p/>            \n",
       "              <progress\n",
       "                  value='18'\n",
       "                  max='18',\n",
       "                  style='width: 25%',\n",
       "              >\n",
       "                  18\n",
       "              </progress>\n",
       "\n",
       "    "
      ],
      "text/plain": [
       "<IPython.core.display.HTML object>"
      ]
     },
     "metadata": {},
     "output_type": "display_data"
    },
    {
     "name": "stdout",
     "output_type": "stream",
     "text": [
      "*** Feature extraction started ***\n",
      "18\n"
     ]
    },
    {
     "data": {
      "text/html": [
       "\n",
       "              <p>\n",
       "                  Progress: 100% Complete\n",
       "              <p/>            \n",
       "              <progress\n",
       "                  value='18'\n",
       "                  max='18',\n",
       "                  style='width: 25%',\n",
       "              >\n",
       "                  18\n",
       "              </progress>\n",
       "\n",
       "    "
      ],
      "text/plain": [
       "<IPython.core.display.HTML object>"
      ]
     },
     "metadata": {},
     "output_type": "display_data"
    },
    {
     "name": "stdout",
     "output_type": "stream",
     "text": [
      "*** Feature extraction started ***\n",
      "18\n"
     ]
    },
    {
     "data": {
      "text/html": [
       "\n",
       "              <p>\n",
       "                  Progress: 100% Complete\n",
       "              <p/>            \n",
       "              <progress\n",
       "                  value='18'\n",
       "                  max='18',\n",
       "                  style='width: 25%',\n",
       "              >\n",
       "                  18\n",
       "              </progress>\n",
       "\n",
       "    "
      ],
      "text/plain": [
       "<IPython.core.display.HTML object>"
      ]
     },
     "metadata": {},
     "output_type": "display_data"
    },
    {
     "name": "stdout",
     "output_type": "stream",
     "text": [
      "*** Feature extraction started ***\n",
      "18\n"
     ]
    },
    {
     "data": {
      "text/html": [
       "\n",
       "              <p>\n",
       "                  Progress: 100% Complete\n",
       "              <p/>            \n",
       "              <progress\n",
       "                  value='18'\n",
       "                  max='18',\n",
       "                  style='width: 25%',\n",
       "              >\n",
       "                  18\n",
       "              </progress>\n",
       "\n",
       "    "
      ],
      "text/plain": [
       "<IPython.core.display.HTML object>"
      ]
     },
     "metadata": {},
     "output_type": "display_data"
    },
    {
     "name": "stdout",
     "output_type": "stream",
     "text": [
      "*** Feature extraction started ***\n",
      "18\n"
     ]
    },
    {
     "data": {
      "text/html": [
       "\n",
       "              <p>\n",
       "                  Progress: 100% Complete\n",
       "              <p/>            \n",
       "              <progress\n",
       "                  value='18'\n",
       "                  max='18',\n",
       "                  style='width: 25%',\n",
       "              >\n",
       "                  18\n",
       "              </progress>\n",
       "\n",
       "    "
      ],
      "text/plain": [
       "<IPython.core.display.HTML object>"
      ]
     },
     "metadata": {},
     "output_type": "display_data"
    },
    {
     "name": "stdout",
     "output_type": "stream",
     "text": [
      "*** Feature extraction started ***\n",
      "18\n"
     ]
    },
    {
     "data": {
      "text/html": [
       "\n",
       "              <p>\n",
       "                  Progress: 100% Complete\n",
       "              <p/>            \n",
       "              <progress\n",
       "                  value='18'\n",
       "                  max='18',\n",
       "                  style='width: 25%',\n",
       "              >\n",
       "                  18\n",
       "              </progress>\n",
       "\n",
       "    "
      ],
      "text/plain": [
       "<IPython.core.display.HTML object>"
      ]
     },
     "metadata": {},
     "output_type": "display_data"
    },
    {
     "name": "stdout",
     "output_type": "stream",
     "text": [
      "Asignado a new df\n",
      "*** Feature extraction started ***\n",
      "18\n"
     ]
    },
    {
     "data": {
      "text/html": [
       "\n",
       "              <p>\n",
       "                  Progress: 100% Complete\n",
       "              <p/>            \n",
       "              <progress\n",
       "                  value='18'\n",
       "                  max='18',\n",
       "                  style='width: 25%',\n",
       "              >\n",
       "                  18\n",
       "              </progress>\n",
       "\n",
       "    "
      ],
      "text/plain": [
       "<IPython.core.display.HTML object>"
      ]
     },
     "metadata": {},
     "output_type": "display_data"
    },
    {
     "name": "stdout",
     "output_type": "stream",
     "text": [
      "*** Feature extraction started ***\n",
      "18\n"
     ]
    },
    {
     "data": {
      "text/html": [
       "\n",
       "              <p>\n",
       "                  Progress: 100% Complete\n",
       "              <p/>            \n",
       "              <progress\n",
       "                  value='18'\n",
       "                  max='18',\n",
       "                  style='width: 25%',\n",
       "              >\n",
       "                  18\n",
       "              </progress>\n",
       "\n",
       "    "
      ],
      "text/plain": [
       "<IPython.core.display.HTML object>"
      ]
     },
     "metadata": {},
     "output_type": "display_data"
    },
    {
     "name": "stdout",
     "output_type": "stream",
     "text": [
      "*** Feature extraction started ***\n",
      "18\n"
     ]
    },
    {
     "data": {
      "text/html": [
       "\n",
       "              <p>\n",
       "                  Progress: 100% Complete\n",
       "              <p/>            \n",
       "              <progress\n",
       "                  value='18'\n",
       "                  max='18',\n",
       "                  style='width: 25%',\n",
       "              >\n",
       "                  18\n",
       "              </progress>\n",
       "\n",
       "    "
      ],
      "text/plain": [
       "<IPython.core.display.HTML object>"
      ]
     },
     "metadata": {},
     "output_type": "display_data"
    },
    {
     "name": "stdout",
     "output_type": "stream",
     "text": [
      "*** Feature extraction started ***\n",
      "18\n"
     ]
    },
    {
     "data": {
      "text/html": [
       "\n",
       "              <p>\n",
       "                  Progress: 100% Complete\n",
       "              <p/>            \n",
       "              <progress\n",
       "                  value='18'\n",
       "                  max='18',\n",
       "                  style='width: 25%',\n",
       "              >\n",
       "                  18\n",
       "              </progress>\n",
       "\n",
       "    "
      ],
      "text/plain": [
       "<IPython.core.display.HTML object>"
      ]
     },
     "metadata": {},
     "output_type": "display_data"
    },
    {
     "name": "stdout",
     "output_type": "stream",
     "text": [
      "*** Feature extraction started ***\n",
      "18\n"
     ]
    },
    {
     "data": {
      "text/html": [
       "\n",
       "              <p>\n",
       "                  Progress: 100% Complete\n",
       "              <p/>            \n",
       "              <progress\n",
       "                  value='18'\n",
       "                  max='18',\n",
       "                  style='width: 25%',\n",
       "              >\n",
       "                  18\n",
       "              </progress>\n",
       "\n",
       "    "
      ],
      "text/plain": [
       "<IPython.core.display.HTML object>"
      ]
     },
     "metadata": {},
     "output_type": "display_data"
    },
    {
     "name": "stdout",
     "output_type": "stream",
     "text": [
      "*** Feature extraction started ***\n",
      "18\n"
     ]
    },
    {
     "data": {
      "text/html": [
       "\n",
       "              <p>\n",
       "                  Progress: 100% Complete\n",
       "              <p/>            \n",
       "              <progress\n",
       "                  value='18'\n",
       "                  max='18',\n",
       "                  style='width: 25%',\n",
       "              >\n",
       "                  18\n",
       "              </progress>\n",
       "\n",
       "    "
      ],
      "text/plain": [
       "<IPython.core.display.HTML object>"
      ]
     },
     "metadata": {},
     "output_type": "display_data"
    },
    {
     "name": "stdout",
     "output_type": "stream",
     "text": [
      "Asignado a new df\n"
     ]
    }
   ],
   "source": [
    "for filename in all_files:\n",
    "    df=pd.read_csv(path + filename)\n",
    "\n",
    "     #extract features\n",
    "     #Giroscopio\n",
    "    wz=tsfel.time_series_features_extractor(cfg,df[\"wz\"])\n",
    "    wx=tsfel.time_series_features_extractor(cfg,df[\"wx\"])\n",
    "    wy=tsfel.time_series_features_extractor(cfg,df[\"wy\"])\n",
    "    #acelerometro\n",
    "    az=tsfel.time_series_features_extractor(cfg,df[\"az\"])\n",
    "    ax=tsfel.time_series_features_extractor(cfg,df[\"ax\"])\n",
    "    ay=tsfel.time_series_features_extractor(cfg,df[\"ay\"])\n",
    "\n",
    "     #Etiquetado 1=caida, 0=no caida\n",
    "    next=pd.concat([ax,ay,az,wx,wy,wz,y],axis=1)\n",
    "    #next\n",
    "\n",
    "    New_df=pd.concat([New_df,next],axis=0)\n",
    "    \n"
   ]
  },
  {
   "cell_type": "code",
   "execution_count": 191,
   "metadata": {},
   "outputs": [
    {
     "data": {
      "text/html": [
       "<div>\n",
       "<style scoped>\n",
       "    .dataframe tbody tr th:only-of-type {\n",
       "        vertical-align: middle;\n",
       "    }\n",
       "\n",
       "    .dataframe tbody tr th {\n",
       "        vertical-align: top;\n",
       "    }\n",
       "\n",
       "    .dataframe thead th {\n",
       "        text-align: right;\n",
       "    }\n",
       "</style>\n",
       "<table border=\"1\" class=\"dataframe\">\n",
       "  <thead>\n",
       "    <tr style=\"text-align: right;\">\n",
       "      <th></th>\n",
       "      <th>0_Absolute energy</th>\n",
       "      <th>0_Area under the curve</th>\n",
       "      <th>0_Autocorrelation</th>\n",
       "      <th>0_Centroid</th>\n",
       "      <th>0_Entropy</th>\n",
       "      <th>0_Mean absolute diff</th>\n",
       "      <th>0_Mean diff</th>\n",
       "      <th>0_Median absolute diff</th>\n",
       "      <th>0_Median diff</th>\n",
       "      <th>0_Negative turning points</th>\n",
       "      <th>...</th>\n",
       "      <th>0_Negative turning points</th>\n",
       "      <th>0_Neighbourhood peaks</th>\n",
       "      <th>0_Peak to peak distance</th>\n",
       "      <th>0_Positive turning points</th>\n",
       "      <th>0_Signal distance</th>\n",
       "      <th>0_Slope</th>\n",
       "      <th>0_Sum absolute diff</th>\n",
       "      <th>0_Total energy</th>\n",
       "      <th>0_Zero crossing rate</th>\n",
       "      <th>out</th>\n",
       "    </tr>\n",
       "  </thead>\n",
       "  <tbody>\n",
       "    <tr>\n",
       "      <th>0</th>\n",
       "      <td>142365.017400</td>\n",
       "      <td>286.287650</td>\n",
       "      <td>142365.017400</td>\n",
       "      <td>148.380897</td>\n",
       "      <td>0.536766</td>\n",
       "      <td>0.068391</td>\n",
       "      <td>6.179465e-06</td>\n",
       "      <td>0.00</td>\n",
       "      <td>0.0</td>\n",
       "      <td>121.0</td>\n",
       "      <td>...</td>\n",
       "      <td>30.0</td>\n",
       "      <td>12.0</td>\n",
       "      <td>16.5800</td>\n",
       "      <td>26.0</td>\n",
       "      <td>30772.740382</td>\n",
       "      <td>1.959646e-06</td>\n",
       "      <td>267.320000</td>\n",
       "      <td>36.060530</td>\n",
       "      <td>422.0</td>\n",
       "      <td>1</td>\n",
       "    </tr>\n",
       "    <tr>\n",
       "      <th>0</th>\n",
       "      <td>200857.137900</td>\n",
       "      <td>472.596400</td>\n",
       "      <td>200857.137900</td>\n",
       "      <td>150.243476</td>\n",
       "      <td>0.608193</td>\n",
       "      <td>0.072566</td>\n",
       "      <td>-1.853752e-05</td>\n",
       "      <td>0.00</td>\n",
       "      <td>0.0</td>\n",
       "      <td>3.0</td>\n",
       "      <td>...</td>\n",
       "      <td>145.0</td>\n",
       "      <td>32.0</td>\n",
       "      <td>10.0200</td>\n",
       "      <td>133.0</td>\n",
       "      <td>30221.612917</td>\n",
       "      <td>-2.278738e-06</td>\n",
       "      <td>395.440000</td>\n",
       "      <td>81.343710</td>\n",
       "      <td>839.0</td>\n",
       "      <td>1</td>\n",
       "    </tr>\n",
       "    <tr>\n",
       "      <th>0</th>\n",
       "      <td>17428.524300</td>\n",
       "      <td>104.196600</td>\n",
       "      <td>17428.524300</td>\n",
       "      <td>60.685034</td>\n",
       "      <td>0.605717</td>\n",
       "      <td>0.061699</td>\n",
       "      <td>2.334684e-05</td>\n",
       "      <td>0.00</td>\n",
       "      <td>0.0</td>\n",
       "      <td>136.0</td>\n",
       "      <td>...</td>\n",
       "      <td>11.0</td>\n",
       "      <td>12.0</td>\n",
       "      <td>2.4700</td>\n",
       "      <td>18.0</td>\n",
       "      <td>14564.629231</td>\n",
       "      <td>-8.298997e-07</td>\n",
       "      <td>95.320000</td>\n",
       "      <td>4.821618</td>\n",
       "      <td>289.0</td>\n",
       "      <td>1</td>\n",
       "    </tr>\n",
       "    <tr>\n",
       "      <th>0</th>\n",
       "      <td>143933.215500</td>\n",
       "      <td>492.426800</td>\n",
       "      <td>143933.215500</td>\n",
       "      <td>355.427154</td>\n",
       "      <td>0.488515</td>\n",
       "      <td>0.036480</td>\n",
       "      <td>4.257344e-06</td>\n",
       "      <td>0.00</td>\n",
       "      <td>0.0</td>\n",
       "      <td>325.0</td>\n",
       "      <td>...</td>\n",
       "      <td>174.0</td>\n",
       "      <td>33.0</td>\n",
       "      <td>12.1700</td>\n",
       "      <td>170.0</td>\n",
       "      <td>79885.731347</td>\n",
       "      <td>2.104734e-06</td>\n",
       "      <td>492.840000</td>\n",
       "      <td>29.625755</td>\n",
       "      <td>1309.0</td>\n",
       "      <td>1</td>\n",
       "    </tr>\n",
       "    <tr>\n",
       "      <th>0</th>\n",
       "      <td>29660.629200</td>\n",
       "      <td>142.080750</td>\n",
       "      <td>29660.629200</td>\n",
       "      <td>87.713568</td>\n",
       "      <td>0.611549</td>\n",
       "      <td>0.075822</td>\n",
       "      <td>1.594896e-05</td>\n",
       "      <td>0.00</td>\n",
       "      <td>0.0</td>\n",
       "      <td>152.0</td>\n",
       "      <td>...</td>\n",
       "      <td>19.0</td>\n",
       "      <td>22.0</td>\n",
       "      <td>2.1200</td>\n",
       "      <td>27.0</td>\n",
       "      <td>16932.717928</td>\n",
       "      <td>-4.184387e-07</td>\n",
       "      <td>141.910000</td>\n",
       "      <td>4.430320</td>\n",
       "      <td>483.0</td>\n",
       "      <td>1</td>\n",
       "    </tr>\n",
       "    <tr>\n",
       "      <th>0</th>\n",
       "      <td>296524.419500</td>\n",
       "      <td>724.768600</td>\n",
       "      <td>296524.419500</td>\n",
       "      <td>205.165029</td>\n",
       "      <td>0.608024</td>\n",
       "      <td>0.065663</td>\n",
       "      <td>-5.861929e-06</td>\n",
       "      <td>0.00</td>\n",
       "      <td>0.0</td>\n",
       "      <td>29.0</td>\n",
       "      <td>...</td>\n",
       "      <td>161.0</td>\n",
       "      <td>49.0</td>\n",
       "      <td>7.9400</td>\n",
       "      <td>183.0</td>\n",
       "      <td>44364.102298</td>\n",
       "      <td>4.207922e-06</td>\n",
       "      <td>456.500000</td>\n",
       "      <td>40.826123</td>\n",
       "      <td>1018.0</td>\n",
       "      <td>1</td>\n",
       "    </tr>\n",
       "    <tr>\n",
       "      <th>0</th>\n",
       "      <td>20721.689546</td>\n",
       "      <td>51.893789</td>\n",
       "      <td>20721.689546</td>\n",
       "      <td>23.973862</td>\n",
       "      <td>0.709601</td>\n",
       "      <td>0.434191</td>\n",
       "      <td>-9.966115e-06</td>\n",
       "      <td>0.16</td>\n",
       "      <td>0.0</td>\n",
       "      <td>551.0</td>\n",
       "      <td>...</td>\n",
       "      <td>319.0</td>\n",
       "      <td>118.0</td>\n",
       "      <td>10.5400</td>\n",
       "      <td>321.0</td>\n",
       "      <td>5107.706105</td>\n",
       "      <td>1.044590e-04</td>\n",
       "      <td>469.843082</td>\n",
       "      <td>60.881036</td>\n",
       "      <td>459.0</td>\n",
       "      <td>1</td>\n",
       "    </tr>\n",
       "    <tr>\n",
       "      <th>0</th>\n",
       "      <td>17494.159400</td>\n",
       "      <td>51.748050</td>\n",
       "      <td>17494.159400</td>\n",
       "      <td>18.665935</td>\n",
       "      <td>0.722106</td>\n",
       "      <td>0.425595</td>\n",
       "      <td>-1.661060e-04</td>\n",
       "      <td>0.17</td>\n",
       "      <td>0.0</td>\n",
       "      <td>517.0</td>\n",
       "      <td>...</td>\n",
       "      <td>316.0</td>\n",
       "      <td>100.0</td>\n",
       "      <td>14.1400</td>\n",
       "      <td>325.0</td>\n",
       "      <td>4839.030093</td>\n",
       "      <td>1.183088e-04</td>\n",
       "      <td>462.320000</td>\n",
       "      <td>70.159203</td>\n",
       "      <td>435.0</td>\n",
       "      <td>1</td>\n",
       "    </tr>\n",
       "    <tr>\n",
       "      <th>0</th>\n",
       "      <td>107843.641100</td>\n",
       "      <td>482.755600</td>\n",
       "      <td>107843.641100</td>\n",
       "      <td>302.536385</td>\n",
       "      <td>0.501123</td>\n",
       "      <td>0.028729</td>\n",
       "      <td>3.823799e-06</td>\n",
       "      <td>0.00</td>\n",
       "      <td>0.0</td>\n",
       "      <td>236.0</td>\n",
       "      <td>...</td>\n",
       "      <td>76.0</td>\n",
       "      <td>27.0</td>\n",
       "      <td>8.1300</td>\n",
       "      <td>95.0</td>\n",
       "      <td>78462.883387</td>\n",
       "      <td>1.012439e-06</td>\n",
       "      <td>333.350000</td>\n",
       "      <td>12.212537</td>\n",
       "      <td>1663.0</td>\n",
       "      <td>0</td>\n",
       "    </tr>\n",
       "    <tr>\n",
       "      <th>0</th>\n",
       "      <td>107843.641100</td>\n",
       "      <td>482.755600</td>\n",
       "      <td>107843.641100</td>\n",
       "      <td>302.536385</td>\n",
       "      <td>0.501123</td>\n",
       "      <td>0.028729</td>\n",
       "      <td>3.823799e-06</td>\n",
       "      <td>0.00</td>\n",
       "      <td>0.0</td>\n",
       "      <td>236.0</td>\n",
       "      <td>...</td>\n",
       "      <td>76.0</td>\n",
       "      <td>27.0</td>\n",
       "      <td>8.1300</td>\n",
       "      <td>95.0</td>\n",
       "      <td>78462.883387</td>\n",
       "      <td>1.012439e-06</td>\n",
       "      <td>333.350000</td>\n",
       "      <td>12.212537</td>\n",
       "      <td>1663.0</td>\n",
       "      <td>0</td>\n",
       "    </tr>\n",
       "    <tr>\n",
       "      <th>0</th>\n",
       "      <td>90516.034300</td>\n",
       "      <td>437.320200</td>\n",
       "      <td>90516.034300</td>\n",
       "      <td>325.705192</td>\n",
       "      <td>0.494711</td>\n",
       "      <td>0.027897</td>\n",
       "      <td>-2.431972e-06</td>\n",
       "      <td>0.00</td>\n",
       "      <td>0.0</td>\n",
       "      <td>294.0</td>\n",
       "      <td>...</td>\n",
       "      <td>96.0</td>\n",
       "      <td>28.0</td>\n",
       "      <td>5.3400</td>\n",
       "      <td>79.0</td>\n",
       "      <td>74020.767163</td>\n",
       "      <td>1.302837e-06</td>\n",
       "      <td>364.360000</td>\n",
       "      <td>9.476861</td>\n",
       "      <td>1441.0</td>\n",
       "      <td>0</td>\n",
       "    </tr>\n",
       "    <tr>\n",
       "      <th>0</th>\n",
       "      <td>3275.951600</td>\n",
       "      <td>57.088650</td>\n",
       "      <td>3275.951600</td>\n",
       "      <td>70.399223</td>\n",
       "      <td>0.524908</td>\n",
       "      <td>0.027465</td>\n",
       "      <td>1.764472e-05</td>\n",
       "      <td>0.00</td>\n",
       "      <td>0.0</td>\n",
       "      <td>203.0</td>\n",
       "      <td>...</td>\n",
       "      <td>12.0</td>\n",
       "      <td>11.0</td>\n",
       "      <td>1.8900</td>\n",
       "      <td>15.0</td>\n",
       "      <td>17570.484142</td>\n",
       "      <td>-1.519825e-06</td>\n",
       "      <td>116.050000</td>\n",
       "      <td>6.205141</td>\n",
       "      <td>247.0</td>\n",
       "      <td>0</td>\n",
       "    </tr>\n",
       "    <tr>\n",
       "      <th>0</th>\n",
       "      <td>328042.840400</td>\n",
       "      <td>766.071100</td>\n",
       "      <td>328042.840400</td>\n",
       "      <td>199.991874</td>\n",
       "      <td>0.623430</td>\n",
       "      <td>0.071661</td>\n",
       "      <td>7.256543e-06</td>\n",
       "      <td>0.00</td>\n",
       "      <td>0.0</td>\n",
       "      <td>27.0</td>\n",
       "      <td>...</td>\n",
       "      <td>146.0</td>\n",
       "      <td>26.0</td>\n",
       "      <td>7.7700</td>\n",
       "      <td>138.0</td>\n",
       "      <td>41351.373719</td>\n",
       "      <td>1.717026e-06</td>\n",
       "      <td>437.020000</td>\n",
       "      <td>43.091856</td>\n",
       "      <td>1000.0</td>\n",
       "      <td>0</td>\n",
       "    </tr>\n",
       "    <tr>\n",
       "      <th>0</th>\n",
       "      <td>227384.583512</td>\n",
       "      <td>679.791634</td>\n",
       "      <td>227384.583512</td>\n",
       "      <td>248.255131</td>\n",
       "      <td>0.869752</td>\n",
       "      <td>0.050652</td>\n",
       "      <td>1.044180e-05</td>\n",
       "      <td>0.00</td>\n",
       "      <td>0.0</td>\n",
       "      <td>38.0</td>\n",
       "      <td>...</td>\n",
       "      <td>0.0</td>\n",
       "      <td>3.0</td>\n",
       "      <td>10.9954</td>\n",
       "      <td>3.0</td>\n",
       "      <td>53139.250619</td>\n",
       "      <td>1.175687e-05</td>\n",
       "      <td>394.643300</td>\n",
       "      <td>45.685815</td>\n",
       "      <td>644.0</td>\n",
       "      <td>0</td>\n",
       "    </tr>\n",
       "    <tr>\n",
       "      <th>0</th>\n",
       "      <td>199557.925343</td>\n",
       "      <td>711.677586</td>\n",
       "      <td>199557.925343</td>\n",
       "      <td>274.486429</td>\n",
       "      <td>0.708994</td>\n",
       "      <td>0.034947</td>\n",
       "      <td>-5.950185e-07</td>\n",
       "      <td>0.00</td>\n",
       "      <td>0.0</td>\n",
       "      <td>75.0</td>\n",
       "      <td>...</td>\n",
       "      <td>4.0</td>\n",
       "      <td>1.0</td>\n",
       "      <td>11.1525</td>\n",
       "      <td>3.0</td>\n",
       "      <td>84046.556898</td>\n",
       "      <td>2.355085e-06</td>\n",
       "      <td>441.164800</td>\n",
       "      <td>26.812806</td>\n",
       "      <td>1247.0</td>\n",
       "      <td>0</td>\n",
       "    </tr>\n",
       "    <tr>\n",
       "      <th>0</th>\n",
       "      <td>2269.922500</td>\n",
       "      <td>43.574650</td>\n",
       "      <td>2269.922500</td>\n",
       "      <td>58.866176</td>\n",
       "      <td>0.498555</td>\n",
       "      <td>0.015951</td>\n",
       "      <td>1.039692e-05</td>\n",
       "      <td>0.00</td>\n",
       "      <td>0.0</td>\n",
       "      <td>191.0</td>\n",
       "      <td>...</td>\n",
       "      <td>16.0</td>\n",
       "      <td>3.0</td>\n",
       "      <td>1.5100</td>\n",
       "      <td>9.0</td>\n",
       "      <td>16351.576835</td>\n",
       "      <td>1.231518e-05</td>\n",
       "      <td>63.230000</td>\n",
       "      <td>4.022424</td>\n",
       "      <td>395.0</td>\n",
       "      <td>0</td>\n",
       "    </tr>\n",
       "    <tr>\n",
       "      <th>0</th>\n",
       "      <td>204618.961400</td>\n",
       "      <td>361.514800</td>\n",
       "      <td>204618.961400</td>\n",
       "      <td>116.591742</td>\n",
       "      <td>0.615323</td>\n",
       "      <td>0.075374</td>\n",
       "      <td>-1.208459e-04</td>\n",
       "      <td>0.00</td>\n",
       "      <td>0.0</td>\n",
       "      <td>24.0</td>\n",
       "      <td>...</td>\n",
       "      <td>102.0</td>\n",
       "      <td>15.0</td>\n",
       "      <td>8.8800</td>\n",
       "      <td>108.0</td>\n",
       "      <td>20532.458367</td>\n",
       "      <td>1.499352e-05</td>\n",
       "      <td>280.050000</td>\n",
       "      <td>99.864887</td>\n",
       "      <td>701.0</td>\n",
       "      <td>0</td>\n",
       "    </tr>\n",
       "  </tbody>\n",
       "</table>\n",
       "<p>17 rows × 109 columns</p>\n",
       "</div>"
      ],
      "text/plain": [
       "   0_Absolute energy  0_Area under the curve  0_Autocorrelation  0_Centroid  \\\n",
       "0      142365.017400              286.287650      142365.017400  148.380897   \n",
       "0      200857.137900              472.596400      200857.137900  150.243476   \n",
       "0       17428.524300              104.196600       17428.524300   60.685034   \n",
       "0      143933.215500              492.426800      143933.215500  355.427154   \n",
       "0       29660.629200              142.080750       29660.629200   87.713568   \n",
       "0      296524.419500              724.768600      296524.419500  205.165029   \n",
       "0       20721.689546               51.893789       20721.689546   23.973862   \n",
       "0       17494.159400               51.748050       17494.159400   18.665935   \n",
       "0      107843.641100              482.755600      107843.641100  302.536385   \n",
       "0      107843.641100              482.755600      107843.641100  302.536385   \n",
       "0       90516.034300              437.320200       90516.034300  325.705192   \n",
       "0        3275.951600               57.088650        3275.951600   70.399223   \n",
       "0      328042.840400              766.071100      328042.840400  199.991874   \n",
       "0      227384.583512              679.791634      227384.583512  248.255131   \n",
       "0      199557.925343              711.677586      199557.925343  274.486429   \n",
       "0        2269.922500               43.574650        2269.922500   58.866176   \n",
       "0      204618.961400              361.514800      204618.961400  116.591742   \n",
       "\n",
       "   0_Entropy  0_Mean absolute diff   0_Mean diff  0_Median absolute diff  \\\n",
       "0   0.536766              0.068391  6.179465e-06                    0.00   \n",
       "0   0.608193              0.072566 -1.853752e-05                    0.00   \n",
       "0   0.605717              0.061699  2.334684e-05                    0.00   \n",
       "0   0.488515              0.036480  4.257344e-06                    0.00   \n",
       "0   0.611549              0.075822  1.594896e-05                    0.00   \n",
       "0   0.608024              0.065663 -5.861929e-06                    0.00   \n",
       "0   0.709601              0.434191 -9.966115e-06                    0.16   \n",
       "0   0.722106              0.425595 -1.661060e-04                    0.17   \n",
       "0   0.501123              0.028729  3.823799e-06                    0.00   \n",
       "0   0.501123              0.028729  3.823799e-06                    0.00   \n",
       "0   0.494711              0.027897 -2.431972e-06                    0.00   \n",
       "0   0.524908              0.027465  1.764472e-05                    0.00   \n",
       "0   0.623430              0.071661  7.256543e-06                    0.00   \n",
       "0   0.869752              0.050652  1.044180e-05                    0.00   \n",
       "0   0.708994              0.034947 -5.950185e-07                    0.00   \n",
       "0   0.498555              0.015951  1.039692e-05                    0.00   \n",
       "0   0.615323              0.075374 -1.208459e-04                    0.00   \n",
       "\n",
       "   0_Median diff  0_Negative turning points  ...  0_Negative turning points  \\\n",
       "0            0.0                      121.0  ...                       30.0   \n",
       "0            0.0                        3.0  ...                      145.0   \n",
       "0            0.0                      136.0  ...                       11.0   \n",
       "0            0.0                      325.0  ...                      174.0   \n",
       "0            0.0                      152.0  ...                       19.0   \n",
       "0            0.0                       29.0  ...                      161.0   \n",
       "0            0.0                      551.0  ...                      319.0   \n",
       "0            0.0                      517.0  ...                      316.0   \n",
       "0            0.0                      236.0  ...                       76.0   \n",
       "0            0.0                      236.0  ...                       76.0   \n",
       "0            0.0                      294.0  ...                       96.0   \n",
       "0            0.0                      203.0  ...                       12.0   \n",
       "0            0.0                       27.0  ...                      146.0   \n",
       "0            0.0                       38.0  ...                        0.0   \n",
       "0            0.0                       75.0  ...                        4.0   \n",
       "0            0.0                      191.0  ...                       16.0   \n",
       "0            0.0                       24.0  ...                      102.0   \n",
       "\n",
       "   0_Neighbourhood peaks  0_Peak to peak distance  0_Positive turning points  \\\n",
       "0                   12.0                  16.5800                       26.0   \n",
       "0                   32.0                  10.0200                      133.0   \n",
       "0                   12.0                   2.4700                       18.0   \n",
       "0                   33.0                  12.1700                      170.0   \n",
       "0                   22.0                   2.1200                       27.0   \n",
       "0                   49.0                   7.9400                      183.0   \n",
       "0                  118.0                  10.5400                      321.0   \n",
       "0                  100.0                  14.1400                      325.0   \n",
       "0                   27.0                   8.1300                       95.0   \n",
       "0                   27.0                   8.1300                       95.0   \n",
       "0                   28.0                   5.3400                       79.0   \n",
       "0                   11.0                   1.8900                       15.0   \n",
       "0                   26.0                   7.7700                      138.0   \n",
       "0                    3.0                  10.9954                        3.0   \n",
       "0                    1.0                  11.1525                        3.0   \n",
       "0                    3.0                   1.5100                        9.0   \n",
       "0                   15.0                   8.8800                      108.0   \n",
       "\n",
       "   0_Signal distance       0_Slope  0_Sum absolute diff  0_Total energy  \\\n",
       "0       30772.740382  1.959646e-06           267.320000       36.060530   \n",
       "0       30221.612917 -2.278738e-06           395.440000       81.343710   \n",
       "0       14564.629231 -8.298997e-07            95.320000        4.821618   \n",
       "0       79885.731347  2.104734e-06           492.840000       29.625755   \n",
       "0       16932.717928 -4.184387e-07           141.910000        4.430320   \n",
       "0       44364.102298  4.207922e-06           456.500000       40.826123   \n",
       "0        5107.706105  1.044590e-04           469.843082       60.881036   \n",
       "0        4839.030093  1.183088e-04           462.320000       70.159203   \n",
       "0       78462.883387  1.012439e-06           333.350000       12.212537   \n",
       "0       78462.883387  1.012439e-06           333.350000       12.212537   \n",
       "0       74020.767163  1.302837e-06           364.360000        9.476861   \n",
       "0       17570.484142 -1.519825e-06           116.050000        6.205141   \n",
       "0       41351.373719  1.717026e-06           437.020000       43.091856   \n",
       "0       53139.250619  1.175687e-05           394.643300       45.685815   \n",
       "0       84046.556898  2.355085e-06           441.164800       26.812806   \n",
       "0       16351.576835  1.231518e-05            63.230000        4.022424   \n",
       "0       20532.458367  1.499352e-05           280.050000       99.864887   \n",
       "\n",
       "   0_Zero crossing rate  out  \n",
       "0                 422.0    1  \n",
       "0                 839.0    1  \n",
       "0                 289.0    1  \n",
       "0                1309.0    1  \n",
       "0                 483.0    1  \n",
       "0                1018.0    1  \n",
       "0                 459.0    1  \n",
       "0                 435.0    1  \n",
       "0                1663.0    0  \n",
       "0                1663.0    0  \n",
       "0                1441.0    0  \n",
       "0                 247.0    0  \n",
       "0                1000.0    0  \n",
       "0                 644.0    0  \n",
       "0                1247.0    0  \n",
       "0                 395.0    0  \n",
       "0                 701.0    0  \n",
       "\n",
       "[17 rows x 109 columns]"
      ]
     },
     "execution_count": 191,
     "metadata": {},
     "output_type": "execute_result"
    }
   ],
   "source": [
    "New_df"
   ]
  },
  {
   "cell_type": "code",
   "execution_count": 192,
   "metadata": {},
   "outputs": [],
   "source": [
    "New_df.to_csv('dataFeat00.csv',index=False)"
   ]
  },
  {
   "cell_type": "markdown",
   "metadata": {},
   "source": [
    "# Con statistical"
   ]
  },
  {
   "cell_type": "code",
   "execution_count": 219,
   "metadata": {},
   "outputs": [],
   "source": [
    "# Caidas\n",
    "path='./Caida corrected/'\n",
    "y={'out':[1]}\n",
    "y=pd.DataFrame(y)\n",
    "New_df2=pd.DataFrame()"
   ]
  },
  {
   "cell_type": "code",
   "execution_count": null,
   "metadata": {},
   "outputs": [],
   "source": [
    "all_files=os.listdir(path)\n",
    "cfg=tsfel.get_features_by_domain(\"spectral\")\n",
    "\n",
    "for filename in all_files:\n",
    "    df=pd.read_csv(path + filename)\n",
    "    #df=df.dropna()\n",
    "     #extract features\n",
    "     #Giroscopio\n",
    "    wz=tsfel.time_series_features_extractor(cfg,df[\"wz\"])\n",
    "    wx=tsfel.time_series_features_extractor(cfg,df[\"wx\"])\n",
    "    wy=tsfel.time_series_features_extractor(cfg,df[\"wy\"])\n",
    "    #acelerometro\n",
    "    az=tsfel.time_series_features_extractor(cfg,df[\"az\"])\n",
    "    ax=tsfel.time_series_features_extractor(cfg,df[\"ax\"])\n",
    "    ay=tsfel.time_series_features_extractor(cfg,df[\"ay\"])\n",
    "\n",
    "     #Etiquetado 1=caida, 0=no caida\n",
    "    next=pd.concat([ax,ay,az,wx,wy,wz,y],axis=1)\n",
    "    #next\n",
    "\n",
    "    New_df2=pd.concat([New_df2,next],axis=0)"
   ]
  },
  {
   "cell_type": "code",
   "execution_count": 221,
   "metadata": {},
   "outputs": [
    {
     "data": {
      "text/html": [
       "<div>\n",
       "<style scoped>\n",
       "    .dataframe tbody tr th:only-of-type {\n",
       "        vertical-align: middle;\n",
       "    }\n",
       "\n",
       "    .dataframe tbody tr th {\n",
       "        vertical-align: top;\n",
       "    }\n",
       "\n",
       "    .dataframe thead th {\n",
       "        text-align: right;\n",
       "    }\n",
       "</style>\n",
       "<table border=\"1\" class=\"dataframe\">\n",
       "  <thead>\n",
       "    <tr style=\"text-align: right;\">\n",
       "      <th></th>\n",
       "      <th>0_FFT mean coefficient_0</th>\n",
       "      <th>0_FFT mean coefficient_1</th>\n",
       "      <th>0_FFT mean coefficient_2</th>\n",
       "      <th>0_FFT mean coefficient_3</th>\n",
       "      <th>0_FFT mean coefficient_4</th>\n",
       "      <th>0_FFT mean coefficient_5</th>\n",
       "      <th>0_FFT mean coefficient_6</th>\n",
       "      <th>0_FFT mean coefficient_7</th>\n",
       "      <th>0_FFT mean coefficient_8</th>\n",
       "      <th>0_FFT mean coefficient_9</th>\n",
       "      <th>...</th>\n",
       "      <th>0_Wavelet variance_0</th>\n",
       "      <th>0_Wavelet variance_1</th>\n",
       "      <th>0_Wavelet variance_2</th>\n",
       "      <th>0_Wavelet variance_3</th>\n",
       "      <th>0_Wavelet variance_4</th>\n",
       "      <th>0_Wavelet variance_5</th>\n",
       "      <th>0_Wavelet variance_6</th>\n",
       "      <th>0_Wavelet variance_7</th>\n",
       "      <th>0_Wavelet variance_8</th>\n",
       "      <th>out</th>\n",
       "    </tr>\n",
       "  </thead>\n",
       "  <tbody>\n",
       "    <tr>\n",
       "      <th>0</th>\n",
       "      <td>0.132085</td>\n",
       "      <td>3.042511</td>\n",
       "      <td>2.927502</td>\n",
       "      <td>2.800327</td>\n",
       "      <td>2.091819</td>\n",
       "      <td>1.102064</td>\n",
       "      <td>0.875626</td>\n",
       "      <td>1.176028</td>\n",
       "      <td>0.887498</td>\n",
       "      <td>0.440839</td>\n",
       "      <td>...</td>\n",
       "      <td>0.001265</td>\n",
       "      <td>0.009921</td>\n",
       "      <td>0.028629</td>\n",
       "      <td>0.055860</td>\n",
       "      <td>0.099916</td>\n",
       "      <td>0.174329</td>\n",
       "      <td>0.286124</td>\n",
       "      <td>0.435049</td>\n",
       "      <td>0.616265</td>\n",
       "      <td>1</td>\n",
       "    </tr>\n",
       "    <tr>\n",
       "      <th>0</th>\n",
       "      <td>0.027088</td>\n",
       "      <td>0.499488</td>\n",
       "      <td>1.087891</td>\n",
       "      <td>0.280965</td>\n",
       "      <td>0.437796</td>\n",
       "      <td>0.355547</td>\n",
       "      <td>0.543260</td>\n",
       "      <td>0.449776</td>\n",
       "      <td>0.702400</td>\n",
       "      <td>0.320782</td>\n",
       "      <td>...</td>\n",
       "      <td>0.000070</td>\n",
       "      <td>0.000409</td>\n",
       "      <td>0.002044</td>\n",
       "      <td>0.006272</td>\n",
       "      <td>0.014040</td>\n",
       "      <td>0.025732</td>\n",
       "      <td>0.041241</td>\n",
       "      <td>0.060129</td>\n",
       "      <td>0.081773</td>\n",
       "      <td>1</td>\n",
       "    </tr>\n",
       "    <tr>\n",
       "      <th>0</th>\n",
       "      <td>0.395029</td>\n",
       "      <td>14.259278</td>\n",
       "      <td>4.167078</td>\n",
       "      <td>2.985040</td>\n",
       "      <td>3.010430</td>\n",
       "      <td>1.862288</td>\n",
       "      <td>1.208616</td>\n",
       "      <td>0.923239</td>\n",
       "      <td>0.891855</td>\n",
       "      <td>0.589608</td>\n",
       "      <td>...</td>\n",
       "      <td>0.000143</td>\n",
       "      <td>0.000671</td>\n",
       "      <td>0.003895</td>\n",
       "      <td>0.013312</td>\n",
       "      <td>0.033690</td>\n",
       "      <td>0.070172</td>\n",
       "      <td>0.127556</td>\n",
       "      <td>0.209881</td>\n",
       "      <td>0.320323</td>\n",
       "      <td>1</td>\n",
       "    </tr>\n",
       "    <tr>\n",
       "      <th>0</th>\n",
       "      <td>0.044757</td>\n",
       "      <td>1.292231</td>\n",
       "      <td>1.189343</td>\n",
       "      <td>0.983739</td>\n",
       "      <td>0.739763</td>\n",
       "      <td>0.459762</td>\n",
       "      <td>0.503173</td>\n",
       "      <td>0.526052</td>\n",
       "      <td>0.171102</td>\n",
       "      <td>0.253088</td>\n",
       "      <td>...</td>\n",
       "      <td>0.000151</td>\n",
       "      <td>0.001098</td>\n",
       "      <td>0.005944</td>\n",
       "      <td>0.019862</td>\n",
       "      <td>0.048748</td>\n",
       "      <td>0.096976</td>\n",
       "      <td>0.165368</td>\n",
       "      <td>0.250962</td>\n",
       "      <td>0.348279</td>\n",
       "      <td>1</td>\n",
       "    </tr>\n",
       "    <tr>\n",
       "      <th>0</th>\n",
       "      <td>0.056155</td>\n",
       "      <td>0.481255</td>\n",
       "      <td>1.551824</td>\n",
       "      <td>0.328492</td>\n",
       "      <td>0.871964</td>\n",
       "      <td>0.482325</td>\n",
       "      <td>0.683241</td>\n",
       "      <td>0.776766</td>\n",
       "      <td>0.734411</td>\n",
       "      <td>0.618450</td>\n",
       "      <td>...</td>\n",
       "      <td>0.000125</td>\n",
       "      <td>0.000931</td>\n",
       "      <td>0.004730</td>\n",
       "      <td>0.014340</td>\n",
       "      <td>0.031539</td>\n",
       "      <td>0.056543</td>\n",
       "      <td>0.088266</td>\n",
       "      <td>0.124700</td>\n",
       "      <td>0.163333</td>\n",
       "      <td>1</td>\n",
       "    </tr>\n",
       "    <tr>\n",
       "      <th>0</th>\n",
       "      <td>0.268758</td>\n",
       "      <td>9.193490</td>\n",
       "      <td>8.430774</td>\n",
       "      <td>6.073243</td>\n",
       "      <td>2.515605</td>\n",
       "      <td>1.928931</td>\n",
       "      <td>0.917391</td>\n",
       "      <td>0.599522</td>\n",
       "      <td>0.380318</td>\n",
       "      <td>0.306678</td>\n",
       "      <td>...</td>\n",
       "      <td>0.000084</td>\n",
       "      <td>0.000400</td>\n",
       "      <td>0.002412</td>\n",
       "      <td>0.008485</td>\n",
       "      <td>0.021723</td>\n",
       "      <td>0.045328</td>\n",
       "      <td>0.082091</td>\n",
       "      <td>0.134105</td>\n",
       "      <td>0.202717</td>\n",
       "      <td>1</td>\n",
       "    </tr>\n",
       "    <tr>\n",
       "      <th>0</th>\n",
       "      <td>0.132286</td>\n",
       "      <td>5.455448</td>\n",
       "      <td>5.360226</td>\n",
       "      <td>3.381122</td>\n",
       "      <td>1.831383</td>\n",
       "      <td>1.326156</td>\n",
       "      <td>0.829915</td>\n",
       "      <td>0.770553</td>\n",
       "      <td>0.587560</td>\n",
       "      <td>0.418974</td>\n",
       "      <td>...</td>\n",
       "      <td>0.000161</td>\n",
       "      <td>0.000180</td>\n",
       "      <td>0.001155</td>\n",
       "      <td>0.004263</td>\n",
       "      <td>0.011404</td>\n",
       "      <td>0.024811</td>\n",
       "      <td>0.046806</td>\n",
       "      <td>0.079627</td>\n",
       "      <td>0.125302</td>\n",
       "      <td>1</td>\n",
       "    </tr>\n",
       "    <tr>\n",
       "      <th>0</th>\n",
       "      <td>0.246221</td>\n",
       "      <td>8.267485</td>\n",
       "      <td>6.973996</td>\n",
       "      <td>4.919505</td>\n",
       "      <td>3.118543</td>\n",
       "      <td>1.122422</td>\n",
       "      <td>1.253275</td>\n",
       "      <td>0.759075</td>\n",
       "      <td>0.610748</td>\n",
       "      <td>0.410329</td>\n",
       "      <td>...</td>\n",
       "      <td>0.000231</td>\n",
       "      <td>0.000431</td>\n",
       "      <td>0.001885</td>\n",
       "      <td>0.006125</td>\n",
       "      <td>0.015486</td>\n",
       "      <td>0.032576</td>\n",
       "      <td>0.059950</td>\n",
       "      <td>0.099870</td>\n",
       "      <td>0.154105</td>\n",
       "      <td>1</td>\n",
       "    </tr>\n",
       "  </tbody>\n",
       "</table>\n",
       "<p>8 rows × 2017 columns</p>\n",
       "</div>"
      ],
      "text/plain": [
       "   0_FFT mean coefficient_0  0_FFT mean coefficient_1  \\\n",
       "0                  0.132085                  3.042511   \n",
       "0                  0.027088                  0.499488   \n",
       "0                  0.395029                 14.259278   \n",
       "0                  0.044757                  1.292231   \n",
       "0                  0.056155                  0.481255   \n",
       "0                  0.268758                  9.193490   \n",
       "0                  0.132286                  5.455448   \n",
       "0                  0.246221                  8.267485   \n",
       "\n",
       "   0_FFT mean coefficient_2  0_FFT mean coefficient_3  \\\n",
       "0                  2.927502                  2.800327   \n",
       "0                  1.087891                  0.280965   \n",
       "0                  4.167078                  2.985040   \n",
       "0                  1.189343                  0.983739   \n",
       "0                  1.551824                  0.328492   \n",
       "0                  8.430774                  6.073243   \n",
       "0                  5.360226                  3.381122   \n",
       "0                  6.973996                  4.919505   \n",
       "\n",
       "   0_FFT mean coefficient_4  0_FFT mean coefficient_5  \\\n",
       "0                  2.091819                  1.102064   \n",
       "0                  0.437796                  0.355547   \n",
       "0                  3.010430                  1.862288   \n",
       "0                  0.739763                  0.459762   \n",
       "0                  0.871964                  0.482325   \n",
       "0                  2.515605                  1.928931   \n",
       "0                  1.831383                  1.326156   \n",
       "0                  3.118543                  1.122422   \n",
       "\n",
       "   0_FFT mean coefficient_6  0_FFT mean coefficient_7  \\\n",
       "0                  0.875626                  1.176028   \n",
       "0                  0.543260                  0.449776   \n",
       "0                  1.208616                  0.923239   \n",
       "0                  0.503173                  0.526052   \n",
       "0                  0.683241                  0.776766   \n",
       "0                  0.917391                  0.599522   \n",
       "0                  0.829915                  0.770553   \n",
       "0                  1.253275                  0.759075   \n",
       "\n",
       "   0_FFT mean coefficient_8  0_FFT mean coefficient_9  ...  \\\n",
       "0                  0.887498                  0.440839  ...   \n",
       "0                  0.702400                  0.320782  ...   \n",
       "0                  0.891855                  0.589608  ...   \n",
       "0                  0.171102                  0.253088  ...   \n",
       "0                  0.734411                  0.618450  ...   \n",
       "0                  0.380318                  0.306678  ...   \n",
       "0                  0.587560                  0.418974  ...   \n",
       "0                  0.610748                  0.410329  ...   \n",
       "\n",
       "   0_Wavelet variance_0  0_Wavelet variance_1  0_Wavelet variance_2  \\\n",
       "0              0.001265              0.009921              0.028629   \n",
       "0              0.000070              0.000409              0.002044   \n",
       "0              0.000143              0.000671              0.003895   \n",
       "0              0.000151              0.001098              0.005944   \n",
       "0              0.000125              0.000931              0.004730   \n",
       "0              0.000084              0.000400              0.002412   \n",
       "0              0.000161              0.000180              0.001155   \n",
       "0              0.000231              0.000431              0.001885   \n",
       "\n",
       "   0_Wavelet variance_3  0_Wavelet variance_4  0_Wavelet variance_5  \\\n",
       "0              0.055860              0.099916              0.174329   \n",
       "0              0.006272              0.014040              0.025732   \n",
       "0              0.013312              0.033690              0.070172   \n",
       "0              0.019862              0.048748              0.096976   \n",
       "0              0.014340              0.031539              0.056543   \n",
       "0              0.008485              0.021723              0.045328   \n",
       "0              0.004263              0.011404              0.024811   \n",
       "0              0.006125              0.015486              0.032576   \n",
       "\n",
       "   0_Wavelet variance_6  0_Wavelet variance_7  0_Wavelet variance_8  out  \n",
       "0              0.286124              0.435049              0.616265    1  \n",
       "0              0.041241              0.060129              0.081773    1  \n",
       "0              0.127556              0.209881              0.320323    1  \n",
       "0              0.165368              0.250962              0.348279    1  \n",
       "0              0.088266              0.124700              0.163333    1  \n",
       "0              0.082091              0.134105              0.202717    1  \n",
       "0              0.046806              0.079627              0.125302    1  \n",
       "0              0.059950              0.099870              0.154105    1  \n",
       "\n",
       "[8 rows x 2017 columns]"
      ]
     },
     "execution_count": 221,
     "metadata": {},
     "output_type": "execute_result"
    }
   ],
   "source": [
    "New_df2"
   ]
  },
  {
   "cell_type": "markdown",
   "metadata": {},
   "source": [
    "No caidas"
   ]
  },
  {
   "cell_type": "code",
   "execution_count": 222,
   "metadata": {},
   "outputs": [],
   "source": [
    "# No Caidas\n",
    "path='./No caida corrected/'\n",
    "y={'out':[0]}\n",
    "y=pd.DataFrame(y)"
   ]
  },
  {
   "cell_type": "code",
   "execution_count": null,
   "metadata": {},
   "outputs": [],
   "source": [
    "all_files=os.listdir(path)\n",
    "cfg=tsfel.get_features_by_domain(\"spectral\")\n",
    "\n",
    "for filename in all_files:\n",
    "    df=pd.read_csv(path + filename)\n",
    "    #df=df.dropna()\n",
    "     #extract features\n",
    "     #Giroscopio\n",
    "    wz=tsfel.time_series_features_extractor(cfg,df[\"wz\"])\n",
    "    wx=tsfel.time_series_features_extractor(cfg,df[\"wx\"])\n",
    "    wy=tsfel.time_series_features_extractor(cfg,df[\"wy\"])\n",
    "    #acelerometro\n",
    "    az=tsfel.time_series_features_extractor(cfg,df[\"az\"])\n",
    "    ax=tsfel.time_series_features_extractor(cfg,df[\"ax\"])\n",
    "    ay=tsfel.time_series_features_extractor(cfg,df[\"ay\"])\n",
    "\n",
    "     #Etiquetado 1=caida, 0=no caida\n",
    "    next=pd.concat([ax,ay,az,wx,wy,wz,y],axis=1)\n",
    "    #next\n",
    "\n",
    "    New_df2=pd.concat([New_df2,next],axis=0)"
   ]
  },
  {
   "cell_type": "code",
   "execution_count": 227,
   "metadata": {},
   "outputs": [],
   "source": [
    "New_df2.to_csv('dataFeatSpect.csv',index=False)"
   ]
  },
  {
   "cell_type": "code",
   "execution_count": 226,
   "metadata": {},
   "outputs": [
    {
     "data": {
      "text/html": [
       "<div>\n",
       "<style scoped>\n",
       "    .dataframe tbody tr th:only-of-type {\n",
       "        vertical-align: middle;\n",
       "    }\n",
       "\n",
       "    .dataframe tbody tr th {\n",
       "        vertical-align: top;\n",
       "    }\n",
       "\n",
       "    .dataframe thead th {\n",
       "        text-align: right;\n",
       "    }\n",
       "</style>\n",
       "<table border=\"1\" class=\"dataframe\">\n",
       "  <thead>\n",
       "    <tr style=\"text-align: right;\">\n",
       "      <th></th>\n",
       "      <th>0_FFT mean coefficient_0</th>\n",
       "      <th>0_FFT mean coefficient_1</th>\n",
       "      <th>0_FFT mean coefficient_2</th>\n",
       "      <th>0_FFT mean coefficient_3</th>\n",
       "      <th>0_FFT mean coefficient_4</th>\n",
       "      <th>0_FFT mean coefficient_5</th>\n",
       "      <th>0_FFT mean coefficient_6</th>\n",
       "      <th>0_FFT mean coefficient_7</th>\n",
       "      <th>0_FFT mean coefficient_8</th>\n",
       "      <th>0_FFT mean coefficient_9</th>\n",
       "      <th>...</th>\n",
       "      <th>0_Wavelet variance_0</th>\n",
       "      <th>0_Wavelet variance_1</th>\n",
       "      <th>0_Wavelet variance_2</th>\n",
       "      <th>0_Wavelet variance_3</th>\n",
       "      <th>0_Wavelet variance_4</th>\n",
       "      <th>0_Wavelet variance_5</th>\n",
       "      <th>0_Wavelet variance_6</th>\n",
       "      <th>0_Wavelet variance_7</th>\n",
       "      <th>0_Wavelet variance_8</th>\n",
       "      <th>out</th>\n",
       "    </tr>\n",
       "  </thead>\n",
       "  <tbody>\n",
       "    <tr>\n",
       "      <th>0</th>\n",
       "      <td>0.132085</td>\n",
       "      <td>3.042511</td>\n",
       "      <td>2.927502</td>\n",
       "      <td>2.800327</td>\n",
       "      <td>2.091819</td>\n",
       "      <td>1.102064</td>\n",
       "      <td>0.875626</td>\n",
       "      <td>1.176028</td>\n",
       "      <td>0.887498</td>\n",
       "      <td>0.440839</td>\n",
       "      <td>...</td>\n",
       "      <td>0.001265</td>\n",
       "      <td>0.009921</td>\n",
       "      <td>0.028629</td>\n",
       "      <td>0.055860</td>\n",
       "      <td>0.099916</td>\n",
       "      <td>0.174329</td>\n",
       "      <td>0.286124</td>\n",
       "      <td>0.435049</td>\n",
       "      <td>0.616265</td>\n",
       "      <td>1</td>\n",
       "    </tr>\n",
       "    <tr>\n",
       "      <th>0</th>\n",
       "      <td>0.027088</td>\n",
       "      <td>0.499488</td>\n",
       "      <td>1.087891</td>\n",
       "      <td>0.280965</td>\n",
       "      <td>0.437796</td>\n",
       "      <td>0.355547</td>\n",
       "      <td>0.543260</td>\n",
       "      <td>0.449776</td>\n",
       "      <td>0.702400</td>\n",
       "      <td>0.320782</td>\n",
       "      <td>...</td>\n",
       "      <td>0.000070</td>\n",
       "      <td>0.000409</td>\n",
       "      <td>0.002044</td>\n",
       "      <td>0.006272</td>\n",
       "      <td>0.014040</td>\n",
       "      <td>0.025732</td>\n",
       "      <td>0.041241</td>\n",
       "      <td>0.060129</td>\n",
       "      <td>0.081773</td>\n",
       "      <td>1</td>\n",
       "    </tr>\n",
       "    <tr>\n",
       "      <th>0</th>\n",
       "      <td>0.395029</td>\n",
       "      <td>14.259278</td>\n",
       "      <td>4.167078</td>\n",
       "      <td>2.985040</td>\n",
       "      <td>3.010430</td>\n",
       "      <td>1.862288</td>\n",
       "      <td>1.208616</td>\n",
       "      <td>0.923239</td>\n",
       "      <td>0.891855</td>\n",
       "      <td>0.589608</td>\n",
       "      <td>...</td>\n",
       "      <td>0.000143</td>\n",
       "      <td>0.000671</td>\n",
       "      <td>0.003895</td>\n",
       "      <td>0.013312</td>\n",
       "      <td>0.033690</td>\n",
       "      <td>0.070172</td>\n",
       "      <td>0.127556</td>\n",
       "      <td>0.209881</td>\n",
       "      <td>0.320323</td>\n",
       "      <td>1</td>\n",
       "    </tr>\n",
       "    <tr>\n",
       "      <th>0</th>\n",
       "      <td>0.044757</td>\n",
       "      <td>1.292231</td>\n",
       "      <td>1.189343</td>\n",
       "      <td>0.983739</td>\n",
       "      <td>0.739763</td>\n",
       "      <td>0.459762</td>\n",
       "      <td>0.503173</td>\n",
       "      <td>0.526052</td>\n",
       "      <td>0.171102</td>\n",
       "      <td>0.253088</td>\n",
       "      <td>...</td>\n",
       "      <td>0.000151</td>\n",
       "      <td>0.001098</td>\n",
       "      <td>0.005944</td>\n",
       "      <td>0.019862</td>\n",
       "      <td>0.048748</td>\n",
       "      <td>0.096976</td>\n",
       "      <td>0.165368</td>\n",
       "      <td>0.250962</td>\n",
       "      <td>0.348279</td>\n",
       "      <td>1</td>\n",
       "    </tr>\n",
       "    <tr>\n",
       "      <th>0</th>\n",
       "      <td>0.056155</td>\n",
       "      <td>0.481255</td>\n",
       "      <td>1.551824</td>\n",
       "      <td>0.328492</td>\n",
       "      <td>0.871964</td>\n",
       "      <td>0.482325</td>\n",
       "      <td>0.683241</td>\n",
       "      <td>0.776766</td>\n",
       "      <td>0.734411</td>\n",
       "      <td>0.618450</td>\n",
       "      <td>...</td>\n",
       "      <td>0.000125</td>\n",
       "      <td>0.000931</td>\n",
       "      <td>0.004730</td>\n",
       "      <td>0.014340</td>\n",
       "      <td>0.031539</td>\n",
       "      <td>0.056543</td>\n",
       "      <td>0.088266</td>\n",
       "      <td>0.124700</td>\n",
       "      <td>0.163333</td>\n",
       "      <td>1</td>\n",
       "    </tr>\n",
       "    <tr>\n",
       "      <th>0</th>\n",
       "      <td>0.268758</td>\n",
       "      <td>9.193490</td>\n",
       "      <td>8.430774</td>\n",
       "      <td>6.073243</td>\n",
       "      <td>2.515605</td>\n",
       "      <td>1.928931</td>\n",
       "      <td>0.917391</td>\n",
       "      <td>0.599522</td>\n",
       "      <td>0.380318</td>\n",
       "      <td>0.306678</td>\n",
       "      <td>...</td>\n",
       "      <td>0.000084</td>\n",
       "      <td>0.000400</td>\n",
       "      <td>0.002412</td>\n",
       "      <td>0.008485</td>\n",
       "      <td>0.021723</td>\n",
       "      <td>0.045328</td>\n",
       "      <td>0.082091</td>\n",
       "      <td>0.134105</td>\n",
       "      <td>0.202717</td>\n",
       "      <td>1</td>\n",
       "    </tr>\n",
       "    <tr>\n",
       "      <th>0</th>\n",
       "      <td>0.132286</td>\n",
       "      <td>5.455448</td>\n",
       "      <td>5.360226</td>\n",
       "      <td>3.381122</td>\n",
       "      <td>1.831383</td>\n",
       "      <td>1.326156</td>\n",
       "      <td>0.829915</td>\n",
       "      <td>0.770553</td>\n",
       "      <td>0.587560</td>\n",
       "      <td>0.418974</td>\n",
       "      <td>...</td>\n",
       "      <td>0.000161</td>\n",
       "      <td>0.000180</td>\n",
       "      <td>0.001155</td>\n",
       "      <td>0.004263</td>\n",
       "      <td>0.011404</td>\n",
       "      <td>0.024811</td>\n",
       "      <td>0.046806</td>\n",
       "      <td>0.079627</td>\n",
       "      <td>0.125302</td>\n",
       "      <td>1</td>\n",
       "    </tr>\n",
       "    <tr>\n",
       "      <th>0</th>\n",
       "      <td>0.246221</td>\n",
       "      <td>8.267485</td>\n",
       "      <td>6.973996</td>\n",
       "      <td>4.919505</td>\n",
       "      <td>3.118543</td>\n",
       "      <td>1.122422</td>\n",
       "      <td>1.253275</td>\n",
       "      <td>0.759075</td>\n",
       "      <td>0.610748</td>\n",
       "      <td>0.410329</td>\n",
       "      <td>...</td>\n",
       "      <td>0.000231</td>\n",
       "      <td>0.000431</td>\n",
       "      <td>0.001885</td>\n",
       "      <td>0.006125</td>\n",
       "      <td>0.015486</td>\n",
       "      <td>0.032576</td>\n",
       "      <td>0.059950</td>\n",
       "      <td>0.099870</td>\n",
       "      <td>0.154105</td>\n",
       "      <td>1</td>\n",
       "    </tr>\n",
       "    <tr>\n",
       "      <th>0</th>\n",
       "      <td>0.036374</td>\n",
       "      <td>1.345688</td>\n",
       "      <td>2.096778</td>\n",
       "      <td>1.084538</td>\n",
       "      <td>0.523767</td>\n",
       "      <td>0.418424</td>\n",
       "      <td>0.362394</td>\n",
       "      <td>0.246103</td>\n",
       "      <td>0.139397</td>\n",
       "      <td>0.087092</td>\n",
       "      <td>...</td>\n",
       "      <td>0.000046</td>\n",
       "      <td>0.000181</td>\n",
       "      <td>0.000840</td>\n",
       "      <td>0.002796</td>\n",
       "      <td>0.007079</td>\n",
       "      <td>0.014829</td>\n",
       "      <td>0.027153</td>\n",
       "      <td>0.045034</td>\n",
       "      <td>0.069278</td>\n",
       "      <td>0</td>\n",
       "    </tr>\n",
       "    <tr>\n",
       "      <th>0</th>\n",
       "      <td>0.040785</td>\n",
       "      <td>1.465042</td>\n",
       "      <td>1.771576</td>\n",
       "      <td>0.967041</td>\n",
       "      <td>0.434392</td>\n",
       "      <td>0.252767</td>\n",
       "      <td>0.159093</td>\n",
       "      <td>0.168926</td>\n",
       "      <td>0.119041</td>\n",
       "      <td>0.073470</td>\n",
       "      <td>...</td>\n",
       "      <td>0.000047</td>\n",
       "      <td>0.000213</td>\n",
       "      <td>0.001068</td>\n",
       "      <td>0.003586</td>\n",
       "      <td>0.008916</td>\n",
       "      <td>0.018162</td>\n",
       "      <td>0.032233</td>\n",
       "      <td>0.051794</td>\n",
       "      <td>0.077272</td>\n",
       "      <td>0</td>\n",
       "    </tr>\n",
       "    <tr>\n",
       "      <th>0</th>\n",
       "      <td>0.003372</td>\n",
       "      <td>0.084703</td>\n",
       "      <td>0.133097</td>\n",
       "      <td>0.099345</td>\n",
       "      <td>0.093161</td>\n",
       "      <td>0.092171</td>\n",
       "      <td>0.155388</td>\n",
       "      <td>0.110688</td>\n",
       "      <td>0.061674</td>\n",
       "      <td>0.021601</td>\n",
       "      <td>...</td>\n",
       "      <td>0.000052</td>\n",
       "      <td>0.000184</td>\n",
       "      <td>0.000822</td>\n",
       "      <td>0.002635</td>\n",
       "      <td>0.006528</td>\n",
       "      <td>0.013567</td>\n",
       "      <td>0.024826</td>\n",
       "      <td>0.041231</td>\n",
       "      <td>0.063444</td>\n",
       "      <td>0</td>\n",
       "    </tr>\n",
       "    <tr>\n",
       "      <th>0</th>\n",
       "      <td>0.277254</td>\n",
       "      <td>11.576771</td>\n",
       "      <td>9.795423</td>\n",
       "      <td>6.964320</td>\n",
       "      <td>3.988339</td>\n",
       "      <td>1.745599</td>\n",
       "      <td>0.973364</td>\n",
       "      <td>0.650867</td>\n",
       "      <td>0.587193</td>\n",
       "      <td>0.510804</td>\n",
       "      <td>...</td>\n",
       "      <td>0.000091</td>\n",
       "      <td>0.000392</td>\n",
       "      <td>0.002227</td>\n",
       "      <td>0.007855</td>\n",
       "      <td>0.020383</td>\n",
       "      <td>0.043147</td>\n",
       "      <td>0.079125</td>\n",
       "      <td>0.130525</td>\n",
       "      <td>0.198618</td>\n",
       "      <td>0</td>\n",
       "    </tr>\n",
       "    <tr>\n",
       "      <th>0</th>\n",
       "      <td>0.128871</td>\n",
       "      <td>6.271101</td>\n",
       "      <td>4.381905</td>\n",
       "      <td>3.060295</td>\n",
       "      <td>2.425968</td>\n",
       "      <td>1.168741</td>\n",
       "      <td>0.736871</td>\n",
       "      <td>0.709498</td>\n",
       "      <td>0.512140</td>\n",
       "      <td>0.283166</td>\n",
       "      <td>...</td>\n",
       "      <td>0.000177</td>\n",
       "      <td>0.000215</td>\n",
       "      <td>0.001381</td>\n",
       "      <td>0.005205</td>\n",
       "      <td>0.014144</td>\n",
       "      <td>0.031075</td>\n",
       "      <td>0.058860</td>\n",
       "      <td>0.099956</td>\n",
       "      <td>0.156126</td>\n",
       "      <td>0</td>\n",
       "    </tr>\n",
       "    <tr>\n",
       "      <th>0</th>\n",
       "      <td>0.079707</td>\n",
       "      <td>3.776364</td>\n",
       "      <td>2.950775</td>\n",
       "      <td>1.634110</td>\n",
       "      <td>1.073026</td>\n",
       "      <td>0.506738</td>\n",
       "      <td>0.339719</td>\n",
       "      <td>0.272104</td>\n",
       "      <td>0.172514</td>\n",
       "      <td>0.103706</td>\n",
       "      <td>...</td>\n",
       "      <td>0.000143</td>\n",
       "      <td>0.000335</td>\n",
       "      <td>0.001281</td>\n",
       "      <td>0.003840</td>\n",
       "      <td>0.009252</td>\n",
       "      <td>0.018813</td>\n",
       "      <td>0.033681</td>\n",
       "      <td>0.054777</td>\n",
       "      <td>0.082756</td>\n",
       "      <td>0</td>\n",
       "    </tr>\n",
       "    <tr>\n",
       "      <th>0</th>\n",
       "      <td>0.002357</td>\n",
       "      <td>0.101486</td>\n",
       "      <td>0.057287</td>\n",
       "      <td>0.051964</td>\n",
       "      <td>0.066676</td>\n",
       "      <td>0.046771</td>\n",
       "      <td>0.047082</td>\n",
       "      <td>0.024496</td>\n",
       "      <td>0.016078</td>\n",
       "      <td>0.009926</td>\n",
       "      <td>...</td>\n",
       "      <td>0.000024</td>\n",
       "      <td>0.000071</td>\n",
       "      <td>0.000285</td>\n",
       "      <td>0.000922</td>\n",
       "      <td>0.002329</td>\n",
       "      <td>0.004903</td>\n",
       "      <td>0.009043</td>\n",
       "      <td>0.015102</td>\n",
       "      <td>0.023354</td>\n",
       "      <td>0</td>\n",
       "    </tr>\n",
       "    <tr>\n",
       "      <th>0</th>\n",
       "      <td>0.435525</td>\n",
       "      <td>21.352774</td>\n",
       "      <td>8.627848</td>\n",
       "      <td>5.773942</td>\n",
       "      <td>3.590764</td>\n",
       "      <td>2.445815</td>\n",
       "      <td>1.297609</td>\n",
       "      <td>1.256554</td>\n",
       "      <td>0.659157</td>\n",
       "      <td>0.637769</td>\n",
       "      <td>...</td>\n",
       "      <td>0.000213</td>\n",
       "      <td>0.000983</td>\n",
       "      <td>0.005409</td>\n",
       "      <td>0.018696</td>\n",
       "      <td>0.047824</td>\n",
       "      <td>0.100016</td>\n",
       "      <td>0.181489</td>\n",
       "      <td>0.296795</td>\n",
       "      <td>0.448681</td>\n",
       "      <td>0</td>\n",
       "    </tr>\n",
       "  </tbody>\n",
       "</table>\n",
       "<p>16 rows × 2017 columns</p>\n",
       "</div>"
      ],
      "text/plain": [
       "   0_FFT mean coefficient_0  0_FFT mean coefficient_1  \\\n",
       "0                  0.132085                  3.042511   \n",
       "0                  0.027088                  0.499488   \n",
       "0                  0.395029                 14.259278   \n",
       "0                  0.044757                  1.292231   \n",
       "0                  0.056155                  0.481255   \n",
       "0                  0.268758                  9.193490   \n",
       "0                  0.132286                  5.455448   \n",
       "0                  0.246221                  8.267485   \n",
       "0                  0.036374                  1.345688   \n",
       "0                  0.040785                  1.465042   \n",
       "0                  0.003372                  0.084703   \n",
       "0                  0.277254                 11.576771   \n",
       "0                  0.128871                  6.271101   \n",
       "0                  0.079707                  3.776364   \n",
       "0                  0.002357                  0.101486   \n",
       "0                  0.435525                 21.352774   \n",
       "\n",
       "   0_FFT mean coefficient_2  0_FFT mean coefficient_3  \\\n",
       "0                  2.927502                  2.800327   \n",
       "0                  1.087891                  0.280965   \n",
       "0                  4.167078                  2.985040   \n",
       "0                  1.189343                  0.983739   \n",
       "0                  1.551824                  0.328492   \n",
       "0                  8.430774                  6.073243   \n",
       "0                  5.360226                  3.381122   \n",
       "0                  6.973996                  4.919505   \n",
       "0                  2.096778                  1.084538   \n",
       "0                  1.771576                  0.967041   \n",
       "0                  0.133097                  0.099345   \n",
       "0                  9.795423                  6.964320   \n",
       "0                  4.381905                  3.060295   \n",
       "0                  2.950775                  1.634110   \n",
       "0                  0.057287                  0.051964   \n",
       "0                  8.627848                  5.773942   \n",
       "\n",
       "   0_FFT mean coefficient_4  0_FFT mean coefficient_5  \\\n",
       "0                  2.091819                  1.102064   \n",
       "0                  0.437796                  0.355547   \n",
       "0                  3.010430                  1.862288   \n",
       "0                  0.739763                  0.459762   \n",
       "0                  0.871964                  0.482325   \n",
       "0                  2.515605                  1.928931   \n",
       "0                  1.831383                  1.326156   \n",
       "0                  3.118543                  1.122422   \n",
       "0                  0.523767                  0.418424   \n",
       "0                  0.434392                  0.252767   \n",
       "0                  0.093161                  0.092171   \n",
       "0                  3.988339                  1.745599   \n",
       "0                  2.425968                  1.168741   \n",
       "0                  1.073026                  0.506738   \n",
       "0                  0.066676                  0.046771   \n",
       "0                  3.590764                  2.445815   \n",
       "\n",
       "   0_FFT mean coefficient_6  0_FFT mean coefficient_7  \\\n",
       "0                  0.875626                  1.176028   \n",
       "0                  0.543260                  0.449776   \n",
       "0                  1.208616                  0.923239   \n",
       "0                  0.503173                  0.526052   \n",
       "0                  0.683241                  0.776766   \n",
       "0                  0.917391                  0.599522   \n",
       "0                  0.829915                  0.770553   \n",
       "0                  1.253275                  0.759075   \n",
       "0                  0.362394                  0.246103   \n",
       "0                  0.159093                  0.168926   \n",
       "0                  0.155388                  0.110688   \n",
       "0                  0.973364                  0.650867   \n",
       "0                  0.736871                  0.709498   \n",
       "0                  0.339719                  0.272104   \n",
       "0                  0.047082                  0.024496   \n",
       "0                  1.297609                  1.256554   \n",
       "\n",
       "   0_FFT mean coefficient_8  0_FFT mean coefficient_9  ...  \\\n",
       "0                  0.887498                  0.440839  ...   \n",
       "0                  0.702400                  0.320782  ...   \n",
       "0                  0.891855                  0.589608  ...   \n",
       "0                  0.171102                  0.253088  ...   \n",
       "0                  0.734411                  0.618450  ...   \n",
       "0                  0.380318                  0.306678  ...   \n",
       "0                  0.587560                  0.418974  ...   \n",
       "0                  0.610748                  0.410329  ...   \n",
       "0                  0.139397                  0.087092  ...   \n",
       "0                  0.119041                  0.073470  ...   \n",
       "0                  0.061674                  0.021601  ...   \n",
       "0                  0.587193                  0.510804  ...   \n",
       "0                  0.512140                  0.283166  ...   \n",
       "0                  0.172514                  0.103706  ...   \n",
       "0                  0.016078                  0.009926  ...   \n",
       "0                  0.659157                  0.637769  ...   \n",
       "\n",
       "   0_Wavelet variance_0  0_Wavelet variance_1  0_Wavelet variance_2  \\\n",
       "0              0.001265              0.009921              0.028629   \n",
       "0              0.000070              0.000409              0.002044   \n",
       "0              0.000143              0.000671              0.003895   \n",
       "0              0.000151              0.001098              0.005944   \n",
       "0              0.000125              0.000931              0.004730   \n",
       "0              0.000084              0.000400              0.002412   \n",
       "0              0.000161              0.000180              0.001155   \n",
       "0              0.000231              0.000431              0.001885   \n",
       "0              0.000046              0.000181              0.000840   \n",
       "0              0.000047              0.000213              0.001068   \n",
       "0              0.000052              0.000184              0.000822   \n",
       "0              0.000091              0.000392              0.002227   \n",
       "0              0.000177              0.000215              0.001381   \n",
       "0              0.000143              0.000335              0.001281   \n",
       "0              0.000024              0.000071              0.000285   \n",
       "0              0.000213              0.000983              0.005409   \n",
       "\n",
       "   0_Wavelet variance_3  0_Wavelet variance_4  0_Wavelet variance_5  \\\n",
       "0              0.055860              0.099916              0.174329   \n",
       "0              0.006272              0.014040              0.025732   \n",
       "0              0.013312              0.033690              0.070172   \n",
       "0              0.019862              0.048748              0.096976   \n",
       "0              0.014340              0.031539              0.056543   \n",
       "0              0.008485              0.021723              0.045328   \n",
       "0              0.004263              0.011404              0.024811   \n",
       "0              0.006125              0.015486              0.032576   \n",
       "0              0.002796              0.007079              0.014829   \n",
       "0              0.003586              0.008916              0.018162   \n",
       "0              0.002635              0.006528              0.013567   \n",
       "0              0.007855              0.020383              0.043147   \n",
       "0              0.005205              0.014144              0.031075   \n",
       "0              0.003840              0.009252              0.018813   \n",
       "0              0.000922              0.002329              0.004903   \n",
       "0              0.018696              0.047824              0.100016   \n",
       "\n",
       "   0_Wavelet variance_6  0_Wavelet variance_7  0_Wavelet variance_8  out  \n",
       "0              0.286124              0.435049              0.616265    1  \n",
       "0              0.041241              0.060129              0.081773    1  \n",
       "0              0.127556              0.209881              0.320323    1  \n",
       "0              0.165368              0.250962              0.348279    1  \n",
       "0              0.088266              0.124700              0.163333    1  \n",
       "0              0.082091              0.134105              0.202717    1  \n",
       "0              0.046806              0.079627              0.125302    1  \n",
       "0              0.059950              0.099870              0.154105    1  \n",
       "0              0.027153              0.045034              0.069278    0  \n",
       "0              0.032233              0.051794              0.077272    0  \n",
       "0              0.024826              0.041231              0.063444    0  \n",
       "0              0.079125              0.130525              0.198618    0  \n",
       "0              0.058860              0.099956              0.156126    0  \n",
       "0              0.033681              0.054777              0.082756    0  \n",
       "0              0.009043              0.015102              0.023354    0  \n",
       "0              0.181489              0.296795              0.448681    0  \n",
       "\n",
       "[16 rows x 2017 columns]"
      ]
     },
     "execution_count": 226,
     "metadata": {},
     "output_type": "execute_result"
    }
   ],
   "source": [
    "New_df2"
   ]
  },
  {
   "cell_type": "code",
   "execution_count": null,
   "metadata": {},
   "outputs": [],
   "source": []
  }
 ],
 "metadata": {
  "interpreter": {
   "hash": "41dbb3ea2c53b2d1632921de81f0ef81210443aa957bb432b85b26327cc304c9"
  },
  "kernelspec": {
   "display_name": "Python 3.8.8 ('base')",
   "language": "python",
   "name": "python3"
  },
  "language_info": {
   "codemirror_mode": {
    "name": "ipython",
    "version": 3
   },
   "file_extension": ".py",
   "mimetype": "text/x-python",
   "name": "python",
   "nbconvert_exporter": "python",
   "pygments_lexer": "ipython3",
   "version": "3.8.8"
  },
  "orig_nbformat": 4
 },
 "nbformat": 4,
 "nbformat_minor": 2
}
