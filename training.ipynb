{
 "cells": [
  {
   "cell_type": "markdown",
   "metadata": {},
   "source": [
    "Librerias"
   ]
  },
  {
   "cell_type": "code",
   "execution_count": 10,
   "metadata": {},
   "outputs": [],
   "source": [
    "import numpy as np\n",
    "import pandas as pd\n",
    "import matplotlib.pyplot as plt\n",
    "from sklearn.ensemble import RandomForestClassifier\n",
    "from sklearn.metrics import classification_report, confusion_matrix\n",
    "from sklearn.model_selection import train_test_split"
   ]
  },
  {
   "cell_type": "markdown",
   "metadata": {},
   "source": [
    "# Temporales"
   ]
  },
  {
   "cell_type": "code",
   "execution_count": 2,
   "metadata": {},
   "outputs": [],
   "source": [
    "df=pd.read_csv(\"dataFeat00.csv\")"
   ]
  },
  {
   "cell_type": "code",
   "execution_count": 3,
   "metadata": {},
   "outputs": [
    {
     "data": {
      "text/html": [
       "<div>\n",
       "<style scoped>\n",
       "    .dataframe tbody tr th:only-of-type {\n",
       "        vertical-align: middle;\n",
       "    }\n",
       "\n",
       "    .dataframe tbody tr th {\n",
       "        vertical-align: top;\n",
       "    }\n",
       "\n",
       "    .dataframe thead th {\n",
       "        text-align: right;\n",
       "    }\n",
       "</style>\n",
       "<table border=\"1\" class=\"dataframe\">\n",
       "  <thead>\n",
       "    <tr style=\"text-align: right;\">\n",
       "      <th></th>\n",
       "      <th>0_Absolute energy</th>\n",
       "      <th>0_Area under the curve</th>\n",
       "      <th>0_Autocorrelation</th>\n",
       "      <th>0_Centroid</th>\n",
       "      <th>0_Entropy</th>\n",
       "      <th>0_Mean absolute diff</th>\n",
       "      <th>0_Mean diff</th>\n",
       "      <th>0_Median absolute diff</th>\n",
       "      <th>0_Median diff</th>\n",
       "      <th>0_Negative turning points</th>\n",
       "      <th>...</th>\n",
       "      <th>0_Negative turning points.5</th>\n",
       "      <th>0_Neighbourhood peaks.5</th>\n",
       "      <th>0_Peak to peak distance.5</th>\n",
       "      <th>0_Positive turning points.5</th>\n",
       "      <th>0_Signal distance.5</th>\n",
       "      <th>0_Slope.5</th>\n",
       "      <th>0_Sum absolute diff.5</th>\n",
       "      <th>0_Total energy.5</th>\n",
       "      <th>0_Zero crossing rate.5</th>\n",
       "      <th>out</th>\n",
       "    </tr>\n",
       "  </thead>\n",
       "  <tbody>\n",
       "    <tr>\n",
       "      <th>0</th>\n",
       "      <td>142365.0174</td>\n",
       "      <td>286.28765</td>\n",
       "      <td>142365.0174</td>\n",
       "      <td>148.380897</td>\n",
       "      <td>0.536766</td>\n",
       "      <td>0.068391</td>\n",
       "      <td>0.000006</td>\n",
       "      <td>0.0</td>\n",
       "      <td>0.0</td>\n",
       "      <td>121.0</td>\n",
       "      <td>...</td>\n",
       "      <td>30.0</td>\n",
       "      <td>12.0</td>\n",
       "      <td>16.58</td>\n",
       "      <td>26.0</td>\n",
       "      <td>30772.740382</td>\n",
       "      <td>1.959646e-06</td>\n",
       "      <td>267.32</td>\n",
       "      <td>36.060530</td>\n",
       "      <td>422.0</td>\n",
       "      <td>1</td>\n",
       "    </tr>\n",
       "    <tr>\n",
       "      <th>1</th>\n",
       "      <td>200857.1379</td>\n",
       "      <td>472.59640</td>\n",
       "      <td>200857.1379</td>\n",
       "      <td>150.243476</td>\n",
       "      <td>0.608193</td>\n",
       "      <td>0.072566</td>\n",
       "      <td>-0.000019</td>\n",
       "      <td>0.0</td>\n",
       "      <td>0.0</td>\n",
       "      <td>3.0</td>\n",
       "      <td>...</td>\n",
       "      <td>145.0</td>\n",
       "      <td>32.0</td>\n",
       "      <td>10.02</td>\n",
       "      <td>133.0</td>\n",
       "      <td>30221.612917</td>\n",
       "      <td>-2.278738e-06</td>\n",
       "      <td>395.44</td>\n",
       "      <td>81.343710</td>\n",
       "      <td>839.0</td>\n",
       "      <td>1</td>\n",
       "    </tr>\n",
       "    <tr>\n",
       "      <th>2</th>\n",
       "      <td>17428.5243</td>\n",
       "      <td>104.19660</td>\n",
       "      <td>17428.5243</td>\n",
       "      <td>60.685034</td>\n",
       "      <td>0.605717</td>\n",
       "      <td>0.061699</td>\n",
       "      <td>0.000023</td>\n",
       "      <td>0.0</td>\n",
       "      <td>0.0</td>\n",
       "      <td>136.0</td>\n",
       "      <td>...</td>\n",
       "      <td>11.0</td>\n",
       "      <td>12.0</td>\n",
       "      <td>2.47</td>\n",
       "      <td>18.0</td>\n",
       "      <td>14564.629231</td>\n",
       "      <td>-8.298997e-07</td>\n",
       "      <td>95.32</td>\n",
       "      <td>4.821618</td>\n",
       "      <td>289.0</td>\n",
       "      <td>1</td>\n",
       "    </tr>\n",
       "    <tr>\n",
       "      <th>3</th>\n",
       "      <td>143933.2155</td>\n",
       "      <td>492.42680</td>\n",
       "      <td>143933.2155</td>\n",
       "      <td>355.427154</td>\n",
       "      <td>0.488515</td>\n",
       "      <td>0.036480</td>\n",
       "      <td>0.000004</td>\n",
       "      <td>0.0</td>\n",
       "      <td>0.0</td>\n",
       "      <td>325.0</td>\n",
       "      <td>...</td>\n",
       "      <td>174.0</td>\n",
       "      <td>33.0</td>\n",
       "      <td>12.17</td>\n",
       "      <td>170.0</td>\n",
       "      <td>79885.731347</td>\n",
       "      <td>2.104734e-06</td>\n",
       "      <td>492.84</td>\n",
       "      <td>29.625755</td>\n",
       "      <td>1309.0</td>\n",
       "      <td>1</td>\n",
       "    </tr>\n",
       "    <tr>\n",
       "      <th>4</th>\n",
       "      <td>29660.6292</td>\n",
       "      <td>142.08075</td>\n",
       "      <td>29660.6292</td>\n",
       "      <td>87.713568</td>\n",
       "      <td>0.611549</td>\n",
       "      <td>0.075822</td>\n",
       "      <td>0.000016</td>\n",
       "      <td>0.0</td>\n",
       "      <td>0.0</td>\n",
       "      <td>152.0</td>\n",
       "      <td>...</td>\n",
       "      <td>19.0</td>\n",
       "      <td>22.0</td>\n",
       "      <td>2.12</td>\n",
       "      <td>27.0</td>\n",
       "      <td>16932.717928</td>\n",
       "      <td>-4.184387e-07</td>\n",
       "      <td>141.91</td>\n",
       "      <td>4.430320</td>\n",
       "      <td>483.0</td>\n",
       "      <td>1</td>\n",
       "    </tr>\n",
       "  </tbody>\n",
       "</table>\n",
       "<p>5 rows × 109 columns</p>\n",
       "</div>"
      ],
      "text/plain": [
       "   0_Absolute energy  0_Area under the curve  0_Autocorrelation  0_Centroid  \\\n",
       "0        142365.0174               286.28765        142365.0174  148.380897   \n",
       "1        200857.1379               472.59640        200857.1379  150.243476   \n",
       "2         17428.5243               104.19660         17428.5243   60.685034   \n",
       "3        143933.2155               492.42680        143933.2155  355.427154   \n",
       "4         29660.6292               142.08075         29660.6292   87.713568   \n",
       "\n",
       "   0_Entropy  0_Mean absolute diff  0_Mean diff  0_Median absolute diff  \\\n",
       "0   0.536766              0.068391     0.000006                     0.0   \n",
       "1   0.608193              0.072566    -0.000019                     0.0   \n",
       "2   0.605717              0.061699     0.000023                     0.0   \n",
       "3   0.488515              0.036480     0.000004                     0.0   \n",
       "4   0.611549              0.075822     0.000016                     0.0   \n",
       "\n",
       "   0_Median diff  0_Negative turning points  ...  0_Negative turning points.5  \\\n",
       "0            0.0                      121.0  ...                         30.0   \n",
       "1            0.0                        3.0  ...                        145.0   \n",
       "2            0.0                      136.0  ...                         11.0   \n",
       "3            0.0                      325.0  ...                        174.0   \n",
       "4            0.0                      152.0  ...                         19.0   \n",
       "\n",
       "   0_Neighbourhood peaks.5  0_Peak to peak distance.5  \\\n",
       "0                     12.0                      16.58   \n",
       "1                     32.0                      10.02   \n",
       "2                     12.0                       2.47   \n",
       "3                     33.0                      12.17   \n",
       "4                     22.0                       2.12   \n",
       "\n",
       "   0_Positive turning points.5  0_Signal distance.5     0_Slope.5  \\\n",
       "0                         26.0         30772.740382  1.959646e-06   \n",
       "1                        133.0         30221.612917 -2.278738e-06   \n",
       "2                         18.0         14564.629231 -8.298997e-07   \n",
       "3                        170.0         79885.731347  2.104734e-06   \n",
       "4                         27.0         16932.717928 -4.184387e-07   \n",
       "\n",
       "   0_Sum absolute diff.5  0_Total energy.5  0_Zero crossing rate.5  out  \n",
       "0                 267.32         36.060530                   422.0    1  \n",
       "1                 395.44         81.343710                   839.0    1  \n",
       "2                  95.32          4.821618                   289.0    1  \n",
       "3                 492.84         29.625755                  1309.0    1  \n",
       "4                 141.91          4.430320                   483.0    1  \n",
       "\n",
       "[5 rows x 109 columns]"
      ]
     },
     "execution_count": 3,
     "metadata": {},
     "output_type": "execute_result"
    }
   ],
   "source": [
    "df.head()"
   ]
  },
  {
   "cell_type": "code",
   "execution_count": 9,
   "metadata": {},
   "outputs": [],
   "source": [
    "X=df.loc[:, df.columns != \"out\"] #asignandole todas las variables menos la salida\n",
    "y=df['out']"
   ]
  },
  {
   "cell_type": "code",
   "execution_count": 11,
   "metadata": {},
   "outputs": [],
   "source": [
    "\n",
    "#X_train, X_test, y_train, y_test = train_test_split( X, y, test_size=0.2, random_state=0)"
   ]
  },
  {
   "cell_type": "code",
   "execution_count": 12,
   "metadata": {},
   "outputs": [],
   "source": [
    "X_train, X_test, y_train, y_test = train_test_split( X, y, test_size=0.2, random_state=0)\n",
    "clf=RandomForestClassifier(random_state=100, n_estimators=50)"
   ]
  },
  {
   "cell_type": "code",
   "execution_count": 13,
   "metadata": {},
   "outputs": [
    {
     "data": {
      "text/plain": [
       "RandomForestClassifier(n_estimators=50, random_state=100)"
      ]
     },
     "execution_count": 13,
     "metadata": {},
     "output_type": "execute_result"
    }
   ],
   "source": [
    "clf.fit(X_train,y_train)"
   ]
  },
  {
   "cell_type": "code",
   "execution_count": 16,
   "metadata": {},
   "outputs": [
    {
     "name": "stdout",
     "output_type": "stream",
     "text": [
      "[0 1 0 0]\n"
     ]
    }
   ],
   "source": [
    "predictions=clf.predict(X_test)\n",
    "print(predictions)"
   ]
  },
  {
   "cell_type": "code",
   "execution_count": 17,
   "metadata": {},
   "outputs": [],
   "source": [
    "cm = confusion_matrix(y_test, predictions).ravel()"
   ]
  },
  {
   "cell_type": "code",
   "execution_count": 19,
   "metadata": {},
   "outputs": [
    {
     "name": "stdout",
     "output_type": "stream",
     "text": [
      "              precision    recall  f1-score   support\n",
      "\n",
      "           0       0.67      1.00      0.80         2\n",
      "           1       1.00      0.50      0.67         2\n",
      "\n",
      "    accuracy                           0.75         4\n",
      "   macro avg       0.83      0.75      0.73         4\n",
      "weighted avg       0.83      0.75      0.73         4\n",
      "\n"
     ]
    }
   ],
   "source": [
    "print(classification_report(y_test, predictions))"
   ]
  },
  {
   "cell_type": "markdown",
   "metadata": {},
   "source": [
    "# Con statistical"
   ]
  },
  {
   "cell_type": "code",
   "execution_count": 20,
   "metadata": {},
   "outputs": [],
   "source": [
    "df=pd.read_csv(\"dataFeatStats.csv\")"
   ]
  },
  {
   "cell_type": "code",
   "execution_count": 21,
   "metadata": {},
   "outputs": [
    {
     "data": {
      "text/html": [
       "<div>\n",
       "<style scoped>\n",
       "    .dataframe tbody tr th:only-of-type {\n",
       "        vertical-align: middle;\n",
       "    }\n",
       "\n",
       "    .dataframe tbody tr th {\n",
       "        vertical-align: top;\n",
       "    }\n",
       "\n",
       "    .dataframe thead th {\n",
       "        text-align: right;\n",
       "    }\n",
       "</style>\n",
       "<table border=\"1\" class=\"dataframe\">\n",
       "  <thead>\n",
       "    <tr style=\"text-align: right;\">\n",
       "      <th></th>\n",
       "      <th>0_ECDF_0</th>\n",
       "      <th>0_ECDF_1</th>\n",
       "      <th>0_ECDF_2</th>\n",
       "      <th>0_ECDF_3</th>\n",
       "      <th>0_ECDF_4</th>\n",
       "      <th>0_ECDF_5</th>\n",
       "      <th>0_ECDF_6</th>\n",
       "      <th>0_ECDF_7</th>\n",
       "      <th>0_ECDF_8</th>\n",
       "      <th>0_ECDF_9</th>\n",
       "      <th>...</th>\n",
       "      <th>0_Mean.5</th>\n",
       "      <th>0_Mean absolute deviation.5</th>\n",
       "      <th>0_Median.5</th>\n",
       "      <th>0_Median absolute deviation.5</th>\n",
       "      <th>0_Min.5</th>\n",
       "      <th>0_Root mean square.5</th>\n",
       "      <th>0_Skewness.5</th>\n",
       "      <th>0_Standard deviation.5</th>\n",
       "      <th>0_Variance.5</th>\n",
       "      <th>out</th>\n",
       "    </tr>\n",
       "  </thead>\n",
       "  <tbody>\n",
       "    <tr>\n",
       "      <th>0</th>\n",
       "      <td>0.000033</td>\n",
       "      <td>0.000065</td>\n",
       "      <td>0.000098</td>\n",
       "      <td>0.000130</td>\n",
       "      <td>0.000163</td>\n",
       "      <td>0.000195</td>\n",
       "      <td>0.000228</td>\n",
       "      <td>0.000260</td>\n",
       "      <td>0.000293</td>\n",
       "      <td>0.000325</td>\n",
       "      <td>...</td>\n",
       "      <td>0.016680</td>\n",
       "      <td>0.248134</td>\n",
       "      <td>0.00</td>\n",
       "      <td>0.06</td>\n",
       "      <td>-6.52</td>\n",
       "      <td>0.600494</td>\n",
       "      <td>3.286097</td>\n",
       "      <td>0.600263</td>\n",
       "      <td>0.360315</td>\n",
       "      <td>1</td>\n",
       "    </tr>\n",
       "    <tr>\n",
       "      <th>1</th>\n",
       "      <td>0.000069</td>\n",
       "      <td>0.000137</td>\n",
       "      <td>0.000206</td>\n",
       "      <td>0.000275</td>\n",
       "      <td>0.000343</td>\n",
       "      <td>0.000412</td>\n",
       "      <td>0.000481</td>\n",
       "      <td>0.000549</td>\n",
       "      <td>0.000618</td>\n",
       "      <td>0.000687</td>\n",
       "      <td>...</td>\n",
       "      <td>-0.017582</td>\n",
       "      <td>0.154211</td>\n",
       "      <td>-0.01</td>\n",
       "      <td>0.12</td>\n",
       "      <td>-1.25</td>\n",
       "      <td>0.219574</td>\n",
       "      <td>-0.154691</td>\n",
       "      <td>0.218869</td>\n",
       "      <td>0.047904</td>\n",
       "      <td>1</td>\n",
       "    </tr>\n",
       "    <tr>\n",
       "      <th>2</th>\n",
       "      <td>0.000033</td>\n",
       "      <td>0.000066</td>\n",
       "      <td>0.000099</td>\n",
       "      <td>0.000132</td>\n",
       "      <td>0.000166</td>\n",
       "      <td>0.000199</td>\n",
       "      <td>0.000232</td>\n",
       "      <td>0.000265</td>\n",
       "      <td>0.000298</td>\n",
       "      <td>0.000331</td>\n",
       "      <td>...</td>\n",
       "      <td>0.068779</td>\n",
       "      <td>0.531053</td>\n",
       "      <td>0.00</td>\n",
       "      <td>0.20</td>\n",
       "      <td>-4.74</td>\n",
       "      <td>0.901893</td>\n",
       "      <td>1.062213</td>\n",
       "      <td>0.899266</td>\n",
       "      <td>0.808680</td>\n",
       "      <td>1</td>\n",
       "    </tr>\n",
       "    <tr>\n",
       "      <th>3</th>\n",
       "      <td>0.000013</td>\n",
       "      <td>0.000025</td>\n",
       "      <td>0.000038</td>\n",
       "      <td>0.000050</td>\n",
       "      <td>0.000063</td>\n",
       "      <td>0.000075</td>\n",
       "      <td>0.000088</td>\n",
       "      <td>0.000100</td>\n",
       "      <td>0.000113</td>\n",
       "      <td>0.000125</td>\n",
       "      <td>...</td>\n",
       "      <td>0.004184</td>\n",
       "      <td>0.242517</td>\n",
       "      <td>0.00</td>\n",
       "      <td>0.09</td>\n",
       "      <td>-2.75</td>\n",
       "      <td>0.544292</td>\n",
       "      <td>4.218091</td>\n",
       "      <td>0.544276</td>\n",
       "      <td>0.296236</td>\n",
       "      <td>1</td>\n",
       "    </tr>\n",
       "    <tr>\n",
       "      <th>4</th>\n",
       "      <td>0.000059</td>\n",
       "      <td>0.000118</td>\n",
       "      <td>0.000177</td>\n",
       "      <td>0.000236</td>\n",
       "      <td>0.000295</td>\n",
       "      <td>0.000354</td>\n",
       "      <td>0.000413</td>\n",
       "      <td>0.000473</td>\n",
       "      <td>0.000532</td>\n",
       "      <td>0.000591</td>\n",
       "      <td>...</td>\n",
       "      <td>-0.019009</td>\n",
       "      <td>0.147293</td>\n",
       "      <td>0.00</td>\n",
       "      <td>0.10</td>\n",
       "      <td>-1.08</td>\n",
       "      <td>0.210477</td>\n",
       "      <td>-0.561748</td>\n",
       "      <td>0.209617</td>\n",
       "      <td>0.043939</td>\n",
       "      <td>1</td>\n",
       "    </tr>\n",
       "  </tbody>\n",
       "</table>\n",
       "<p>5 rows × 217 columns</p>\n",
       "</div>"
      ],
      "text/plain": [
       "   0_ECDF_0  0_ECDF_1  0_ECDF_2  0_ECDF_3  0_ECDF_4  0_ECDF_5  0_ECDF_6  \\\n",
       "0  0.000033  0.000065  0.000098  0.000130  0.000163  0.000195  0.000228   \n",
       "1  0.000069  0.000137  0.000206  0.000275  0.000343  0.000412  0.000481   \n",
       "2  0.000033  0.000066  0.000099  0.000132  0.000166  0.000199  0.000232   \n",
       "3  0.000013  0.000025  0.000038  0.000050  0.000063  0.000075  0.000088   \n",
       "4  0.000059  0.000118  0.000177  0.000236  0.000295  0.000354  0.000413   \n",
       "\n",
       "   0_ECDF_7  0_ECDF_8  0_ECDF_9  ...  0_Mean.5  0_Mean absolute deviation.5  \\\n",
       "0  0.000260  0.000293  0.000325  ...  0.016680                     0.248134   \n",
       "1  0.000549  0.000618  0.000687  ... -0.017582                     0.154211   \n",
       "2  0.000265  0.000298  0.000331  ...  0.068779                     0.531053   \n",
       "3  0.000100  0.000113  0.000125  ...  0.004184                     0.242517   \n",
       "4  0.000473  0.000532  0.000591  ... -0.019009                     0.147293   \n",
       "\n",
       "   0_Median.5  0_Median absolute deviation.5  0_Min.5  0_Root mean square.5  \\\n",
       "0        0.00                           0.06    -6.52              0.600494   \n",
       "1       -0.01                           0.12    -1.25              0.219574   \n",
       "2        0.00                           0.20    -4.74              0.901893   \n",
       "3        0.00                           0.09    -2.75              0.544292   \n",
       "4        0.00                           0.10    -1.08              0.210477   \n",
       "\n",
       "   0_Skewness.5  0_Standard deviation.5  0_Variance.5  out  \n",
       "0      3.286097                0.600263      0.360315    1  \n",
       "1     -0.154691                0.218869      0.047904    1  \n",
       "2      1.062213                0.899266      0.808680    1  \n",
       "3      4.218091                0.544276      0.296236    1  \n",
       "4     -0.561748                0.209617      0.043939    1  \n",
       "\n",
       "[5 rows x 217 columns]"
      ]
     },
     "execution_count": 21,
     "metadata": {},
     "output_type": "execute_result"
    }
   ],
   "source": [
    "df.head()"
   ]
  },
  {
   "cell_type": "code",
   "execution_count": 23,
   "metadata": {},
   "outputs": [],
   "source": [
    "X=df.loc[:, df.columns != \"out\"] #asignandole todas las variables menos la salida\n",
    "y=df['out']"
   ]
  },
  {
   "cell_type": "code",
   "execution_count": 51,
   "metadata": {},
   "outputs": [],
   "source": [
    "X_train, X_test, y_train, y_test = train_test_split( X, y, test_size=0.2,random_state=0, shuffle=True)\n",
    "clf=RandomForestClassifier(random_state=100, n_estimators=100)"
   ]
  },
  {
   "cell_type": "code",
   "execution_count": 52,
   "metadata": {},
   "outputs": [
    {
     "data": {
      "text/plain": [
       "RandomForestClassifier(n_estimators=50, random_state=100)"
      ]
     },
     "execution_count": 52,
     "metadata": {},
     "output_type": "execute_result"
    }
   ],
   "source": [
    "clf.fit(X_train,y_train)"
   ]
  },
  {
   "cell_type": "code",
   "execution_count": 53,
   "metadata": {},
   "outputs": [
    {
     "name": "stdout",
     "output_type": "stream",
     "text": [
      "[0 0 1 0]\n"
     ]
    }
   ],
   "source": [
    "predictions=clf.predict(X_test)\n",
    "print(predictions)"
   ]
  },
  {
   "cell_type": "code",
   "execution_count": 54,
   "metadata": {},
   "outputs": [
    {
     "data": {
      "text/plain": [
       "array([1, 1, 2, 0], dtype=int64)"
      ]
     },
     "execution_count": 54,
     "metadata": {},
     "output_type": "execute_result"
    }
   ],
   "source": [
    "cm = confusion_matrix(y_test, predictions).ravel()\n",
    "cm"
   ]
  },
  {
   "cell_type": "code",
   "execution_count": 55,
   "metadata": {},
   "outputs": [
    {
     "name": "stdout",
     "output_type": "stream",
     "text": [
      "              precision    recall  f1-score   support\n",
      "\n",
      "           0       0.33      0.50      0.40         2\n",
      "           1       0.00      0.00      0.00         2\n",
      "\n",
      "    accuracy                           0.25         4\n",
      "   macro avg       0.17      0.25      0.20         4\n",
      "weighted avg       0.17      0.25      0.20         4\n",
      "\n"
     ]
    }
   ],
   "source": [
    "print(classification_report(y_test, predictions))"
   ]
  },
  {
   "cell_type": "markdown",
   "metadata": {},
   "source": [
    "# Espectrales"
   ]
  },
  {
   "cell_type": "code",
   "execution_count": 60,
   "metadata": {},
   "outputs": [],
   "source": [
    "df=pd.read_csv(\"dataFeatSpect.csv\")"
   ]
  },
  {
   "cell_type": "code",
   "execution_count": 61,
   "metadata": {},
   "outputs": [],
   "source": [
    "X=df.loc[:, df.columns != \"out\"] #asignandole todas las variables menos la salida\n",
    "y=df['out']"
   ]
  },
  {
   "cell_type": "code",
   "execution_count": 65,
   "metadata": {},
   "outputs": [],
   "source": [
    "X_train, X_test, y_train, y_test = train_test_split( X, y, test_size=0.2,random_state=0, shuffle=True)\n",
    "clf=RandomForestClassifier(random_state=100, n_estimators=100)"
   ]
  },
  {
   "cell_type": "code",
   "execution_count": 66,
   "metadata": {},
   "outputs": [
    {
     "data": {
      "text/plain": [
       "RandomForestClassifier(random_state=100)"
      ]
     },
     "execution_count": 66,
     "metadata": {},
     "output_type": "execute_result"
    }
   ],
   "source": [
    "clf.fit(X_train,y_train)"
   ]
  },
  {
   "cell_type": "code",
   "execution_count": 67,
   "metadata": {},
   "outputs": [
    {
     "name": "stdout",
     "output_type": "stream",
     "text": [
      "[0 0 0 0]\n"
     ]
    }
   ],
   "source": [
    "predictions=clf.predict(X_test)\n",
    "print(predictions)"
   ]
  },
  {
   "cell_type": "code",
   "execution_count": 68,
   "metadata": {},
   "outputs": [
    {
     "data": {
      "text/plain": [
       "array([2, 0, 2, 0], dtype=int64)"
      ]
     },
     "execution_count": 68,
     "metadata": {},
     "output_type": "execute_result"
    }
   ],
   "source": [
    "cm = confusion_matrix(y_test, predictions).ravel()\n",
    "cm"
   ]
  },
  {
   "cell_type": "code",
   "execution_count": 69,
   "metadata": {},
   "outputs": [
    {
     "name": "stdout",
     "output_type": "stream",
     "text": [
      "              precision    recall  f1-score   support\n",
      "\n",
      "           0       0.50      1.00      0.67         2\n",
      "           1       0.00      0.00      0.00         2\n",
      "\n",
      "    accuracy                           0.50         4\n",
      "   macro avg       0.25      0.50      0.33         4\n",
      "weighted avg       0.25      0.50      0.33         4\n",
      "\n"
     ]
    },
    {
     "name": "stderr",
     "output_type": "stream",
     "text": [
      "D:\\Users\\Esteban\\anaconda3\\lib\\site-packages\\sklearn\\metrics\\_classification.py:1245: UndefinedMetricWarning: Precision and F-score are ill-defined and being set to 0.0 in labels with no predicted samples. Use `zero_division` parameter to control this behavior.\n",
      "  _warn_prf(average, modifier, msg_start, len(result))\n",
      "D:\\Users\\Esteban\\anaconda3\\lib\\site-packages\\sklearn\\metrics\\_classification.py:1245: UndefinedMetricWarning: Precision and F-score are ill-defined and being set to 0.0 in labels with no predicted samples. Use `zero_division` parameter to control this behavior.\n",
      "  _warn_prf(average, modifier, msg_start, len(result))\n",
      "D:\\Users\\Esteban\\anaconda3\\lib\\site-packages\\sklearn\\metrics\\_classification.py:1245: UndefinedMetricWarning: Precision and F-score are ill-defined and being set to 0.0 in labels with no predicted samples. Use `zero_division` parameter to control this behavior.\n",
      "  _warn_prf(average, modifier, msg_start, len(result))\n"
     ]
    }
   ],
   "source": [
    "print(classification_report(y_test, predictions))"
   ]
  }
 ],
 "metadata": {
  "interpreter": {
   "hash": "41dbb3ea2c53b2d1632921de81f0ef81210443aa957bb432b85b26327cc304c9"
  },
  "kernelspec": {
   "display_name": "Python 3.8.8 ('base')",
   "language": "python",
   "name": "python3"
  },
  "language_info": {
   "codemirror_mode": {
    "name": "ipython",
    "version": 3
   },
   "file_extension": ".py",
   "mimetype": "text/x-python",
   "name": "python",
   "nbconvert_exporter": "python",
   "pygments_lexer": "ipython3",
   "version": "3.8.8"
  },
  "orig_nbformat": 4
 },
 "nbformat": 4,
 "nbformat_minor": 2
}
